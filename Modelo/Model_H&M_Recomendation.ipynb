{
 "cells": [
  {
   "cell_type": "markdown",
   "id": "english-bangkok",
   "metadata": {
    "papermill": {
     "duration": 0.02234,
     "end_time": "2022-04-30T17:34:06.627711",
     "exception": false,
     "start_time": "2022-04-30T17:34:06.605371",
     "status": "completed"
    },
    "tags": []
   },
   "source": [
    "# Capstone Project - H&M Recommendation\n",
    "\n",
    "Ana Berta Vegas; Ester Iglesias; Raquel Dominguez"
   ]
  },
  {
   "cell_type": "markdown",
   "id": "pharmaceutical-acrylic",
   "metadata": {},
   "source": [
    "## Model\n",
    "\n",
    "En aquest notebook presentem el model final del projecte. \n",
    "\n",
    "Recordem que l'objectiu del model és recomanar productes de H&M als seus clients. És a dir, donat un conjunt d'observacions usuari-article, proporcionar un ranking adequat per cada usuari.\n",
    "\n",
    "Per fer-ho, utilitzarem la llibreria de **TensorFlow Recommenders (TFRS)**, que permet crear models de sistemes de recomanació. \n",
    "\n",
    "En general, els sistemes de recomanació consten de dues fases:\n",
    "1. *Retrieval Stage*: en aquesta etapa es crea un model amb el qual s'obté un conjunt inicial de centenars de candidats, d'entre tots els candidats possibles. L'objectiu principal del model és eliminar de manera eficient tots els candidats pels quals l'usuari no estigui interessat.\n",
    "\n",
    "    Els *Retrieval Models* normalment consten de dos sub-models: *Query Model*: per les dades de consulta i *Candidate Model*: per les dades candidates. \n",
    "    \n",
    "    Per implementar-ho, utilitzarem els mòduls de TensorFlow següents: tfrs.tasks.Retrieval i tfrs.metrics.FactorizedTopK\n",
    "\n",
    "\n",
    "\n",
    "2. *Ranking Stage*: en aquesta etapa s'analitzen les sortides del Retrieval Model i s'afinen per seleccionar el millor conjunt de recomanacions. És a dir, l'objectiu principal d'aquesta fase és reduir el conjunt d'elements que poden interessar a l'usuari.\n",
    "\n",
    "    En aquest cas, per recuperar els millors candidats d'una consulta determinada, utilitzarem la llibreria de TensorFlow ScaNN. En concret, per cada usuari, recuperarem 12 etiquetes, que es corresponen als articles previstos que un client pot comprar en els següents 7 dies.\n",
    "\n"
   ]
  },
  {
   "cell_type": "markdown",
   "id": "random-pierre",
   "metadata": {},
   "source": [
    "En primer lloc, importem les llibreries necessàries per la creació del model:"
   ]
  },
  {
   "cell_type": "code",
   "execution_count": 1,
   "id": "painful-duncan",
   "metadata": {
    "_kg_hide-output": true,
    "execution": {
     "iopub.execute_input": "2022-04-30T17:34:06.670389Z",
     "iopub.status.busy": "2022-04-30T17:34:06.670047Z",
     "iopub.status.idle": "2022-04-30T17:35:57.154484Z",
     "shell.execute_reply": "2022-04-30T17:35:57.153372Z"
    },
    "papermill": {
     "duration": 110.509082,
     "end_time": "2022-04-30T17:35:57.157317",
     "exception": false,
     "start_time": "2022-04-30T17:34:06.648235",
     "status": "completed"
    },
    "tags": []
   },
   "outputs": [],
   "source": [
    "#!pip install -q tensorflow-recommenders\n",
    "#!pip install -q scann"
   ]
  },
  {
   "cell_type": "code",
   "execution_count": 2,
   "id": "described-donor",
   "metadata": {
    "_kg_hide-output": true,
    "execution": {
     "iopub.execute_input": "2022-04-30T17:35:57.201557Z",
     "iopub.status.busy": "2022-04-30T17:35:57.200888Z",
     "iopub.status.idle": "2022-04-30T17:36:02.141281Z",
     "shell.execute_reply": "2022-04-30T17:36:02.140090Z"
    },
    "papermill": {
     "duration": 4.964267,
     "end_time": "2022-04-30T17:36:02.144124",
     "exception": false,
     "start_time": "2022-04-30T17:35:57.179857",
     "status": "completed"
    },
    "tags": []
   },
   "outputs": [],
   "source": [
    "import pandas as pd\n",
    "import numpy as np\n",
    "import tensorflow as tf\n",
    "import tensorflow_recommenders as tfrs\n",
    "\n",
    "from pathlib import Path\n",
    "from typing import Dict, Text\n",
    "import matplotlib.pyplot as plt"
   ]
  },
  {
   "cell_type": "markdown",
   "id": "consistent-collect",
   "metadata": {
    "papermill": {
     "duration": 0.020329,
     "end_time": "2022-04-30T17:36:02.185079",
     "exception": false,
     "start_time": "2022-04-30T17:36:02.164750",
     "status": "completed"
    },
    "tags": []
   },
   "source": [
    "###  Datasets"
   ]
  },
  {
   "cell_type": "markdown",
   "id": "agreed-flight",
   "metadata": {},
   "source": [
    "**Transactions Dataset**\n",
    "\n",
    "Llegim el dataset de transaccions i el preparem pel model:"
   ]
  },
  {
   "cell_type": "code",
   "execution_count": 3,
   "id": "medical-shoulder",
   "metadata": {
    "execution": {
     "iopub.execute_input": "2022-04-30T17:36:02.226179Z",
     "iopub.status.busy": "2022-04-30T17:36:02.225882Z",
     "iopub.status.idle": "2022-04-30T17:37:23.796817Z",
     "shell.execute_reply": "2022-04-30T17:37:23.795832Z"
    },
    "papermill": {
     "duration": 81.61501,
     "end_time": "2022-04-30T17:37:23.819752",
     "exception": false,
     "start_time": "2022-04-30T17:36:02.204742",
     "status": "completed"
    },
    "tags": []
   },
   "outputs": [
    {
     "data": {
      "text/plain": [
       "(28813419, 5)"
      ]
     },
     "execution_count": 3,
     "metadata": {},
     "output_type": "execute_result"
    }
   ],
   "source": [
    "transactions = pd.read_csv('transactions_train_model.csv')\n",
    "transactions.shape"
   ]
  },
  {
   "cell_type": "code",
   "execution_count": 4,
   "id": "chinese-capability",
   "metadata": {},
   "outputs": [
    {
     "data": {
      "text/html": [
       "<div>\n",
       "<style scoped>\n",
       "    .dataframe tbody tr th:only-of-type {\n",
       "        vertical-align: middle;\n",
       "    }\n",
       "\n",
       "    .dataframe tbody tr th {\n",
       "        vertical-align: top;\n",
       "    }\n",
       "\n",
       "    .dataframe thead th {\n",
       "        text-align: right;\n",
       "    }\n",
       "</style>\n",
       "<table border=\"1\" class=\"dataframe\">\n",
       "  <thead>\n",
       "    <tr style=\"text-align: right;\">\n",
       "      <th></th>\n",
       "      <th>t_dat</th>\n",
       "      <th>customer_id</th>\n",
       "      <th>article_id</th>\n",
       "      <th>price</th>\n",
       "      <th>sales_channel_id</th>\n",
       "    </tr>\n",
       "  </thead>\n",
       "  <tbody>\n",
       "    <tr>\n",
       "      <th>0</th>\n",
       "      <td>2018-09-20</td>\n",
       "      <td>000058a12d5b43e67d225668fa1f8d618c13dc232df0ca...</td>\n",
       "      <td>663713001</td>\n",
       "      <td>0.050831</td>\n",
       "      <td>2</td>\n",
       "    </tr>\n",
       "    <tr>\n",
       "      <th>1</th>\n",
       "      <td>2018-09-20</td>\n",
       "      <td>000058a12d5b43e67d225668fa1f8d618c13dc232df0ca...</td>\n",
       "      <td>541518023</td>\n",
       "      <td>0.030492</td>\n",
       "      <td>2</td>\n",
       "    </tr>\n",
       "    <tr>\n",
       "      <th>2</th>\n",
       "      <td>2018-09-20</td>\n",
       "      <td>00007d2de826758b65a93dd24ce629ed66842531df6699...</td>\n",
       "      <td>505221004</td>\n",
       "      <td>0.015237</td>\n",
       "      <td>2</td>\n",
       "    </tr>\n",
       "    <tr>\n",
       "      <th>3</th>\n",
       "      <td>2018-09-20</td>\n",
       "      <td>00007d2de826758b65a93dd24ce629ed66842531df6699...</td>\n",
       "      <td>685687003</td>\n",
       "      <td>0.016932</td>\n",
       "      <td>2</td>\n",
       "    </tr>\n",
       "    <tr>\n",
       "      <th>4</th>\n",
       "      <td>2018-09-20</td>\n",
       "      <td>00007d2de826758b65a93dd24ce629ed66842531df6699...</td>\n",
       "      <td>685687004</td>\n",
       "      <td>0.016932</td>\n",
       "      <td>2</td>\n",
       "    </tr>\n",
       "    <tr>\n",
       "      <th>...</th>\n",
       "      <td>...</td>\n",
       "      <td>...</td>\n",
       "      <td>...</td>\n",
       "      <td>...</td>\n",
       "      <td>...</td>\n",
       "    </tr>\n",
       "    <tr>\n",
       "      <th>28813414</th>\n",
       "      <td>2020-09-22</td>\n",
       "      <td>fff2282977442e327b45d8c89afde25617d00124d0f999...</td>\n",
       "      <td>929511001</td>\n",
       "      <td>0.059305</td>\n",
       "      <td>2</td>\n",
       "    </tr>\n",
       "    <tr>\n",
       "      <th>28813415</th>\n",
       "      <td>2020-09-22</td>\n",
       "      <td>fff2282977442e327b45d8c89afde25617d00124d0f999...</td>\n",
       "      <td>891322004</td>\n",
       "      <td>0.042356</td>\n",
       "      <td>2</td>\n",
       "    </tr>\n",
       "    <tr>\n",
       "      <th>28813416</th>\n",
       "      <td>2020-09-22</td>\n",
       "      <td>fff380805474b287b05cb2a7507b9a013482f7dd0bce0e...</td>\n",
       "      <td>918325001</td>\n",
       "      <td>0.043203</td>\n",
       "      <td>1</td>\n",
       "    </tr>\n",
       "    <tr>\n",
       "      <th>28813417</th>\n",
       "      <td>2020-09-22</td>\n",
       "      <td>fff4d3a8b1f3b60af93e78c30a7cb4cf75edaf2590d3e5...</td>\n",
       "      <td>833459002</td>\n",
       "      <td>0.006763</td>\n",
       "      <td>1</td>\n",
       "    </tr>\n",
       "    <tr>\n",
       "      <th>28813418</th>\n",
       "      <td>2020-09-22</td>\n",
       "      <td>fffef3b6b73545df065b521e19f64bf6fe93bfd450ab20...</td>\n",
       "      <td>898573003</td>\n",
       "      <td>0.033881</td>\n",
       "      <td>2</td>\n",
       "    </tr>\n",
       "  </tbody>\n",
       "</table>\n",
       "<p>28813419 rows × 5 columns</p>\n",
       "</div>"
      ],
      "text/plain": [
       "               t_dat                                        customer_id  \\\n",
       "0         2018-09-20  000058a12d5b43e67d225668fa1f8d618c13dc232df0ca...   \n",
       "1         2018-09-20  000058a12d5b43e67d225668fa1f8d618c13dc232df0ca...   \n",
       "2         2018-09-20  00007d2de826758b65a93dd24ce629ed66842531df6699...   \n",
       "3         2018-09-20  00007d2de826758b65a93dd24ce629ed66842531df6699...   \n",
       "4         2018-09-20  00007d2de826758b65a93dd24ce629ed66842531df6699...   \n",
       "...              ...                                                ...   \n",
       "28813414  2020-09-22  fff2282977442e327b45d8c89afde25617d00124d0f999...   \n",
       "28813415  2020-09-22  fff2282977442e327b45d8c89afde25617d00124d0f999...   \n",
       "28813416  2020-09-22  fff380805474b287b05cb2a7507b9a013482f7dd0bce0e...   \n",
       "28813417  2020-09-22  fff4d3a8b1f3b60af93e78c30a7cb4cf75edaf2590d3e5...   \n",
       "28813418  2020-09-22  fffef3b6b73545df065b521e19f64bf6fe93bfd450ab20...   \n",
       "\n",
       "          article_id     price  sales_channel_id  \n",
       "0          663713001  0.050831                 2  \n",
       "1          541518023  0.030492                 2  \n",
       "2          505221004  0.015237                 2  \n",
       "3          685687003  0.016932                 2  \n",
       "4          685687004  0.016932                 2  \n",
       "...              ...       ...               ...  \n",
       "28813414   929511001  0.059305                 2  \n",
       "28813415   891322004  0.042356                 2  \n",
       "28813416   918325001  0.043203                 1  \n",
       "28813417   833459002  0.006763                 1  \n",
       "28813418   898573003  0.033881                 2  \n",
       "\n",
       "[28813419 rows x 5 columns]"
      ]
     },
     "execution_count": 4,
     "metadata": {},
     "output_type": "execute_result"
    }
   ],
   "source": [
    "transactions"
   ]
  },
  {
   "cell_type": "code",
   "execution_count": 5,
   "id": "arbitrary-registrar",
   "metadata": {},
   "outputs": [
    {
     "name": "stdout",
     "output_type": "stream",
     "text": [
      "<class 'pandas.core.frame.DataFrame'>\n",
      "RangeIndex: 28813419 entries, 0 to 28813418\n",
      "Data columns (total 5 columns):\n",
      " #   Column            Dtype  \n",
      "---  ------            -----  \n",
      " 0   t_dat             object \n",
      " 1   customer_id       object \n",
      " 2   article_id        int64  \n",
      " 3   price             float64\n",
      " 4   sales_channel_id  int64  \n",
      "dtypes: float64(1), int64(2), object(2)\n",
      "memory usage: 1.1+ GB\n"
     ]
    }
   ],
   "source": [
    "transactions.info()"
   ]
  },
  {
   "cell_type": "markdown",
   "id": "satisfied-queue",
   "metadata": {},
   "source": [
    "Observem que la variable que ens interessa *article_id* és de tipus numèrica, pel que la modifiquem a string:"
   ]
  },
  {
   "cell_type": "code",
   "execution_count": 6,
   "id": "bizarre-flight",
   "metadata": {},
   "outputs": [],
   "source": [
    "transactions['article_id'] = transactions['article_id'].astype(str)"
   ]
  },
  {
   "cell_type": "markdown",
   "id": "incredible-patent",
   "metadata": {},
   "source": [
    "A més, per tal d'unificar la nomenclatura de tots els *article_id*, afegim 0 inicials quan calgui, amb l'objectiu de tenir sempre el mateix número de caràcters:"
   ]
  },
  {
   "cell_type": "code",
   "execution_count": 7,
   "id": "compatible-malaysia",
   "metadata": {},
   "outputs": [],
   "source": [
    "transactions['article_id'] = transactions['article_id'].apply(lambda x: x.zfill(10))"
   ]
  },
  {
   "cell_type": "markdown",
   "id": "macro-refrigerator",
   "metadata": {},
   "source": [
    "Per motius de capacitat, ens quedem amb un \"sample\" del dataset, en aquest cas, l'últim any."
   ]
  },
  {
   "cell_type": "code",
   "execution_count": 8,
   "id": "settled-connecticut",
   "metadata": {},
   "outputs": [],
   "source": [
    "transactions = transactions[transactions['t_dat'] >='2019-09-22']"
   ]
  },
  {
   "cell_type": "markdown",
   "id": "touched-convention",
   "metadata": {},
   "source": [
    "Dividim ara, el dataset entre els conjunts de train i test. En un sistema de recomanació, una bona manera de dividir-lo és en un moment indicat T. És a dir, les dades fins al moment T s'utilitzen per prediure les següents observacions.\n",
    "\n",
    "En el nostre cas, agafarem les dades de l'últim mes com a dades de test i tota la resta d'observacions constituiran el dataset de train. En particular, tenim que *T=2020-09-01*."
   ]
  },
  {
   "cell_type": "code",
   "execution_count": 9,
   "id": "personal-chapter",
   "metadata": {},
   "outputs": [],
   "source": [
    "transactions_train = transactions[transactions['t_dat'] <='2020-09-01']"
   ]
  },
  {
   "cell_type": "code",
   "execution_count": 10,
   "id": "sustainable-generic",
   "metadata": {},
   "outputs": [
    {
     "data": {
      "text/html": [
       "<div>\n",
       "<style scoped>\n",
       "    .dataframe tbody tr th:only-of-type {\n",
       "        vertical-align: middle;\n",
       "    }\n",
       "\n",
       "    .dataframe tbody tr th {\n",
       "        vertical-align: top;\n",
       "    }\n",
       "\n",
       "    .dataframe thead th {\n",
       "        text-align: right;\n",
       "    }\n",
       "</style>\n",
       "<table border=\"1\" class=\"dataframe\">\n",
       "  <thead>\n",
       "    <tr style=\"text-align: right;\">\n",
       "      <th></th>\n",
       "      <th>t_dat</th>\n",
       "      <th>customer_id</th>\n",
       "      <th>article_id</th>\n",
       "      <th>price</th>\n",
       "      <th>sales_channel_id</th>\n",
       "    </tr>\n",
       "  </thead>\n",
       "  <tbody>\n",
       "    <tr>\n",
       "      <th>15249344</th>\n",
       "      <td>2019-09-22</td>\n",
       "      <td>000fb6e772c5d0023892065e659963da90b1866035558e...</td>\n",
       "      <td>0695632095</td>\n",
       "      <td>0.033881</td>\n",
       "      <td>2</td>\n",
       "    </tr>\n",
       "    <tr>\n",
       "      <th>15249345</th>\n",
       "      <td>2019-09-22</td>\n",
       "      <td>0014b19aa47d031d859ae8d8f776524cdd35349db69d64...</td>\n",
       "      <td>0787648001</td>\n",
       "      <td>0.016932</td>\n",
       "      <td>2</td>\n",
       "    </tr>\n",
       "    <tr>\n",
       "      <th>15249346</th>\n",
       "      <td>2019-09-22</td>\n",
       "      <td>0023f9e96ae935c11bc2c950f317b73facea404dde95a3...</td>\n",
       "      <td>0767496001</td>\n",
       "      <td>0.015237</td>\n",
       "      <td>1</td>\n",
       "    </tr>\n",
       "    <tr>\n",
       "      <th>15249347</th>\n",
       "      <td>2019-09-22</td>\n",
       "      <td>0023f9e96ae935c11bc2c950f317b73facea404dde95a3...</td>\n",
       "      <td>0766826002</td>\n",
       "      <td>0.050831</td>\n",
       "      <td>1</td>\n",
       "    </tr>\n",
       "    <tr>\n",
       "      <th>15249348</th>\n",
       "      <td>2019-09-22</td>\n",
       "      <td>0023f9e96ae935c11bc2c950f317b73facea404dde95a3...</td>\n",
       "      <td>0655710010</td>\n",
       "      <td>0.050831</td>\n",
       "      <td>1</td>\n",
       "    </tr>\n",
       "  </tbody>\n",
       "</table>\n",
       "</div>"
      ],
      "text/plain": [
       "               t_dat                                        customer_id  \\\n",
       "15249344  2019-09-22  000fb6e772c5d0023892065e659963da90b1866035558e...   \n",
       "15249345  2019-09-22  0014b19aa47d031d859ae8d8f776524cdd35349db69d64...   \n",
       "15249346  2019-09-22  0023f9e96ae935c11bc2c950f317b73facea404dde95a3...   \n",
       "15249347  2019-09-22  0023f9e96ae935c11bc2c950f317b73facea404dde95a3...   \n",
       "15249348  2019-09-22  0023f9e96ae935c11bc2c950f317b73facea404dde95a3...   \n",
       "\n",
       "          article_id     price  sales_channel_id  \n",
       "15249344  0695632095  0.033881                 2  \n",
       "15249345  0787648001  0.016932                 2  \n",
       "15249346  0767496001  0.015237                 1  \n",
       "15249347  0766826002  0.050831                 1  \n",
       "15249348  0655710010  0.050831                 1  "
      ]
     },
     "execution_count": 10,
     "metadata": {},
     "output_type": "execute_result"
    }
   ],
   "source": [
    "transactions_train.head()"
   ]
  },
  {
   "cell_type": "code",
   "execution_count": 11,
   "id": "amber-ethics",
   "metadata": {},
   "outputs": [],
   "source": [
    "transactions_test = transactions[transactions['t_dat'] >'2020-09-01']"
   ]
  },
  {
   "cell_type": "code",
   "execution_count": 12,
   "id": "informational-update",
   "metadata": {},
   "outputs": [
    {
     "data": {
      "text/html": [
       "<div>\n",
       "<style scoped>\n",
       "    .dataframe tbody tr th:only-of-type {\n",
       "        vertical-align: middle;\n",
       "    }\n",
       "\n",
       "    .dataframe tbody tr th {\n",
       "        vertical-align: top;\n",
       "    }\n",
       "\n",
       "    .dataframe thead th {\n",
       "        text-align: right;\n",
       "    }\n",
       "</style>\n",
       "<table border=\"1\" class=\"dataframe\">\n",
       "  <thead>\n",
       "    <tr style=\"text-align: right;\">\n",
       "      <th></th>\n",
       "      <th>t_dat</th>\n",
       "      <th>customer_id</th>\n",
       "      <th>article_id</th>\n",
       "      <th>price</th>\n",
       "      <th>sales_channel_id</th>\n",
       "    </tr>\n",
       "  </thead>\n",
       "  <tbody>\n",
       "    <tr>\n",
       "      <th>28120967</th>\n",
       "      <td>2020-09-02</td>\n",
       "      <td>0001f8cef6b9702d54abf66fd89eb21014bf98567065a9...</td>\n",
       "      <td>0820671001</td>\n",
       "      <td>0.016932</td>\n",
       "      <td>1</td>\n",
       "    </tr>\n",
       "    <tr>\n",
       "      <th>28120968</th>\n",
       "      <td>2020-09-02</td>\n",
       "      <td>0006bfcec82c6c132276c0a5549ae13645c9ab77b0243f...</td>\n",
       "      <td>0882354001</td>\n",
       "      <td>0.015237</td>\n",
       "      <td>2</td>\n",
       "    </tr>\n",
       "    <tr>\n",
       "      <th>28120969</th>\n",
       "      <td>2020-09-02</td>\n",
       "      <td>0006bfcec82c6c132276c0a5549ae13645c9ab77b0243f...</td>\n",
       "      <td>0817354001</td>\n",
       "      <td>0.025407</td>\n",
       "      <td>2</td>\n",
       "    </tr>\n",
       "    <tr>\n",
       "      <th>28120970</th>\n",
       "      <td>2020-09-02</td>\n",
       "      <td>000ed4cabda96069b547ae531c66de5f1bf6a7e5b83aa8...</td>\n",
       "      <td>0899002003</td>\n",
       "      <td>0.010153</td>\n",
       "      <td>1</td>\n",
       "    </tr>\n",
       "    <tr>\n",
       "      <th>28120971</th>\n",
       "      <td>2020-09-02</td>\n",
       "      <td>000ed4cabda96069b547ae531c66de5f1bf6a7e5b83aa8...</td>\n",
       "      <td>0862482007</td>\n",
       "      <td>0.010153</td>\n",
       "      <td>1</td>\n",
       "    </tr>\n",
       "  </tbody>\n",
       "</table>\n",
       "</div>"
      ],
      "text/plain": [
       "               t_dat                                        customer_id  \\\n",
       "28120967  2020-09-02  0001f8cef6b9702d54abf66fd89eb21014bf98567065a9...   \n",
       "28120968  2020-09-02  0006bfcec82c6c132276c0a5549ae13645c9ab77b0243f...   \n",
       "28120969  2020-09-02  0006bfcec82c6c132276c0a5549ae13645c9ab77b0243f...   \n",
       "28120970  2020-09-02  000ed4cabda96069b547ae531c66de5f1bf6a7e5b83aa8...   \n",
       "28120971  2020-09-02  000ed4cabda96069b547ae531c66de5f1bf6a7e5b83aa8...   \n",
       "\n",
       "          article_id     price  sales_channel_id  \n",
       "28120967  0820671001  0.016932                 1  \n",
       "28120968  0882354001  0.015237                 2  \n",
       "28120969  0817354001  0.025407                 2  \n",
       "28120970  0899002003  0.010153                 1  \n",
       "28120971  0862482007  0.010153                 1  "
      ]
     },
     "execution_count": 12,
     "metadata": {},
     "output_type": "execute_result"
    }
   ],
   "source": [
    "transactions_test.head()"
   ]
  },
  {
   "cell_type": "markdown",
   "id": "answering-instruction",
   "metadata": {},
   "source": [
    "**Customers Dataset**\n",
    "\n",
    "Llegim el dataset de customers:"
   ]
  },
  {
   "cell_type": "code",
   "execution_count": 13,
   "id": "small-packing",
   "metadata": {
    "execution": {
     "iopub.execute_input": "2022-04-30T17:37:23.864013Z",
     "iopub.status.busy": "2022-04-30T17:37:23.863738Z",
     "iopub.status.idle": "2022-04-30T17:37:30.210556Z",
     "shell.execute_reply": "2022-04-30T17:37:30.209362Z"
    },
    "papermill": {
     "duration": 6.373194,
     "end_time": "2022-04-30T17:37:30.213215",
     "exception": false,
     "start_time": "2022-04-30T17:37:23.840021",
     "status": "completed"
    },
    "tags": []
   },
   "outputs": [
    {
     "data": {
      "text/plain": [
       "(1371980, 7)"
      ]
     },
     "execution_count": 13,
     "metadata": {},
     "output_type": "execute_result"
    }
   ],
   "source": [
    "df_customer = pd.read_csv('customers_model.csv')\n",
    "df_customer.shape"
   ]
  },
  {
   "cell_type": "code",
   "execution_count": 14,
   "id": "listed-negotiation",
   "metadata": {},
   "outputs": [
    {
     "data": {
      "text/html": [
       "<div>\n",
       "<style scoped>\n",
       "    .dataframe tbody tr th:only-of-type {\n",
       "        vertical-align: middle;\n",
       "    }\n",
       "\n",
       "    .dataframe tbody tr th {\n",
       "        vertical-align: top;\n",
       "    }\n",
       "\n",
       "    .dataframe thead th {\n",
       "        text-align: right;\n",
       "    }\n",
       "</style>\n",
       "<table border=\"1\" class=\"dataframe\">\n",
       "  <thead>\n",
       "    <tr style=\"text-align: right;\">\n",
       "      <th></th>\n",
       "      <th>customer_id</th>\n",
       "      <th>FN</th>\n",
       "      <th>Active</th>\n",
       "      <th>club_member_status</th>\n",
       "      <th>fashion_news_frequency</th>\n",
       "      <th>age</th>\n",
       "      <th>postal_code</th>\n",
       "    </tr>\n",
       "  </thead>\n",
       "  <tbody>\n",
       "    <tr>\n",
       "      <th>0</th>\n",
       "      <td>00000dbacae5abe5e23885899a1fa44253a17956c6d1c3...</td>\n",
       "      <td>0.0</td>\n",
       "      <td>0.0</td>\n",
       "      <td>ACTIVE</td>\n",
       "      <td>none</td>\n",
       "      <td>49.0</td>\n",
       "      <td>52043ee2162cf5aa7ee79974281641c6f11a68d276429a...</td>\n",
       "    </tr>\n",
       "    <tr>\n",
       "      <th>1</th>\n",
       "      <td>0000423b00ade91418cceaf3b26c6af3dd342b51fd051e...</td>\n",
       "      <td>0.0</td>\n",
       "      <td>0.0</td>\n",
       "      <td>ACTIVE</td>\n",
       "      <td>none</td>\n",
       "      <td>25.0</td>\n",
       "      <td>2973abc54daa8a5f8ccfe9362140c63247c5eee03f1d93...</td>\n",
       "    </tr>\n",
       "    <tr>\n",
       "      <th>2</th>\n",
       "      <td>000058a12d5b43e67d225668fa1f8d618c13dc232df0ca...</td>\n",
       "      <td>0.0</td>\n",
       "      <td>0.0</td>\n",
       "      <td>ACTIVE</td>\n",
       "      <td>none</td>\n",
       "      <td>24.0</td>\n",
       "      <td>64f17e6a330a85798e4998f62d0930d14db8db1c054af6...</td>\n",
       "    </tr>\n",
       "    <tr>\n",
       "      <th>3</th>\n",
       "      <td>00005ca1c9ed5f5146b52ac8639a40ca9d57aeff4d1bd2...</td>\n",
       "      <td>0.0</td>\n",
       "      <td>0.0</td>\n",
       "      <td>ACTIVE</td>\n",
       "      <td>none</td>\n",
       "      <td>54.0</td>\n",
       "      <td>5d36574f52495e81f019b680c843c443bd343d5ca5b1c2...</td>\n",
       "    </tr>\n",
       "    <tr>\n",
       "      <th>4</th>\n",
       "      <td>00006413d8573cd20ed7128e53b7b13819fe5cfc2d801f...</td>\n",
       "      <td>1.0</td>\n",
       "      <td>1.0</td>\n",
       "      <td>ACTIVE</td>\n",
       "      <td>regularly</td>\n",
       "      <td>52.0</td>\n",
       "      <td>25fa5ddee9aac01b35208d01736e57942317d756b32ddd...</td>\n",
       "    </tr>\n",
       "    <tr>\n",
       "      <th>...</th>\n",
       "      <td>...</td>\n",
       "      <td>...</td>\n",
       "      <td>...</td>\n",
       "      <td>...</td>\n",
       "      <td>...</td>\n",
       "      <td>...</td>\n",
       "      <td>...</td>\n",
       "    </tr>\n",
       "    <tr>\n",
       "      <th>1371975</th>\n",
       "      <td>ffffbbf78b6eaac697a8a5dfbfd2bfa8113ee5b403e474...</td>\n",
       "      <td>0.0</td>\n",
       "      <td>0.0</td>\n",
       "      <td>ACTIVE</td>\n",
       "      <td>none</td>\n",
       "      <td>24.0</td>\n",
       "      <td>7aa399f7e669990daba2d92c577b52237380662f36480b...</td>\n",
       "    </tr>\n",
       "    <tr>\n",
       "      <th>1371976</th>\n",
       "      <td>ffffcd5046a6143d29a04fb8c424ce494a76e5cdf4fab5...</td>\n",
       "      <td>0.0</td>\n",
       "      <td>0.0</td>\n",
       "      <td>ACTIVE</td>\n",
       "      <td>none</td>\n",
       "      <td>21.0</td>\n",
       "      <td>3f47f1279beb72215f4de557d950e0bfa73789d24acb5e...</td>\n",
       "    </tr>\n",
       "    <tr>\n",
       "      <th>1371977</th>\n",
       "      <td>ffffcf35913a0bee60e8741cb2b4e78b8a98ee5ff2e6a1...</td>\n",
       "      <td>1.0</td>\n",
       "      <td>1.0</td>\n",
       "      <td>ACTIVE</td>\n",
       "      <td>regularly</td>\n",
       "      <td>21.0</td>\n",
       "      <td>4563fc79215672cd6a863f2b4bf56b8f898f2d96ed590e...</td>\n",
       "    </tr>\n",
       "    <tr>\n",
       "      <th>1371978</th>\n",
       "      <td>ffffd7744cebcf3aca44ae7049d2a94b87074c3d4ffe38...</td>\n",
       "      <td>1.0</td>\n",
       "      <td>1.0</td>\n",
       "      <td>ACTIVE</td>\n",
       "      <td>regularly</td>\n",
       "      <td>18.0</td>\n",
       "      <td>8892c18e9bc3dca6aa4000cb8094fc4b51ee8db2ed14d7...</td>\n",
       "    </tr>\n",
       "    <tr>\n",
       "      <th>1371979</th>\n",
       "      <td>ffffd9ac14e89946416d80e791d064701994755c3ab686...</td>\n",
       "      <td>0.0</td>\n",
       "      <td>0.0</td>\n",
       "      <td>PRE-CREATE</td>\n",
       "      <td>none</td>\n",
       "      <td>65.0</td>\n",
       "      <td>0a1a03306fb2f62164c2a439b38c0caa64b40deaae8687...</td>\n",
       "    </tr>\n",
       "  </tbody>\n",
       "</table>\n",
       "<p>1371980 rows × 7 columns</p>\n",
       "</div>"
      ],
      "text/plain": [
       "                                               customer_id   FN  Active  \\\n",
       "0        00000dbacae5abe5e23885899a1fa44253a17956c6d1c3...  0.0     0.0   \n",
       "1        0000423b00ade91418cceaf3b26c6af3dd342b51fd051e...  0.0     0.0   \n",
       "2        000058a12d5b43e67d225668fa1f8d618c13dc232df0ca...  0.0     0.0   \n",
       "3        00005ca1c9ed5f5146b52ac8639a40ca9d57aeff4d1bd2...  0.0     0.0   \n",
       "4        00006413d8573cd20ed7128e53b7b13819fe5cfc2d801f...  1.0     1.0   \n",
       "...                                                    ...  ...     ...   \n",
       "1371975  ffffbbf78b6eaac697a8a5dfbfd2bfa8113ee5b403e474...  0.0     0.0   \n",
       "1371976  ffffcd5046a6143d29a04fb8c424ce494a76e5cdf4fab5...  0.0     0.0   \n",
       "1371977  ffffcf35913a0bee60e8741cb2b4e78b8a98ee5ff2e6a1...  1.0     1.0   \n",
       "1371978  ffffd7744cebcf3aca44ae7049d2a94b87074c3d4ffe38...  1.0     1.0   \n",
       "1371979  ffffd9ac14e89946416d80e791d064701994755c3ab686...  0.0     0.0   \n",
       "\n",
       "        club_member_status fashion_news_frequency   age  \\\n",
       "0                   ACTIVE                   none  49.0   \n",
       "1                   ACTIVE                   none  25.0   \n",
       "2                   ACTIVE                   none  24.0   \n",
       "3                   ACTIVE                   none  54.0   \n",
       "4                   ACTIVE              regularly  52.0   \n",
       "...                    ...                    ...   ...   \n",
       "1371975             ACTIVE                   none  24.0   \n",
       "1371976             ACTIVE                   none  21.0   \n",
       "1371977             ACTIVE              regularly  21.0   \n",
       "1371978             ACTIVE              regularly  18.0   \n",
       "1371979         PRE-CREATE                   none  65.0   \n",
       "\n",
       "                                               postal_code  \n",
       "0        52043ee2162cf5aa7ee79974281641c6f11a68d276429a...  \n",
       "1        2973abc54daa8a5f8ccfe9362140c63247c5eee03f1d93...  \n",
       "2        64f17e6a330a85798e4998f62d0930d14db8db1c054af6...  \n",
       "3        5d36574f52495e81f019b680c843c443bd343d5ca5b1c2...  \n",
       "4        25fa5ddee9aac01b35208d01736e57942317d756b32ddd...  \n",
       "...                                                    ...  \n",
       "1371975  7aa399f7e669990daba2d92c577b52237380662f36480b...  \n",
       "1371976  3f47f1279beb72215f4de557d950e0bfa73789d24acb5e...  \n",
       "1371977  4563fc79215672cd6a863f2b4bf56b8f898f2d96ed590e...  \n",
       "1371978  8892c18e9bc3dca6aa4000cb8094fc4b51ee8db2ed14d7...  \n",
       "1371979  0a1a03306fb2f62164c2a439b38c0caa64b40deaae8687...  \n",
       "\n",
       "[1371980 rows x 7 columns]"
      ]
     },
     "execution_count": 14,
     "metadata": {},
     "output_type": "execute_result"
    }
   ],
   "source": [
    "df_customer"
   ]
  },
  {
   "cell_type": "markdown",
   "id": "adapted-performance",
   "metadata": {},
   "source": [
    "**Articles Dataset**\n",
    "\n",
    "Llegim el dataset d'articles:"
   ]
  },
  {
   "cell_type": "code",
   "execution_count": 15,
   "id": "headed-notification",
   "metadata": {
    "execution": {
     "iopub.execute_input": "2022-04-30T17:37:30.260571Z",
     "iopub.status.busy": "2022-04-30T17:37:30.259575Z",
     "iopub.status.idle": "2022-04-30T17:37:31.769178Z",
     "shell.execute_reply": "2022-04-30T17:37:31.768165Z"
    },
    "papermill": {
     "duration": 1.537539,
     "end_time": "2022-04-30T17:37:31.772457",
     "exception": false,
     "start_time": "2022-04-30T17:37:30.234918",
     "status": "completed"
    },
    "tags": []
   },
   "outputs": [],
   "source": [
    "df_article = pd.read_csv('articles_model.csv')"
   ]
  },
  {
   "cell_type": "code",
   "execution_count": 16,
   "id": "pressed-filter",
   "metadata": {},
   "outputs": [
    {
     "data": {
      "text/html": [
       "<div>\n",
       "<style scoped>\n",
       "    .dataframe tbody tr th:only-of-type {\n",
       "        vertical-align: middle;\n",
       "    }\n",
       "\n",
       "    .dataframe tbody tr th {\n",
       "        vertical-align: top;\n",
       "    }\n",
       "\n",
       "    .dataframe thead th {\n",
       "        text-align: right;\n",
       "    }\n",
       "</style>\n",
       "<table border=\"1\" class=\"dataframe\">\n",
       "  <thead>\n",
       "    <tr style=\"text-align: right;\">\n",
       "      <th></th>\n",
       "      <th>article_id</th>\n",
       "      <th>product_code</th>\n",
       "      <th>product_type_no</th>\n",
       "      <th>product_group_name</th>\n",
       "      <th>graphical_appearance_no</th>\n",
       "      <th>colour_group_code</th>\n",
       "      <th>perceived_colour_value_id</th>\n",
       "      <th>perceived_colour_master_id</th>\n",
       "      <th>department_no</th>\n",
       "      <th>index_code</th>\n",
       "      <th>index_group_no</th>\n",
       "      <th>section_no</th>\n",
       "      <th>garment_group_no</th>\n",
       "    </tr>\n",
       "  </thead>\n",
       "  <tbody>\n",
       "    <tr>\n",
       "      <th>0</th>\n",
       "      <td>108775015</td>\n",
       "      <td>108775</td>\n",
       "      <td>253</td>\n",
       "      <td>Garment Upper body</td>\n",
       "      <td>1010016</td>\n",
       "      <td>9</td>\n",
       "      <td>4</td>\n",
       "      <td>5</td>\n",
       "      <td>1676</td>\n",
       "      <td>A</td>\n",
       "      <td>1</td>\n",
       "      <td>16</td>\n",
       "      <td>1002</td>\n",
       "    </tr>\n",
       "    <tr>\n",
       "      <th>1</th>\n",
       "      <td>108775044</td>\n",
       "      <td>108775</td>\n",
       "      <td>253</td>\n",
       "      <td>Garment Upper body</td>\n",
       "      <td>1010016</td>\n",
       "      <td>10</td>\n",
       "      <td>3</td>\n",
       "      <td>9</td>\n",
       "      <td>1676</td>\n",
       "      <td>A</td>\n",
       "      <td>1</td>\n",
       "      <td>16</td>\n",
       "      <td>1002</td>\n",
       "    </tr>\n",
       "    <tr>\n",
       "      <th>2</th>\n",
       "      <td>108775051</td>\n",
       "      <td>108775</td>\n",
       "      <td>253</td>\n",
       "      <td>Garment Upper body</td>\n",
       "      <td>1010017</td>\n",
       "      <td>11</td>\n",
       "      <td>1</td>\n",
       "      <td>9</td>\n",
       "      <td>1676</td>\n",
       "      <td>A</td>\n",
       "      <td>1</td>\n",
       "      <td>16</td>\n",
       "      <td>1002</td>\n",
       "    </tr>\n",
       "    <tr>\n",
       "      <th>3</th>\n",
       "      <td>110065001</td>\n",
       "      <td>110065</td>\n",
       "      <td>306</td>\n",
       "      <td>Underwear</td>\n",
       "      <td>1010016</td>\n",
       "      <td>9</td>\n",
       "      <td>4</td>\n",
       "      <td>5</td>\n",
       "      <td>1339</td>\n",
       "      <td>B</td>\n",
       "      <td>1</td>\n",
       "      <td>61</td>\n",
       "      <td>1017</td>\n",
       "    </tr>\n",
       "    <tr>\n",
       "      <th>4</th>\n",
       "      <td>110065002</td>\n",
       "      <td>110065</td>\n",
       "      <td>306</td>\n",
       "      <td>Underwear</td>\n",
       "      <td>1010016</td>\n",
       "      <td>10</td>\n",
       "      <td>3</td>\n",
       "      <td>9</td>\n",
       "      <td>1339</td>\n",
       "      <td>B</td>\n",
       "      <td>1</td>\n",
       "      <td>61</td>\n",
       "      <td>1017</td>\n",
       "    </tr>\n",
       "  </tbody>\n",
       "</table>\n",
       "</div>"
      ],
      "text/plain": [
       "   article_id  product_code  product_type_no  product_group_name  \\\n",
       "0   108775015        108775              253  Garment Upper body   \n",
       "1   108775044        108775              253  Garment Upper body   \n",
       "2   108775051        108775              253  Garment Upper body   \n",
       "3   110065001        110065              306           Underwear   \n",
       "4   110065002        110065              306           Underwear   \n",
       "\n",
       "   graphical_appearance_no  colour_group_code  perceived_colour_value_id  \\\n",
       "0                  1010016                  9                          4   \n",
       "1                  1010016                 10                          3   \n",
       "2                  1010017                 11                          1   \n",
       "3                  1010016                  9                          4   \n",
       "4                  1010016                 10                          3   \n",
       "\n",
       "   perceived_colour_master_id  department_no index_code  index_group_no  \\\n",
       "0                           5           1676          A               1   \n",
       "1                           9           1676          A               1   \n",
       "2                           9           1676          A               1   \n",
       "3                           5           1339          B               1   \n",
       "4                           9           1339          B               1   \n",
       "\n",
       "   section_no  garment_group_no  \n",
       "0          16              1002  \n",
       "1          16              1002  \n",
       "2          16              1002  \n",
       "3          61              1017  \n",
       "4          61              1017  "
      ]
     },
     "execution_count": 16,
     "metadata": {},
     "output_type": "execute_result"
    }
   ],
   "source": [
    "df_article.head()"
   ]
  },
  {
   "cell_type": "markdown",
   "id": "affecting-utilization",
   "metadata": {},
   "source": [
    "De la mateixa manera que hem fet al dataset de transactions, tractem la variable *article_id*:"
   ]
  },
  {
   "cell_type": "code",
   "execution_count": 17,
   "id": "neutral-twelve",
   "metadata": {},
   "outputs": [],
   "source": [
    "df_article['article_id'] = df_article['article_id'].astype(str)\n",
    "df_article['article_id'] = df_article['article_id'].apply(lambda x: x.zfill(10))"
   ]
  },
  {
   "cell_type": "code",
   "execution_count": 18,
   "id": "adolescent-cancellation",
   "metadata": {},
   "outputs": [
    {
     "data": {
      "text/html": [
       "<div>\n",
       "<style scoped>\n",
       "    .dataframe tbody tr th:only-of-type {\n",
       "        vertical-align: middle;\n",
       "    }\n",
       "\n",
       "    .dataframe tbody tr th {\n",
       "        vertical-align: top;\n",
       "    }\n",
       "\n",
       "    .dataframe thead th {\n",
       "        text-align: right;\n",
       "    }\n",
       "</style>\n",
       "<table border=\"1\" class=\"dataframe\">\n",
       "  <thead>\n",
       "    <tr style=\"text-align: right;\">\n",
       "      <th></th>\n",
       "      <th>article_id</th>\n",
       "      <th>product_code</th>\n",
       "      <th>product_type_no</th>\n",
       "      <th>product_group_name</th>\n",
       "      <th>graphical_appearance_no</th>\n",
       "      <th>colour_group_code</th>\n",
       "      <th>perceived_colour_value_id</th>\n",
       "      <th>perceived_colour_master_id</th>\n",
       "      <th>department_no</th>\n",
       "      <th>index_code</th>\n",
       "      <th>index_group_no</th>\n",
       "      <th>section_no</th>\n",
       "      <th>garment_group_no</th>\n",
       "    </tr>\n",
       "  </thead>\n",
       "  <tbody>\n",
       "    <tr>\n",
       "      <th>0</th>\n",
       "      <td>0108775015</td>\n",
       "      <td>108775</td>\n",
       "      <td>253</td>\n",
       "      <td>Garment Upper body</td>\n",
       "      <td>1010016</td>\n",
       "      <td>9</td>\n",
       "      <td>4</td>\n",
       "      <td>5</td>\n",
       "      <td>1676</td>\n",
       "      <td>A</td>\n",
       "      <td>1</td>\n",
       "      <td>16</td>\n",
       "      <td>1002</td>\n",
       "    </tr>\n",
       "    <tr>\n",
       "      <th>1</th>\n",
       "      <td>0108775044</td>\n",
       "      <td>108775</td>\n",
       "      <td>253</td>\n",
       "      <td>Garment Upper body</td>\n",
       "      <td>1010016</td>\n",
       "      <td>10</td>\n",
       "      <td>3</td>\n",
       "      <td>9</td>\n",
       "      <td>1676</td>\n",
       "      <td>A</td>\n",
       "      <td>1</td>\n",
       "      <td>16</td>\n",
       "      <td>1002</td>\n",
       "    </tr>\n",
       "    <tr>\n",
       "      <th>2</th>\n",
       "      <td>0108775051</td>\n",
       "      <td>108775</td>\n",
       "      <td>253</td>\n",
       "      <td>Garment Upper body</td>\n",
       "      <td>1010017</td>\n",
       "      <td>11</td>\n",
       "      <td>1</td>\n",
       "      <td>9</td>\n",
       "      <td>1676</td>\n",
       "      <td>A</td>\n",
       "      <td>1</td>\n",
       "      <td>16</td>\n",
       "      <td>1002</td>\n",
       "    </tr>\n",
       "    <tr>\n",
       "      <th>3</th>\n",
       "      <td>0110065001</td>\n",
       "      <td>110065</td>\n",
       "      <td>306</td>\n",
       "      <td>Underwear</td>\n",
       "      <td>1010016</td>\n",
       "      <td>9</td>\n",
       "      <td>4</td>\n",
       "      <td>5</td>\n",
       "      <td>1339</td>\n",
       "      <td>B</td>\n",
       "      <td>1</td>\n",
       "      <td>61</td>\n",
       "      <td>1017</td>\n",
       "    </tr>\n",
       "    <tr>\n",
       "      <th>4</th>\n",
       "      <td>0110065002</td>\n",
       "      <td>110065</td>\n",
       "      <td>306</td>\n",
       "      <td>Underwear</td>\n",
       "      <td>1010016</td>\n",
       "      <td>10</td>\n",
       "      <td>3</td>\n",
       "      <td>9</td>\n",
       "      <td>1339</td>\n",
       "      <td>B</td>\n",
       "      <td>1</td>\n",
       "      <td>61</td>\n",
       "      <td>1017</td>\n",
       "    </tr>\n",
       "  </tbody>\n",
       "</table>\n",
       "</div>"
      ],
      "text/plain": [
       "   article_id  product_code  product_type_no  product_group_name  \\\n",
       "0  0108775015        108775              253  Garment Upper body   \n",
       "1  0108775044        108775              253  Garment Upper body   \n",
       "2  0108775051        108775              253  Garment Upper body   \n",
       "3  0110065001        110065              306           Underwear   \n",
       "4  0110065002        110065              306           Underwear   \n",
       "\n",
       "   graphical_appearance_no  colour_group_code  perceived_colour_value_id  \\\n",
       "0                  1010016                  9                          4   \n",
       "1                  1010016                 10                          3   \n",
       "2                  1010017                 11                          1   \n",
       "3                  1010016                  9                          4   \n",
       "4                  1010016                 10                          3   \n",
       "\n",
       "   perceived_colour_master_id  department_no index_code  index_group_no  \\\n",
       "0                           5           1676          A               1   \n",
       "1                           9           1676          A               1   \n",
       "2                           9           1676          A               1   \n",
       "3                           5           1339          B               1   \n",
       "4                           9           1339          B               1   \n",
       "\n",
       "   section_no  garment_group_no  \n",
       "0          16              1002  \n",
       "1          16              1002  \n",
       "2          16              1002  \n",
       "3          61              1017  \n",
       "4          61              1017  "
      ]
     },
     "execution_count": 18,
     "metadata": {},
     "output_type": "execute_result"
    }
   ],
   "source": [
    "df_article.head()"
   ]
  },
  {
   "cell_type": "markdown",
   "id": "intellectual-rogers",
   "metadata": {},
   "source": [
    "A continuació, busquem els clients i els articles únics presents a les dades. És important que tant els clients com els articles siguin únics perquè necessitem mapejar els valors de les variables categòriques per després utilitzarles en el nostre model. És a dir, necessitem un diccionari d'aquestes dues varibles per crear el nostre model."
   ]
  },
  {
   "cell_type": "code",
   "execution_count": 19,
   "id": "supported-opposition",
   "metadata": {},
   "outputs": [],
   "source": [
    "unic_customer_id = df_customer.customer_id.unique()\n",
    "unic_article_id = df_article.article_id.unique()"
   ]
  },
  {
   "cell_type": "code",
   "execution_count": 20,
   "id": "productive-landscape",
   "metadata": {},
   "outputs": [
    {
     "data": {
      "text/plain": [
       "array(['00000dbacae5abe5e23885899a1fa44253a17956c6d1c3d25f88aa139fdfc657',\n",
       "       '0000423b00ade91418cceaf3b26c6af3dd342b51fd051eec9c12fb36984420fa',\n",
       "       '000058a12d5b43e67d225668fa1f8d618c13dc232df0cad8ffe7ad4a1091e318',\n",
       "       ...,\n",
       "       'ffffcf35913a0bee60e8741cb2b4e78b8a98ee5ff2e6a1778d0116cffd259264',\n",
       "       'ffffd7744cebcf3aca44ae7049d2a94b87074c3d4ffe38b2236865d949d4df6a',\n",
       "       'ffffd9ac14e89946416d80e791d064701994755c3ab686a1eaf3458c36f52241'],\n",
       "      dtype=object)"
      ]
     },
     "execution_count": 20,
     "metadata": {},
     "output_type": "execute_result"
    }
   ],
   "source": [
    "unic_customer_id"
   ]
  },
  {
   "cell_type": "code",
   "execution_count": 21,
   "id": "agreed-regard",
   "metadata": {},
   "outputs": [
    {
     "data": {
      "text/plain": [
       "array(['0108775015', '0108775044', '0108775051', ..., '0956217002',\n",
       "       '0957375001', '0959461001'], dtype=object)"
      ]
     },
     "execution_count": 21,
     "metadata": {},
     "output_type": "execute_result"
    }
   ],
   "source": [
    "unic_article_id"
   ]
  },
  {
   "cell_type": "markdown",
   "id": "spiritual-peoples",
   "metadata": {},
   "source": [
    "Creem el diccionari mencionat anteriorment:"
   ]
  },
  {
   "cell_type": "code",
   "execution_count": 22,
   "id": "round-heading",
   "metadata": {},
   "outputs": [],
   "source": [
    "article_slices = tf.data.Dataset.from_tensor_slices(dict(df_article[['article_id']]))"
   ]
  },
  {
   "cell_type": "code",
   "execution_count": 23,
   "id": "indonesian-variation",
   "metadata": {
    "_kg_hide-output": true,
    "execution": {
     "iopub.execute_input": "2022-04-30T17:37:31.874863Z",
     "iopub.status.busy": "2022-04-30T17:37:31.873682Z",
     "iopub.status.idle": "2022-04-30T17:37:32.685270Z",
     "shell.execute_reply": "2022-04-30T17:37:32.681891Z"
    },
    "papermill": {
     "duration": 0.842681,
     "end_time": "2022-04-30T17:37:32.688151",
     "exception": false,
     "start_time": "2022-04-30T17:37:31.845470",
     "status": "completed"
    },
    "tags": []
   },
   "outputs": [],
   "source": [
    "articles = article_slices.map(lambda x: x['article_id'])"
   ]
  },
  {
   "cell_type": "code",
   "execution_count": 24,
   "id": "polyphonic-express",
   "metadata": {},
   "outputs": [
    {
     "data": {
      "text/plain": [
       "<MapDataset element_spec=TensorSpec(shape=(), dtype=tf.string, name=None)>"
      ]
     },
     "execution_count": 24,
     "metadata": {},
     "output_type": "execute_result"
    }
   ],
   "source": [
    "articles"
   ]
  },
  {
   "cell_type": "markdown",
   "id": "automotive-camera",
   "metadata": {
    "papermill": {
     "duration": 0.027553,
     "end_time": "2022-04-30T17:37:32.744151",
     "exception": false,
     "start_time": "2022-04-30T17:37:32.716598",
     "status": "completed"
    },
    "tags": []
   },
   "source": [
    "# H&M model \n",
    "\n",
    "## Retrieval Stage"
   ]
  },
  {
   "cell_type": "markdown",
   "id": "labeled-grenada",
   "metadata": {},
   "source": [
    "Amb les dades ja preparades, creem el model. L'arquitectura d'aquest model és clau. Com hem mencionat anteriorment, utilitzarem un *Retrieval Model* constituit per dos sub-models. Així doncs, podem crear cada model per separat (*Query Model* i *Candidate Model*) i després combinar-los en un model final.\n",
    "\n",
    "La idea principal és el que es representa a la figura següent:"
   ]
  },
  {
   "attachments": {
    "image.png": {
     "image/png": "[encoded data removed]"
    }
   },
   "cell_type": "markdown",
   "id": "thrown-session",
   "metadata": {},
   "source": [
    "![image.png](attachment:image.png)"
   ]
  },
  {
   "cell_type": "markdown",
   "id": "spectacular-buffalo",
   "metadata": {},
   "source": [
    "En particular, pel nostre cas:"
   ]
  },
  {
   "attachments": {
    "image-3.png": {
     "image/png": "[encoded data removed]"
    }
   },
   "cell_type": "markdown",
   "id": "informative-choir",
   "metadata": {},
   "source": [
    "![image-3.png](attachment:image-3.png)"
   ]
  },
  {
   "cell_type": "markdown",
   "id": "imperial-worthy",
   "metadata": {},
   "source": [
    "En primer lloc, fixem la dimensió de l'embedding:"
   ]
  },
  {
   "cell_type": "code",
   "execution_count": 25,
   "id": "rapid-oasis",
   "metadata": {
    "execution": {
     "iopub.execute_input": "2022-04-30T17:37:32.795157Z",
     "iopub.status.busy": "2022-04-30T17:37:32.794149Z",
     "iopub.status.idle": "2022-04-30T17:37:34.256278Z",
     "shell.execute_reply": "2022-04-30T17:37:34.255217Z"
    },
    "papermill": {
     "duration": 1.490855,
     "end_time": "2022-04-30T17:37:34.258838",
     "exception": false,
     "start_time": "2022-04-30T17:37:32.767983",
     "status": "completed"
    },
    "tags": []
   },
   "outputs": [],
   "source": [
    "embedding_dimension = 64"
   ]
  },
  {
   "cell_type": "markdown",
   "id": "valuable-shore",
   "metadata": {},
   "source": [
    "### Query Model"
   ]
  },
  {
   "cell_type": "markdown",
   "id": "professional-stephen",
   "metadata": {},
   "source": [
    "Definim ara el *Query Model*. Per crear-lo, utilitzem les capes de preprocessament de Keras, que ens permet convertir els ID dels clients en números enters. Després, mitjançant la capa d'embedding, es converteixen en embeddings d'usuaris. \n",
    "\n",
    "Utilitzarem la llista d'ID d'usuaris únics que hem calculat anteriorment:"
   ]
  },
  {
   "cell_type": "code",
   "execution_count": 26,
   "id": "piano-rochester",
   "metadata": {},
   "outputs": [],
   "source": [
    "customer_model = tf.keras.Sequential([\n",
    "  tf.keras.layers.StringLookup(\n",
    "      vocabulary=unic_customer_id, mask_token=None),  \n",
    "  tf.keras.layers.Embedding(len(unic_customer_id) + 1, embedding_dimension)\n",
    "])"
   ]
  },
  {
   "cell_type": "markdown",
   "id": "downtown-hungarian",
   "metadata": {},
   "source": [
    "### Candidate Model"
   ]
  },
  {
   "cell_type": "markdown",
   "id": "downtown-sodium",
   "metadata": {},
   "source": [
    "A continuació definim el *Candidate Model*. Seguim exactament el mateix procés que el del *Query Model*, però utilitzant ara la llista d'ID d'articles únics:"
   ]
  },
  {
   "cell_type": "code",
   "execution_count": 27,
   "id": "incident-machine",
   "metadata": {
    "execution": {
     "iopub.execute_input": "2022-04-30T17:37:34.310374Z",
     "iopub.status.busy": "2022-04-30T17:37:34.310098Z",
     "iopub.status.idle": "2022-04-30T17:37:34.359740Z",
     "shell.execute_reply": "2022-04-30T17:37:34.358524Z"
    },
    "papermill": {
     "duration": 0.078002,
     "end_time": "2022-04-30T17:37:34.362335",
     "exception": false,
     "start_time": "2022-04-30T17:37:34.284333",
     "status": "completed"
    },
    "tags": []
   },
   "outputs": [],
   "source": [
    "article_model = tf.keras.Sequential([\n",
    "  tf.keras.layers.StringLookup(\n",
    "      vocabulary=unic_article_id, mask_token=None),\n",
    "  tf.keras.layers.Embedding(len(unic_article_id) + 1, embedding_dimension)\n",
    "])"
   ]
  },
  {
   "cell_type": "markdown",
   "id": "worldwide-kentucky",
   "metadata": {},
   "source": [
    "### Model"
   ]
  },
  {
   "cell_type": "markdown",
   "id": "graphic-moment",
   "metadata": {},
   "source": [
    "A continuació, unifiquem els dos models. TensorFlow Recommenders exposa una classe de model base (tfrs.models.Model) que facilita la creació dels models. El que cal fer és configurar els components en el mètode *init* i implementar el métode *compute_loss*, agafant les caracterísitiques sense processar i tornant un valor de pèrdua.\n",
    "\n",
    "El model base s'encarrega de crear el cicle d'entrenament apropiat per tal que s'ajusti al nostre model."
   ]
  },
  {
   "cell_type": "code",
   "execution_count": 28,
   "id": "formal-affect",
   "metadata": {
    "execution": {
     "iopub.execute_input": "2022-04-30T17:37:34.408777Z",
     "iopub.status.busy": "2022-04-30T17:37:34.408481Z",
     "iopub.status.idle": "2022-04-30T17:37:34.416918Z",
     "shell.execute_reply": "2022-04-30T17:37:34.416208Z"
    },
    "papermill": {
     "duration": 0.033981,
     "end_time": "2022-04-30T17:37:34.418863",
     "exception": false,
     "start_time": "2022-04-30T17:37:34.384882",
     "status": "completed"
    },
    "tags": []
   },
   "outputs": [],
   "source": [
    "class RetrivalModel(tfrs.Model):\n",
    "    \n",
    "    def __init__(self, customer_model, article_model):\n",
    "        super().__init__()\n",
    "        self.article_model: tf.keras.Model = article_model\n",
    "        self.customer_model: tf.keras.Model = customer_model\n",
    "        self.task = tfrs.tasks.Retrieval(\n",
    "        metrics=tfrs.metrics.FactorizedTopK(\n",
    "            candidates=articles.batch(128).map(self.article_model),            \n",
    "            ),\n",
    "        )        \n",
    "\n",
    "    def compute_loss(self, features: Dict[str, tf.Tensor], training=False) -> tf.Tensor:\n",
    "    \n",
    "        customer_embeddings = self.customer_model(features[\"customer_id\"])    \n",
    "        article_embeddings = self.article_model(features[\"article_id\"])\n",
    "\n",
    "        # Task calcula la pèrdua i les mètriques\n",
    "        return self.task(customer_embeddings, article_embeddings,compute_metrics=not training)"
   ]
  },
  {
   "cell_type": "markdown",
   "id": "suburban-maine",
   "metadata": {
    "papermill": {
     "duration": 0.022256,
     "end_time": "2022-04-30T17:37:34.466155",
     "exception": false,
     "start_time": "2022-04-30T17:37:34.443899",
     "status": "completed"
    },
    "tags": []
   },
   "source": [
    "## Fitting i avaluació"
   ]
  },
  {
   "cell_type": "markdown",
   "id": "absolute-evans",
   "metadata": {},
   "source": [
    "Finalment, amb el model ja definit, podem ajustar i avaluar el model utilitzant les crides estàndard de Keras:"
   ]
  },
  {
   "cell_type": "code",
   "execution_count": 29,
   "id": "physical-nylon",
   "metadata": {
    "execution": {
     "iopub.execute_input": "2022-04-30T17:37:34.513314Z",
     "iopub.status.busy": "2022-04-30T17:37:34.513004Z",
     "iopub.status.idle": "2022-04-30T17:37:34.885391Z",
     "shell.execute_reply": "2022-04-30T17:37:34.884307Z"
    },
    "papermill": {
     "duration": 0.399598,
     "end_time": "2022-04-30T17:37:34.888252",
     "exception": false,
     "start_time": "2022-04-30T17:37:34.488654",
     "status": "completed"
    },
    "tags": []
   },
   "outputs": [],
   "source": [
    "model = RetrivalModel(customer_model, article_model)"
   ]
  },
  {
   "cell_type": "code",
   "execution_count": 30,
   "id": "adapted-netherlands",
   "metadata": {},
   "outputs": [],
   "source": [
    "model.compile(optimizer=tf.keras.optimizers.Adagrad(learning_rate=0.1))"
   ]
  },
  {
   "cell_type": "markdown",
   "id": "spanish-prediction",
   "metadata": {},
   "source": [
    "Apliquem *shuffle*, *batch* i *cache* en els conjunts definits anteriorment de test i train:"
   ]
  },
  {
   "cell_type": "code",
   "execution_count": 31,
   "id": "surprised-shanghai",
   "metadata": {},
   "outputs": [],
   "source": [
    "train_ds = tf.data.Dataset.from_tensor_slices(dict(transactions[['customer_id','article_id']])).shuffle(100_000).batch(256).cache()\n",
    "test_ds = tf.data.Dataset.from_tensor_slices(dict(transactions_test[['customer_id','article_id']])).batch(256).cache()"
   ]
  },
  {
   "cell_type": "markdown",
   "id": "becoming-significance",
   "metadata": {},
   "source": [
    "### Entrenament"
   ]
  },
  {
   "cell_type": "markdown",
   "id": "fourth-graduate",
   "metadata": {},
   "source": [
    "A continuació, entrenem el model. Utilizarem 5 iteracions per fer-ho:"
   ]
  },
  {
   "cell_type": "code",
   "execution_count": 32,
   "id": "cosmetic-sponsorship",
   "metadata": {},
   "outputs": [],
   "source": [
    "num_epochs = 5"
   ]
  },
  {
   "cell_type": "code",
   "execution_count": 33,
   "id": "insured-richardson",
   "metadata": {},
   "outputs": [
    {
     "name": "stdout",
     "output_type": "stream",
     "text": [
      "Epoch 1/5\n",
      "52985/52985 [==============================] - 446s 8ms/step - factorized_top_k/top_1_categorical_accuracy: 0.0000e+00 - factorized_top_k/top_5_categorical_accuracy: 0.0000e+00 - factorized_top_k/top_10_categorical_accuracy: 0.0000e+00 - factorized_top_k/top_50_categorical_accuracy: 0.0000e+00 - factorized_top_k/top_100_categorical_accuracy: 0.0000e+00 - loss: 1268.9260 - regularization_loss: 0.0000e+00 - total_loss: 1268.9260\n",
      "Epoch 2/5\n",
      "52985/52985 [==============================] - 275s 5ms/step - factorized_top_k/top_1_categorical_accuracy: 0.0000e+00 - factorized_top_k/top_5_categorical_accuracy: 0.0000e+00 - factorized_top_k/top_10_categorical_accuracy: 0.0000e+00 - factorized_top_k/top_50_categorical_accuracy: 0.0000e+00 - factorized_top_k/top_100_categorical_accuracy: 0.0000e+00 - loss: 1021.0078 - regularization_loss: 0.0000e+00 - total_loss: 1021.0078\n",
      "Epoch 3/5\n",
      "52985/52985 [==============================] - 281s 5ms/step - factorized_top_k/top_1_categorical_accuracy: 0.0000e+00 - factorized_top_k/top_5_categorical_accuracy: 0.0000e+00 - factorized_top_k/top_10_categorical_accuracy: 0.0000e+00 - factorized_top_k/top_50_categorical_accuracy: 0.0000e+00 - factorized_top_k/top_100_categorical_accuracy: 0.0000e+00 - loss: 885.4058 - regularization_loss: 0.0000e+00 - total_loss: 885.4058\n",
      "Epoch 4/5\n",
      "52985/52985 [==============================] - 287s 5ms/step - factorized_top_k/top_1_categorical_accuracy: 0.0000e+00 - factorized_top_k/top_5_categorical_accuracy: 0.0000e+00 - factorized_top_k/top_10_categorical_accuracy: 0.0000e+00 - factorized_top_k/top_50_categorical_accuracy: 0.0000e+00 - factorized_top_k/top_100_categorical_accuracy: 0.0000e+00 - loss: 802.7272 - regularization_loss: 0.0000e+00 - total_loss: 802.7272\n",
      "Epoch 5/5\n",
      "52985/52985 [==============================] - 281s 5ms/step - factorized_top_k/top_1_categorical_accuracy: 0.0000e+00 - factorized_top_k/top_5_categorical_accuracy: 0.0000e+00 - factorized_top_k/top_10_categorical_accuracy: 0.0000e+00 - factorized_top_k/top_50_categorical_accuracy: 0.0000e+00 - factorized_top_k/top_100_categorical_accuracy: 0.0000e+00 - loss: 749.6186 - regularization_loss: 0.0000e+00 - total_loss: 749.6186\n"
     ]
    }
   ],
   "source": [
    "history = model.fit(\n",
    "    train_ds,    \n",
    "    epochs=num_epochs,\n",
    "    verbose=1)"
   ]
  },
  {
   "cell_type": "markdown",
   "id": "specialized-brush",
   "metadata": {},
   "source": [
    "### Evaluamos el modelo"
   ]
  },
  {
   "cell_type": "markdown",
   "id": "hispanic-finnish",
   "metadata": {},
   "source": [
    "Finalment, avaluem el model entrenat al nostre conjunt de test:"
   ]
  },
  {
   "cell_type": "code",
   "execution_count": 34,
   "id": "clinical-vaccine",
   "metadata": {},
   "outputs": [
    {
     "name": "stdout",
     "output_type": "stream",
     "text": [
      "2705/2705 [==============================] - 2424s 896ms/step - factorized_top_k/top_1_categorical_accuracy: 0.0414 - factorized_top_k/top_5_categorical_accuracy: 0.1413 - factorized_top_k/top_10_categorical_accuracy: 0.1970 - factorized_top_k/top_50_categorical_accuracy: 0.3557 - factorized_top_k/top_100_categorical_accuracy: 0.4355 - loss: 821.2526 - regularization_loss: 0.0000e+00 - total_loss: 821.2526\n"
     ]
    },
    {
     "data": {
      "text/plain": [
       "{'factorized_top_k/top_1_categorical_accuracy': 0.04139203950762749,\n",
       " 'factorized_top_k/top_5_categorical_accuracy': 0.14129787683486938,\n",
       " 'factorized_top_k/top_10_categorical_accuracy': 0.19698983430862427,\n",
       " 'factorized_top_k/top_50_categorical_accuracy': 0.35567954182624817,\n",
       " 'factorized_top_k/top_100_categorical_accuracy': 0.43548721075057983,\n",
       " 'loss': 723.0763549804688,\n",
       " 'regularization_loss': 0,\n",
       " 'total_loss': 723.0763549804688}"
      ]
     },
     "execution_count": 34,
     "metadata": {},
     "output_type": "execute_result"
    }
   ],
   "source": [
    "model.evaluate(test_ds, return_dict=True)"
   ]
  },
  {
   "cell_type": "markdown",
   "id": "loaded-wrist",
   "metadata": {},
   "source": [
    "## Ranking Stage"
   ]
  },
  {
   "cell_type": "markdown",
   "id": "thorough-school",
   "metadata": {},
   "source": [
    "Per afinar el nombre de recomanacions, utilizem ScaNN:"
   ]
  },
  {
   "cell_type": "code",
   "execution_count": 35,
   "id": "norman-correlation",
   "metadata": {
    "_kg_hide-output": true,
    "execution": {
     "iopub.execute_input": "2022-04-30T17:39:12.119495Z",
     "iopub.status.busy": "2022-04-30T17:39:12.118571Z",
     "iopub.status.idle": "2022-04-30T17:39:19.020642Z",
     "shell.execute_reply": "2022-04-30T17:39:19.019491Z"
    },
    "papermill": {
     "duration": 7.599396,
     "end_time": "2022-04-30T17:39:19.023044",
     "exception": false,
     "start_time": "2022-04-30T17:39:11.423648",
     "status": "completed"
    },
    "tags": []
   },
   "outputs": [
    {
     "data": {
      "text/plain": [
       "<tensorflow_recommenders.layers.factorized_top_k.ScaNN at 0x2b072f628e50>"
      ]
     },
     "execution_count": 35,
     "metadata": {},
     "output_type": "execute_result"
    }
   ],
   "source": [
    "scann_index = tfrs.layers.factorized_top_k.ScaNN(model.customer_model, k = 12 )\n",
    "scann_index.index_from_dataset(\n",
    "  tf.data.Dataset.zip((articles.batch(100), articles.batch(100).map(model.article_model)))\n",
    ")"
   ]
  },
  {
   "cell_type": "markdown",
   "id": "accessory-variety",
   "metadata": {},
   "source": [
    "## Entregable"
   ]
  },
  {
   "cell_type": "markdown",
   "id": "assisted-academy",
   "metadata": {},
   "source": [
    "Llegim el dataset del entregable de exemple."
   ]
  },
  {
   "cell_type": "code",
   "execution_count": 36,
   "id": "smaller-samba",
   "metadata": {
    "_kg_hide-output": true,
    "execution": {
     "iopub.execute_input": "2022-04-30T17:39:20.312955Z",
     "iopub.status.busy": "2022-04-30T17:39:20.312004Z",
     "iopub.status.idle": "2022-04-30T17:40:11.148621Z",
     "shell.execute_reply": "2022-04-30T17:40:11.147645Z"
    },
    "papermill": {
     "duration": 51.485014,
     "end_time": "2022-04-30T17:40:11.151296",
     "exception": false,
     "start_time": "2022-04-30T17:39:19.666282",
     "status": "completed"
    },
    "tags": []
   },
   "outputs": [],
   "source": [
    "sample_submission = pd.read_csv('sample_submission.csv')"
   ]
  },
  {
   "cell_type": "code",
   "execution_count": 37,
   "id": "missing-anderson",
   "metadata": {},
   "outputs": [
    {
     "data": {
      "text/html": [
       "<div>\n",
       "<style scoped>\n",
       "    .dataframe tbody tr th:only-of-type {\n",
       "        vertical-align: middle;\n",
       "    }\n",
       "\n",
       "    .dataframe tbody tr th {\n",
       "        vertical-align: top;\n",
       "    }\n",
       "\n",
       "    .dataframe thead th {\n",
       "        text-align: right;\n",
       "    }\n",
       "</style>\n",
       "<table border=\"1\" class=\"dataframe\">\n",
       "  <thead>\n",
       "    <tr style=\"text-align: right;\">\n",
       "      <th></th>\n",
       "      <th>customer_id</th>\n",
       "      <th>prediction</th>\n",
       "    </tr>\n",
       "  </thead>\n",
       "  <tbody>\n",
       "    <tr>\n",
       "      <th>0</th>\n",
       "      <td>00000dbacae5abe5e23885899a1fa44253a17956c6d1c3...</td>\n",
       "      <td>0706016001 0706016002 0372860001 0610776002 07...</td>\n",
       "    </tr>\n",
       "    <tr>\n",
       "      <th>1</th>\n",
       "      <td>0000423b00ade91418cceaf3b26c6af3dd342b51fd051e...</td>\n",
       "      <td>0706016001 0706016002 0372860001 0610776002 07...</td>\n",
       "    </tr>\n",
       "    <tr>\n",
       "      <th>2</th>\n",
       "      <td>000058a12d5b43e67d225668fa1f8d618c13dc232df0ca...</td>\n",
       "      <td>0706016001 0706016002 0372860001 0610776002 07...</td>\n",
       "    </tr>\n",
       "    <tr>\n",
       "      <th>3</th>\n",
       "      <td>00005ca1c9ed5f5146b52ac8639a40ca9d57aeff4d1bd2...</td>\n",
       "      <td>0706016001 0706016002 0372860001 0610776002 07...</td>\n",
       "    </tr>\n",
       "    <tr>\n",
       "      <th>4</th>\n",
       "      <td>00006413d8573cd20ed7128e53b7b13819fe5cfc2d801f...</td>\n",
       "      <td>0706016001 0706016002 0372860001 0610776002 07...</td>\n",
       "    </tr>\n",
       "    <tr>\n",
       "      <th>...</th>\n",
       "      <td>...</td>\n",
       "      <td>...</td>\n",
       "    </tr>\n",
       "    <tr>\n",
       "      <th>1371975</th>\n",
       "      <td>ffffbbf78b6eaac697a8a5dfbfd2bfa8113ee5b403e474...</td>\n",
       "      <td>0706016001 0706016002 0372860001 0610776002 07...</td>\n",
       "    </tr>\n",
       "    <tr>\n",
       "      <th>1371976</th>\n",
       "      <td>ffffcd5046a6143d29a04fb8c424ce494a76e5cdf4fab5...</td>\n",
       "      <td>0706016001 0706016002 0372860001 0610776002 07...</td>\n",
       "    </tr>\n",
       "    <tr>\n",
       "      <th>1371977</th>\n",
       "      <td>ffffcf35913a0bee60e8741cb2b4e78b8a98ee5ff2e6a1...</td>\n",
       "      <td>0706016001 0706016002 0372860001 0610776002 07...</td>\n",
       "    </tr>\n",
       "    <tr>\n",
       "      <th>1371978</th>\n",
       "      <td>ffffd7744cebcf3aca44ae7049d2a94b87074c3d4ffe38...</td>\n",
       "      <td>0706016001 0706016002 0372860001 0610776002 07...</td>\n",
       "    </tr>\n",
       "    <tr>\n",
       "      <th>1371979</th>\n",
       "      <td>ffffd9ac14e89946416d80e791d064701994755c3ab686...</td>\n",
       "      <td>0706016001 0706016002 0372860001 0610776002 07...</td>\n",
       "    </tr>\n",
       "  </tbody>\n",
       "</table>\n",
       "<p>1371980 rows × 2 columns</p>\n",
       "</div>"
      ],
      "text/plain": [
       "                                               customer_id  \\\n",
       "0        00000dbacae5abe5e23885899a1fa44253a17956c6d1c3...   \n",
       "1        0000423b00ade91418cceaf3b26c6af3dd342b51fd051e...   \n",
       "2        000058a12d5b43e67d225668fa1f8d618c13dc232df0ca...   \n",
       "3        00005ca1c9ed5f5146b52ac8639a40ca9d57aeff4d1bd2...   \n",
       "4        00006413d8573cd20ed7128e53b7b13819fe5cfc2d801f...   \n",
       "...                                                    ...   \n",
       "1371975  ffffbbf78b6eaac697a8a5dfbfd2bfa8113ee5b403e474...   \n",
       "1371976  ffffcd5046a6143d29a04fb8c424ce494a76e5cdf4fab5...   \n",
       "1371977  ffffcf35913a0bee60e8741cb2b4e78b8a98ee5ff2e6a1...   \n",
       "1371978  ffffd7744cebcf3aca44ae7049d2a94b87074c3d4ffe38...   \n",
       "1371979  ffffd9ac14e89946416d80e791d064701994755c3ab686...   \n",
       "\n",
       "                                                prediction  \n",
       "0        0706016001 0706016002 0372860001 0610776002 07...  \n",
       "1        0706016001 0706016002 0372860001 0610776002 07...  \n",
       "2        0706016001 0706016002 0372860001 0610776002 07...  \n",
       "3        0706016001 0706016002 0372860001 0610776002 07...  \n",
       "4        0706016001 0706016002 0372860001 0610776002 07...  \n",
       "...                                                    ...  \n",
       "1371975  0706016001 0706016002 0372860001 0610776002 07...  \n",
       "1371976  0706016001 0706016002 0372860001 0610776002 07...  \n",
       "1371977  0706016001 0706016002 0372860001 0610776002 07...  \n",
       "1371978  0706016001 0706016002 0372860001 0610776002 07...  \n",
       "1371979  0706016001 0706016002 0372860001 0610776002 07...  \n",
       "\n",
       "[1371980 rows x 2 columns]"
      ]
     },
     "execution_count": 37,
     "metadata": {},
     "output_type": "execute_result"
    }
   ],
   "source": [
    "sample_submission"
   ]
  },
  {
   "cell_type": "markdown",
   "id": "armed-audit",
   "metadata": {},
   "source": [
    "Utilitzem la libreria *scann* per exportar el index de *retrival* aproximat per les prediccions. Això fara posible que surgeixin de manera eficient recomendacions de conjunts molts candidats."
   ]
  },
  {
   "cell_type": "code",
   "execution_count": 38,
   "id": "global-teddy",
   "metadata": {},
   "outputs": [],
   "source": [
    "_,articles = scann_index(sample_submission.customer_id.values) "
   ]
  },
  {
   "cell_type": "code",
   "execution_count": 39,
   "id": "obvious-history",
   "metadata": {},
   "outputs": [
    {
     "data": {
      "text/plain": [
       "(<tf.Tensor: shape=(1371980, 12), dtype=float32, numpy=\n",
       " array([[8.271187 , 8.070302 , 8.069231 , ..., 6.663306 , 6.6030912,\n",
       "         6.594469 ],\n",
       "        [6.1921673, 5.8434997, 5.581999 , ..., 5.1586165, 5.146164 ,\n",
       "         5.0465446],\n",
       "        [7.0383844, 6.934312 , 6.609849 , ..., 6.254777 , 6.235985 ,\n",
       "         6.199253 ],\n",
       "        ...,\n",
       "        [7.975572 , 7.6712637, 7.0452585, ..., 6.627921 , 6.58377  ,\n",
       "         6.558365 ],\n",
       "        [7.058807 , 6.9507675, 6.8701944, ..., 6.583315 , 6.519717 ,\n",
       "         6.5146933],\n",
       "        [6.800028 , 5.251999 , 4.903334 , ..., 4.4552927, 4.4142175,\n",
       "         4.3789206]], dtype=float32)>,\n",
       " <tf.Tensor: shape=(1371980, 12), dtype=string, numpy=\n",
       " array([[b'0884174002', b'0818036002', b'0826508001', ..., b'0921226002',\n",
       "         b'0771970008', b'0841260003'],\n",
       "        [b'0833499006', b'0811835005', b'0843872006', ..., b'0833499002',\n",
       "         b'0882759003', b'0599580074'],\n",
       "        [b'0727808001', b'0378124009', b'0727808007', ..., b'0727808002',\n",
       "         b'0697920010', b'0685601036'],\n",
       "        ...,\n",
       "        [b'0777714001', b'0615959005', b'0717171001', ..., b'0748202006',\n",
       "         b'0792782001', b'0759462001'],\n",
       "        [b'0882810003', b'0816587005', b'0835296001', ..., b'0880238003',\n",
       "         b'0797079002', b'0821395003'],\n",
       "        [b'0806050001', b'0869203003', b'0869203004', ..., b'0822090001',\n",
       "         b'0904995001', b'0877090001']], dtype=object)>)"
      ]
     },
     "execution_count": 39,
     "metadata": {},
     "output_type": "execute_result"
    }
   ],
   "source": [
    "_,articles"
   ]
  },
  {
   "cell_type": "code",
   "execution_count": 40,
   "id": "precious-terrorist",
   "metadata": {},
   "outputs": [
    {
     "data": {
      "text/plain": [
       "<tf.Tensor: shape=(1371980, 12), dtype=string, numpy=\n",
       "array([[b'0884174002', b'0818036002', b'0826508001', ..., b'0921226002',\n",
       "        b'0771970008', b'0841260003'],\n",
       "       [b'0833499006', b'0811835005', b'0843872006', ..., b'0833499002',\n",
       "        b'0882759003', b'0599580074'],\n",
       "       [b'0727808001', b'0378124009', b'0727808007', ..., b'0727808002',\n",
       "        b'0697920010', b'0685601036'],\n",
       "       ...,\n",
       "       [b'0777714001', b'0615959005', b'0717171001', ..., b'0748202006',\n",
       "        b'0792782001', b'0759462001'],\n",
       "       [b'0882810003', b'0816587005', b'0835296001', ..., b'0880238003',\n",
       "        b'0797079002', b'0821395003'],\n",
       "       [b'0806050001', b'0869203003', b'0869203004', ..., b'0822090001',\n",
       "        b'0904995001', b'0877090001']], dtype=object)>"
      ]
     },
     "execution_count": 40,
     "metadata": {},
     "output_type": "execute_result"
    }
   ],
   "source": [
    "articles"
   ]
  },
  {
   "cell_type": "markdown",
   "id": "ancient-ticket",
   "metadata": {},
   "source": [
    "Ara busquem les predicions calculades."
   ]
  },
  {
   "cell_type": "code",
   "execution_count": 41,
   "id": "colored-shareware",
   "metadata": {},
   "outputs": [],
   "source": [
    "preds = articles.numpy().astype(str)"
   ]
  },
  {
   "cell_type": "code",
   "execution_count": 42,
   "id": "supposed-kingdom",
   "metadata": {},
   "outputs": [
    {
     "data": {
      "text/plain": [
       "array([['0884174002', '0818036002', '0826508001', ..., '0921226002',\n",
       "        '0771970008', '0841260003'],\n",
       "       ['0833499006', '0811835005', '0843872006', ..., '0833499002',\n",
       "        '0882759003', '0599580074'],\n",
       "       ['0727808001', '0378124009', '0727808007', ..., '0727808002',\n",
       "        '0697920010', '0685601036'],\n",
       "       ...,\n",
       "       ['0777714001', '0615959005', '0717171001', ..., '0748202006',\n",
       "        '0792782001', '0759462001'],\n",
       "       ['0882810003', '0816587005', '0835296001', ..., '0880238003',\n",
       "        '0797079002', '0821395003'],\n",
       "       ['0806050001', '0869203003', '0869203004', ..., '0822090001',\n",
       "        '0904995001', '0877090001']], dtype='<U10')"
      ]
     },
     "execution_count": 42,
     "metadata": {},
     "output_type": "execute_result"
    }
   ],
   "source": [
    "preds"
   ]
  },
  {
   "cell_type": "code",
   "execution_count": 43,
   "id": "decreased-pointer",
   "metadata": {},
   "outputs": [],
   "source": [
    "preds = pd.Series(map(' '.join, preds,))"
   ]
  },
  {
   "cell_type": "code",
   "execution_count": 44,
   "id": "binary-halifax",
   "metadata": {},
   "outputs": [
    {
     "data": {
      "text/plain": [
       "0          0884174002 0818036002 0826508001 0818032003 08...\n",
       "1          0833499006 0811835005 0843872006 0687034024 08...\n",
       "2          0727808001 0378124009 0727808007 0686564028 07...\n",
       "3          0895804005 0873645001 0570189003 0720125001 07...\n",
       "4          0589440005 0818320001 0902175001 0856405001 08...\n",
       "                                 ...                        \n",
       "1371975    0822344003 0791587007 0811500007 0757303015 08...\n",
       "1371976    0779331008 0780172007 0681373016 0756522002 07...\n",
       "1371977    0777714001 0615959005 0717171001 0863456002 07...\n",
       "1371978    0882810003 0816587005 0835296001 0745232002 08...\n",
       "1371979    0806050001 0869203003 0869203004 0745186001 08...\n",
       "Length: 1371980, dtype: object"
      ]
     },
     "execution_count": 44,
     "metadata": {},
     "output_type": "execute_result"
    }
   ],
   "source": [
    "preds"
   ]
  },
  {
   "cell_type": "markdown",
   "id": "capital-brisbane",
   "metadata": {},
   "source": [
    "Finalment, al dataset de ejemple del entregable li afegeixo las prediccions que hem fet del seu *customer_id*."
   ]
  },
  {
   "cell_type": "code",
   "execution_count": 45,
   "id": "australian-norwegian",
   "metadata": {},
   "outputs": [],
   "source": [
    "sample_submission['prediction'] = preds"
   ]
  },
  {
   "cell_type": "code",
   "execution_count": 46,
   "id": "devoted-province",
   "metadata": {},
   "outputs": [
    {
     "data": {
      "text/html": [
       "<div>\n",
       "<style scoped>\n",
       "    .dataframe tbody tr th:only-of-type {\n",
       "        vertical-align: middle;\n",
       "    }\n",
       "\n",
       "    .dataframe tbody tr th {\n",
       "        vertical-align: top;\n",
       "    }\n",
       "\n",
       "    .dataframe thead th {\n",
       "        text-align: right;\n",
       "    }\n",
       "</style>\n",
       "<table border=\"1\" class=\"dataframe\">\n",
       "  <thead>\n",
       "    <tr style=\"text-align: right;\">\n",
       "      <th></th>\n",
       "      <th>customer_id</th>\n",
       "      <th>prediction</th>\n",
       "    </tr>\n",
       "  </thead>\n",
       "  <tbody>\n",
       "    <tr>\n",
       "      <th>0</th>\n",
       "      <td>00000dbacae5abe5e23885899a1fa44253a17956c6d1c3...</td>\n",
       "      <td>0884174002 0818036002 0826508001 0818032003 08...</td>\n",
       "    </tr>\n",
       "    <tr>\n",
       "      <th>1</th>\n",
       "      <td>0000423b00ade91418cceaf3b26c6af3dd342b51fd051e...</td>\n",
       "      <td>0833499006 0811835005 0843872006 0687034024 08...</td>\n",
       "    </tr>\n",
       "    <tr>\n",
       "      <th>2</th>\n",
       "      <td>000058a12d5b43e67d225668fa1f8d618c13dc232df0ca...</td>\n",
       "      <td>0727808001 0378124009 0727808007 0686564028 07...</td>\n",
       "    </tr>\n",
       "    <tr>\n",
       "      <th>3</th>\n",
       "      <td>00005ca1c9ed5f5146b52ac8639a40ca9d57aeff4d1bd2...</td>\n",
       "      <td>0895804005 0873645001 0570189003 0720125001 07...</td>\n",
       "    </tr>\n",
       "    <tr>\n",
       "      <th>4</th>\n",
       "      <td>00006413d8573cd20ed7128e53b7b13819fe5cfc2d801f...</td>\n",
       "      <td>0589440005 0818320001 0902175001 0856405001 08...</td>\n",
       "    </tr>\n",
       "    <tr>\n",
       "      <th>...</th>\n",
       "      <td>...</td>\n",
       "      <td>...</td>\n",
       "    </tr>\n",
       "    <tr>\n",
       "      <th>1371975</th>\n",
       "      <td>ffffbbf78b6eaac697a8a5dfbfd2bfa8113ee5b403e474...</td>\n",
       "      <td>0822344003 0791587007 0811500007 0757303015 08...</td>\n",
       "    </tr>\n",
       "    <tr>\n",
       "      <th>1371976</th>\n",
       "      <td>ffffcd5046a6143d29a04fb8c424ce494a76e5cdf4fab5...</td>\n",
       "      <td>0779331008 0780172007 0681373016 0756522002 07...</td>\n",
       "    </tr>\n",
       "    <tr>\n",
       "      <th>1371977</th>\n",
       "      <td>ffffcf35913a0bee60e8741cb2b4e78b8a98ee5ff2e6a1...</td>\n",
       "      <td>0777714001 0615959005 0717171001 0863456002 07...</td>\n",
       "    </tr>\n",
       "    <tr>\n",
       "      <th>1371978</th>\n",
       "      <td>ffffd7744cebcf3aca44ae7049d2a94b87074c3d4ffe38...</td>\n",
       "      <td>0882810003 0816587005 0835296001 0745232002 08...</td>\n",
       "    </tr>\n",
       "    <tr>\n",
       "      <th>1371979</th>\n",
       "      <td>ffffd9ac14e89946416d80e791d064701994755c3ab686...</td>\n",
       "      <td>0806050001 0869203003 0869203004 0745186001 08...</td>\n",
       "    </tr>\n",
       "  </tbody>\n",
       "</table>\n",
       "<p>1371980 rows × 2 columns</p>\n",
       "</div>"
      ],
      "text/plain": [
       "                                               customer_id  \\\n",
       "0        00000dbacae5abe5e23885899a1fa44253a17956c6d1c3...   \n",
       "1        0000423b00ade91418cceaf3b26c6af3dd342b51fd051e...   \n",
       "2        000058a12d5b43e67d225668fa1f8d618c13dc232df0ca...   \n",
       "3        00005ca1c9ed5f5146b52ac8639a40ca9d57aeff4d1bd2...   \n",
       "4        00006413d8573cd20ed7128e53b7b13819fe5cfc2d801f...   \n",
       "...                                                    ...   \n",
       "1371975  ffffbbf78b6eaac697a8a5dfbfd2bfa8113ee5b403e474...   \n",
       "1371976  ffffcd5046a6143d29a04fb8c424ce494a76e5cdf4fab5...   \n",
       "1371977  ffffcf35913a0bee60e8741cb2b4e78b8a98ee5ff2e6a1...   \n",
       "1371978  ffffd7744cebcf3aca44ae7049d2a94b87074c3d4ffe38...   \n",
       "1371979  ffffd9ac14e89946416d80e791d064701994755c3ab686...   \n",
       "\n",
       "                                                prediction  \n",
       "0        0884174002 0818036002 0826508001 0818032003 08...  \n",
       "1        0833499006 0811835005 0843872006 0687034024 08...  \n",
       "2        0727808001 0378124009 0727808007 0686564028 07...  \n",
       "3        0895804005 0873645001 0570189003 0720125001 07...  \n",
       "4        0589440005 0818320001 0902175001 0856405001 08...  \n",
       "...                                                    ...  \n",
       "1371975  0822344003 0791587007 0811500007 0757303015 08...  \n",
       "1371976  0779331008 0780172007 0681373016 0756522002 07...  \n",
       "1371977  0777714001 0615959005 0717171001 0863456002 07...  \n",
       "1371978  0882810003 0816587005 0835296001 0745232002 08...  \n",
       "1371979  0806050001 0869203003 0869203004 0745186001 08...  \n",
       "\n",
       "[1371980 rows x 2 columns]"
      ]
     },
     "execution_count": 46,
     "metadata": {},
     "output_type": "execute_result"
    }
   ],
   "source": [
    "sample_submission"
   ]
  },
  {
   "cell_type": "code",
   "execution_count": 47,
   "id": "analyzed-murder",
   "metadata": {},
   "outputs": [],
   "source": [
    "sample_submission.to_csv('submission.csv',index=False)"
   ]
  },
  {
   "cell_type": "markdown",
   "id": "dietary-dublin",
   "metadata": {},
   "source": [
    "Per acabar, hem obtingut las 12 recomendaciones de articles para cada client. "
   ]
  }
 ],
 "metadata": {
  "kernelspec": {
   "display_name": "Python 3",
   "language": "python",
   "name": "python3"
  },
  "language_info": {
   "codemirror_mode": {
    "name": "ipython",
    "version": 3
   },
   "file_extension": ".py",
   "mimetype": "text/x-python",
   "name": "python",
   "nbconvert_exporter": "python",
   "pygments_lexer": "ipython3",
   "version": "3.7.10"
  },
  "papermill": {
   "default_parameters": {},
   "duration": 380.854924,
   "end_time": "2022-04-30T17:40:15.835013",
   "environment_variables": {},
   "exception": null,
   "input_path": "__notebook__.ipynb",
   "output_path": "__notebook__.ipynb",
   "parameters": {},
   "start_time": "2022-04-30T17:33:54.980089",
   "version": "2.3.4"
  }
 },
 "nbformat": 4,
 "nbformat_minor": 5
}
