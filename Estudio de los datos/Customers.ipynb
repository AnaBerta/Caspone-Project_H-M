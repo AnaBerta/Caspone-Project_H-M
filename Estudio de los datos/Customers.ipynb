{
 "cells": [
  {
   "cell_type": "markdown",
   "id": "experimental-reception",
   "metadata": {},
   "source": [
    "# Capstone Project - H&M Recommendation\n",
    "\n",
    "Ana Berta Vegas; Ester Iglesias; Raquel Dominguez"
   ]
  },
  {
   "cell_type": "markdown",
   "id": "limiting-friendly",
   "metadata": {},
   "source": [
    "## Customers"
   ]
  },
  {
   "cell_type": "markdown",
   "id": "contained-rover",
   "metadata": {},
   "source": [
    "En aquest notebook estudiarem el dataset \"customers\"."
   ]
  },
  {
   "cell_type": "markdown",
   "id": "original-approval",
   "metadata": {},
   "source": [
    "En primer lloc, importem les llibreries necessàries:"
   ]
  },
  {
   "cell_type": "code",
   "execution_count": 1,
   "id": "likely-manner",
   "metadata": {},
   "outputs": [],
   "source": [
    "import numpy as np\n",
    "import pandas as pd\n",
    "\n",
    "import matplotlib as mpl\n",
    "import matplotlib.pyplot as plt\n",
    "\n",
    "import seaborn as sns"
   ]
  },
  {
   "cell_type": "markdown",
   "id": "minus-queens",
   "metadata": {},
   "source": [
    "Llegim les dades a tractar i observem quina informació contenen:"
   ]
  },
  {
   "cell_type": "code",
   "execution_count": 2,
   "id": "nominated-palestine",
   "metadata": {},
   "outputs": [],
   "source": [
    "df_customers = pd.read_csv('customers.csv')"
   ]
  },
  {
   "cell_type": "code",
   "execution_count": 3,
   "id": "statewide-fortune",
   "metadata": {},
   "outputs": [
    {
     "data": {
      "text/html": [
       "<div>\n",
       "<style scoped>\n",
       "    .dataframe tbody tr th:only-of-type {\n",
       "        vertical-align: middle;\n",
       "    }\n",
       "\n",
       "    .dataframe tbody tr th {\n",
       "        vertical-align: top;\n",
       "    }\n",
       "\n",
       "    .dataframe thead th {\n",
       "        text-align: right;\n",
       "    }\n",
       "</style>\n",
       "<table border=\"1\" class=\"dataframe\">\n",
       "  <thead>\n",
       "    <tr style=\"text-align: right;\">\n",
       "      <th></th>\n",
       "      <th>customer_id</th>\n",
       "      <th>FN</th>\n",
       "      <th>Active</th>\n",
       "      <th>club_member_status</th>\n",
       "      <th>fashion_news_frequency</th>\n",
       "      <th>age</th>\n",
       "      <th>postal_code</th>\n",
       "    </tr>\n",
       "  </thead>\n",
       "  <tbody>\n",
       "    <tr>\n",
       "      <th>0</th>\n",
       "      <td>00000dbacae5abe5e23885899a1fa44253a17956c6d1c3...</td>\n",
       "      <td>NaN</td>\n",
       "      <td>NaN</td>\n",
       "      <td>ACTIVE</td>\n",
       "      <td>NONE</td>\n",
       "      <td>49.0</td>\n",
       "      <td>52043ee2162cf5aa7ee79974281641c6f11a68d276429a...</td>\n",
       "    </tr>\n",
       "    <tr>\n",
       "      <th>1</th>\n",
       "      <td>0000423b00ade91418cceaf3b26c6af3dd342b51fd051e...</td>\n",
       "      <td>NaN</td>\n",
       "      <td>NaN</td>\n",
       "      <td>ACTIVE</td>\n",
       "      <td>NONE</td>\n",
       "      <td>25.0</td>\n",
       "      <td>2973abc54daa8a5f8ccfe9362140c63247c5eee03f1d93...</td>\n",
       "    </tr>\n",
       "    <tr>\n",
       "      <th>2</th>\n",
       "      <td>000058a12d5b43e67d225668fa1f8d618c13dc232df0ca...</td>\n",
       "      <td>NaN</td>\n",
       "      <td>NaN</td>\n",
       "      <td>ACTIVE</td>\n",
       "      <td>NONE</td>\n",
       "      <td>24.0</td>\n",
       "      <td>64f17e6a330a85798e4998f62d0930d14db8db1c054af6...</td>\n",
       "    </tr>\n",
       "    <tr>\n",
       "      <th>3</th>\n",
       "      <td>00005ca1c9ed5f5146b52ac8639a40ca9d57aeff4d1bd2...</td>\n",
       "      <td>NaN</td>\n",
       "      <td>NaN</td>\n",
       "      <td>ACTIVE</td>\n",
       "      <td>NONE</td>\n",
       "      <td>54.0</td>\n",
       "      <td>5d36574f52495e81f019b680c843c443bd343d5ca5b1c2...</td>\n",
       "    </tr>\n",
       "    <tr>\n",
       "      <th>4</th>\n",
       "      <td>00006413d8573cd20ed7128e53b7b13819fe5cfc2d801f...</td>\n",
       "      <td>1.0</td>\n",
       "      <td>1.0</td>\n",
       "      <td>ACTIVE</td>\n",
       "      <td>Regularly</td>\n",
       "      <td>52.0</td>\n",
       "      <td>25fa5ddee9aac01b35208d01736e57942317d756b32ddd...</td>\n",
       "    </tr>\n",
       "  </tbody>\n",
       "</table>\n",
       "</div>"
      ],
      "text/plain": [
       "                                         customer_id   FN  Active  \\\n",
       "0  00000dbacae5abe5e23885899a1fa44253a17956c6d1c3...  NaN     NaN   \n",
       "1  0000423b00ade91418cceaf3b26c6af3dd342b51fd051e...  NaN     NaN   \n",
       "2  000058a12d5b43e67d225668fa1f8d618c13dc232df0ca...  NaN     NaN   \n",
       "3  00005ca1c9ed5f5146b52ac8639a40ca9d57aeff4d1bd2...  NaN     NaN   \n",
       "4  00006413d8573cd20ed7128e53b7b13819fe5cfc2d801f...  1.0     1.0   \n",
       "\n",
       "  club_member_status fashion_news_frequency   age  \\\n",
       "0             ACTIVE                   NONE  49.0   \n",
       "1             ACTIVE                   NONE  25.0   \n",
       "2             ACTIVE                   NONE  24.0   \n",
       "3             ACTIVE                   NONE  54.0   \n",
       "4             ACTIVE              Regularly  52.0   \n",
       "\n",
       "                                         postal_code  \n",
       "0  52043ee2162cf5aa7ee79974281641c6f11a68d276429a...  \n",
       "1  2973abc54daa8a5f8ccfe9362140c63247c5eee03f1d93...  \n",
       "2  64f17e6a330a85798e4998f62d0930d14db8db1c054af6...  \n",
       "3  5d36574f52495e81f019b680c843c443bd343d5ca5b1c2...  \n",
       "4  25fa5ddee9aac01b35208d01736e57942317d756b32ddd...  "
      ]
     },
     "execution_count": 3,
     "metadata": {},
     "output_type": "execute_result"
    }
   ],
   "source": [
    "df_customers.head()"
   ]
  },
  {
   "cell_type": "code",
   "execution_count": 4,
   "id": "cellular-growth",
   "metadata": {},
   "outputs": [
    {
     "name": "stdout",
     "output_type": "stream",
     "text": [
      "<class 'pandas.core.frame.DataFrame'>\n",
      "RangeIndex: 1371980 entries, 0 to 1371979\n",
      "Data columns (total 7 columns):\n",
      " #   Column                  Non-Null Count    Dtype  \n",
      "---  ------                  --------------    -----  \n",
      " 0   customer_id             1371980 non-null  object \n",
      " 1   FN                      476930 non-null   float64\n",
      " 2   Active                  464404 non-null   float64\n",
      " 3   club_member_status      1365918 non-null  object \n",
      " 4   fashion_news_frequency  1355971 non-null  object \n",
      " 5   age                     1356119 non-null  float64\n",
      " 6   postal_code             1371980 non-null  object \n",
      "dtypes: float64(3), object(4)\n",
      "memory usage: 73.3+ MB\n"
     ]
    }
   ],
   "source": [
    "df_customers.info()"
   ]
  },
  {
   "cell_type": "markdown",
   "id": "accessory-alert",
   "metadata": {},
   "source": [
    "El dataset consisteix en 1371980 observacions amb la següent informació per a cada una:\n",
    "- **customer_id**: id del client     \n",
    "- **FN**: (Fashion News) si el client rep la revista de moda (categorica binaria: 1 (Si) o NaN (No))\n",
    "- **Active**: el client rep comunicacio de las revistas de moda (categorica binaria: 1 (Si) o NaN (No))\n",
    "- **club_member_status**: estat del soci cliente\n",
    "- **fashion_news_frequency**: frequencia amb la que miren las noticies de moda\n",
    "- **age**: edat del client\n",
    "- **postal_code**: codi postal"
   ]
  },
  {
   "cell_type": "markdown",
   "id": "center-vessel",
   "metadata": {},
   "source": [
    "Les variables anteriors, les classifiquem segons siguin numèriques o categòriques:\n",
    "- **Numèriques**: age\n",
    "- **Categòriques**: customer_id, FN, Active, club_member_status, fashion_news_frequency, postal_code\n",
    "\n",
    "Modifiquem el tipus de les variables que correspongui, per tal que sigui coherent amb la classificació anterior:"
   ]
  },
  {
   "cell_type": "code",
   "execution_count": 5,
   "id": "silent-neighbor",
   "metadata": {},
   "outputs": [],
   "source": [
    "df_customers[\"customer_id\"] = df_customers[\"customer_id\"].astype(\"category\")"
   ]
  },
  {
   "cell_type": "code",
   "execution_count": 6,
   "id": "monetary-buyer",
   "metadata": {},
   "outputs": [],
   "source": [
    "df_customers[\"FN\"] = df_customers[\"FN\"].astype(\"category\")"
   ]
  },
  {
   "cell_type": "code",
   "execution_count": 7,
   "id": "dental-involvement",
   "metadata": {},
   "outputs": [],
   "source": [
    "df_customers[\"Active\"] = df_customers[\"Active\"].astype(\"category\")"
   ]
  },
  {
   "cell_type": "code",
   "execution_count": 8,
   "id": "hawaiian-vehicle",
   "metadata": {},
   "outputs": [],
   "source": [
    "df_customers[\"club_member_status\"] = df_customers[\"club_member_status\"].astype(\"category\")"
   ]
  },
  {
   "cell_type": "code",
   "execution_count": 9,
   "id": "listed-message",
   "metadata": {},
   "outputs": [],
   "source": [
    "df_customers[\"fashion_news_frequency\"] = df_customers[\"fashion_news_frequency\"].astype(\"category\")"
   ]
  },
  {
   "cell_type": "code",
   "execution_count": 10,
   "id": "arctic-integer",
   "metadata": {},
   "outputs": [],
   "source": [
    "df_customers[\"postal_code\"] = df_customers[\"postal_code\"].astype(\"category\")"
   ]
  },
  {
   "cell_type": "markdown",
   "id": "prostate-checkout",
   "metadata": {},
   "source": [
    "Netejem el dataset i borrem les files repetides, ja que no aporten cap valor afegit a l'anàlisi:"
   ]
  },
  {
   "cell_type": "code",
   "execution_count": 11,
   "id": "compound-magic",
   "metadata": {},
   "outputs": [],
   "source": [
    "df_customers.drop_duplicates(inplace=True, ignore_index=True)"
   ]
  },
  {
   "cell_type": "code",
   "execution_count": 12,
   "id": "palestinian-destruction",
   "metadata": {},
   "outputs": [
    {
     "data": {
      "text/plain": [
       "(1371980, 7)"
      ]
     },
     "execution_count": 12,
     "metadata": {},
     "output_type": "execute_result"
    }
   ],
   "source": [
    "df_customers.shape"
   ]
  },
  {
   "cell_type": "markdown",
   "id": "concerned-issue",
   "metadata": {},
   "source": [
    "Observem que no s'ha borrat cap fila, és a dir, no hi havia dades repetides.\n",
    "\n",
    "Veiem ara, una primera descripció de les variables numèriques (en aquest cas, l'edat):"
   ]
  },
  {
   "cell_type": "code",
   "execution_count": 13,
   "id": "composed-homeless",
   "metadata": {},
   "outputs": [
    {
     "data": {
      "text/html": [
       "<div>\n",
       "<style scoped>\n",
       "    .dataframe tbody tr th:only-of-type {\n",
       "        vertical-align: middle;\n",
       "    }\n",
       "\n",
       "    .dataframe tbody tr th {\n",
       "        vertical-align: top;\n",
       "    }\n",
       "\n",
       "    .dataframe thead th {\n",
       "        text-align: right;\n",
       "    }\n",
       "</style>\n",
       "<table border=\"1\" class=\"dataframe\">\n",
       "  <thead>\n",
       "    <tr style=\"text-align: right;\">\n",
       "      <th></th>\n",
       "      <th>age</th>\n",
       "    </tr>\n",
       "  </thead>\n",
       "  <tbody>\n",
       "    <tr>\n",
       "      <th>count</th>\n",
       "      <td>1.356119e+06</td>\n",
       "    </tr>\n",
       "    <tr>\n",
       "      <th>mean</th>\n",
       "      <td>3.638696e+01</td>\n",
       "    </tr>\n",
       "    <tr>\n",
       "      <th>std</th>\n",
       "      <td>1.431363e+01</td>\n",
       "    </tr>\n",
       "    <tr>\n",
       "      <th>min</th>\n",
       "      <td>1.600000e+01</td>\n",
       "    </tr>\n",
       "    <tr>\n",
       "      <th>25%</th>\n",
       "      <td>2.400000e+01</td>\n",
       "    </tr>\n",
       "    <tr>\n",
       "      <th>50%</th>\n",
       "      <td>3.200000e+01</td>\n",
       "    </tr>\n",
       "    <tr>\n",
       "      <th>75%</th>\n",
       "      <td>4.900000e+01</td>\n",
       "    </tr>\n",
       "    <tr>\n",
       "      <th>max</th>\n",
       "      <td>9.900000e+01</td>\n",
       "    </tr>\n",
       "  </tbody>\n",
       "</table>\n",
       "</div>"
      ],
      "text/plain": [
       "                age\n",
       "count  1.356119e+06\n",
       "mean   3.638696e+01\n",
       "std    1.431363e+01\n",
       "min    1.600000e+01\n",
       "25%    2.400000e+01\n",
       "50%    3.200000e+01\n",
       "75%    4.900000e+01\n",
       "max    9.900000e+01"
      ]
     },
     "execution_count": 13,
     "metadata": {},
     "output_type": "execute_result"
    }
   ],
   "source": [
    "df_customers.describe()"
   ]
  },
  {
   "cell_type": "code",
   "execution_count": 14,
   "id": "intellectual-dealing",
   "metadata": {},
   "outputs": [
    {
     "data": {
      "text/plain": [
       "<AxesSubplot:>"
      ]
     },
     "execution_count": 14,
     "metadata": {},
     "output_type": "execute_result"
    },
    {
     "data": {
      "image/png": "[encoded data removed]",
      "text/plain": [
       "<Figure size 432x288 with 1 Axes>"
      ]
     },
     "metadata": {
      "needs_background": "light"
     },
     "output_type": "display_data"
    }
   ],
   "source": [
    "df_customers.boxplot()"
   ]
  },
  {
   "cell_type": "markdown",
   "id": "stone-tooth",
   "metadata": {},
   "source": [
    "Com a característiques a destacar, observem que la mitjana d'edat dels consumidors és de 36,38 anys, i que més de la meitat de clients tenen entre 24 i 49 anys. A més, hi ha una serie de clients atípics d'edat gran (més de 85).\n",
    "\n",
    "\n",
    "Estudiem ara les variables categòriques:"
   ]
  },
  {
   "cell_type": "code",
   "execution_count": 15,
   "id": "seven-consumption",
   "metadata": {},
   "outputs": [
    {
     "data": {
      "text/html": [
       "<div>\n",
       "<style scoped>\n",
       "    .dataframe tbody tr th:only-of-type {\n",
       "        vertical-align: middle;\n",
       "    }\n",
       "\n",
       "    .dataframe tbody tr th {\n",
       "        vertical-align: top;\n",
       "    }\n",
       "\n",
       "    .dataframe thead th {\n",
       "        text-align: right;\n",
       "    }\n",
       "</style>\n",
       "<table border=\"1\" class=\"dataframe\">\n",
       "  <thead>\n",
       "    <tr style=\"text-align: right;\">\n",
       "      <th></th>\n",
       "      <th>customer_id</th>\n",
       "      <th>FN</th>\n",
       "      <th>Active</th>\n",
       "      <th>club_member_status</th>\n",
       "      <th>fashion_news_frequency</th>\n",
       "      <th>postal_code</th>\n",
       "    </tr>\n",
       "  </thead>\n",
       "  <tbody>\n",
       "    <tr>\n",
       "      <th>count</th>\n",
       "      <td>1371980</td>\n",
       "      <td>476930.0</td>\n",
       "      <td>464404.0</td>\n",
       "      <td>1365918</td>\n",
       "      <td>1355971</td>\n",
       "      <td>1371980</td>\n",
       "    </tr>\n",
       "    <tr>\n",
       "      <th>unique</th>\n",
       "      <td>1371980</td>\n",
       "      <td>1.0</td>\n",
       "      <td>1.0</td>\n",
       "      <td>3</td>\n",
       "      <td>4</td>\n",
       "      <td>352899</td>\n",
       "    </tr>\n",
       "    <tr>\n",
       "      <th>top</th>\n",
       "      <td>00000dbacae5abe5e23885899a1fa44253a17956c6d1c3...</td>\n",
       "      <td>1.0</td>\n",
       "      <td>1.0</td>\n",
       "      <td>ACTIVE</td>\n",
       "      <td>NONE</td>\n",
       "      <td>2c29ae653a9282cce4151bd87643c907644e09541abc28...</td>\n",
       "    </tr>\n",
       "    <tr>\n",
       "      <th>freq</th>\n",
       "      <td>1</td>\n",
       "      <td>476930.0</td>\n",
       "      <td>464404.0</td>\n",
       "      <td>1272491</td>\n",
       "      <td>877711</td>\n",
       "      <td>120303</td>\n",
       "    </tr>\n",
       "  </tbody>\n",
       "</table>\n",
       "</div>"
      ],
      "text/plain": [
       "                                              customer_id        FN    Active  \\\n",
       "count                                             1371980  476930.0  464404.0   \n",
       "unique                                            1371980       1.0       1.0   \n",
       "top     00000dbacae5abe5e23885899a1fa44253a17956c6d1c3...       1.0       1.0   \n",
       "freq                                                    1  476930.0  464404.0   \n",
       "\n",
       "       club_member_status fashion_news_frequency  \\\n",
       "count             1365918                1355971   \n",
       "unique                  3                      4   \n",
       "top                ACTIVE                   NONE   \n",
       "freq              1272491                 877711   \n",
       "\n",
       "                                              postal_code  \n",
       "count                                             1371980  \n",
       "unique                                             352899  \n",
       "top     2c29ae653a9282cce4151bd87643c907644e09541abc28...  \n",
       "freq                                               120303  "
      ]
     },
     "execution_count": 15,
     "metadata": {},
     "output_type": "execute_result"
    }
   ],
   "source": [
    "df_customers.describe(include='category')"
   ]
  },
  {
   "cell_type": "markdown",
   "id": "individual-grade",
   "metadata": {},
   "source": [
    "A continuació fem un estudi per cada una de les variables. En primer lloc, mirem si hi ha alguna fila amb algun valor buit:"
   ]
  },
  {
   "cell_type": "code",
   "execution_count": 16,
   "id": "specific-above",
   "metadata": {},
   "outputs": [
    {
     "data": {
      "text/plain": [
       "True"
      ]
     },
     "execution_count": 16,
     "metadata": {},
     "output_type": "execute_result"
    }
   ],
   "source": [
    "df_customers.isnull().values.any()"
   ]
  },
  {
   "cell_type": "markdown",
   "id": "wired-renewal",
   "metadata": {},
   "source": [
    "Observem que si que hi ha valors buits, veiem per a quina variable passa:"
   ]
  },
  {
   "cell_type": "code",
   "execution_count": 17,
   "id": "august-polymer",
   "metadata": {},
   "outputs": [
    {
     "data": {
      "text/plain": [
       "customer_id                    0\n",
       "FN                        895050\n",
       "Active                    907576\n",
       "club_member_status          6062\n",
       "fashion_news_frequency     16009\n",
       "age                        15861\n",
       "postal_code                    0\n",
       "dtype: int64"
      ]
     },
     "execution_count": 17,
     "metadata": {},
     "output_type": "execute_result"
    }
   ],
   "source": [
    "df_customers.isnull().sum()"
   ]
  },
  {
   "cell_type": "markdown",
   "id": "continuous-sapphire",
   "metadata": {},
   "source": [
    "Hi ha valors nuls per a totes les característiques excepte per customer_id i postal_code. Amb el respectiu anàlisi de cada variable tractarem aquests valors nuls.\n",
    "\n",
    "**customer_id**"
   ]
  },
  {
   "cell_type": "code",
   "execution_count": 18,
   "id": "labeled-pierce",
   "metadata": {},
   "outputs": [
    {
     "data": {
      "text/plain": [
       "00000dbacae5abe5e23885899a1fa44253a17956c6d1c3d25f88aa139fdfc657    1\n",
       "aaabd1b7c85e6139d6c80addf788b1fde89f52dd71edabfeef699117078ca7d1    1\n",
       "aaabafd8f1490fb3cb830f363c766568b8c53e8daf938e7262ebc58ac1417a09    1\n",
       "aaabad72467637cd672a021d2699c2bfb02736cdf53d64e8f3385b623cf9dd1e    1\n",
       "aaab82bd88837ce6490c66c82954aa1e6d59ca1ae6afcb87a86065cfcf96fb70    1\n",
       "                                                                   ..\n",
       "557716a29afd925a80a972134bf6f63fb24943ed1cd33e33850578d429f05189    1\n",
       "55771330f2fc1075c0a65181ddc963dd0630c61cc51180414195d9f18d4e584b    1\n",
       "557707059a44632a572fc1cb5676c5f874d27924b28bedfd016c78a36a4b6a40    1\n",
       "557705fcf5be9236da875c5546485cc96d607dc9fec13506ae3a5182eeb66931    1\n",
       "ffffd9ac14e89946416d80e791d064701994755c3ab686a1eaf3458c36f52241    1\n",
       "Name: customer_id, Length: 1371980, dtype: int64"
      ]
     },
     "execution_count": 18,
     "metadata": {},
     "output_type": "execute_result"
    }
   ],
   "source": [
    "df_customers[\"customer_id\"].value_counts()"
   ]
  },
  {
   "cell_type": "markdown",
   "id": "mechanical-shore",
   "metadata": {},
   "source": [
    "Hi ha un total de 1371980 clients diferents.\n",
    "\n",
    "**FN**"
   ]
  },
  {
   "cell_type": "code",
   "execution_count": 19,
   "id": "dated-occupation",
   "metadata": {},
   "outputs": [
    {
     "data": {
      "text/plain": [
       "1.0    476930\n",
       "Name: FN, dtype: int64"
      ]
     },
     "execution_count": 19,
     "metadata": {},
     "output_type": "execute_result"
    }
   ],
   "source": [
    "df_customers[\"FN\"].value_counts()"
   ]
  },
  {
   "cell_type": "markdown",
   "id": "tested-nicholas",
   "metadata": {},
   "source": [
    "Observem que l'únic valor que pren la variable FN és 1. És a dir, es tracta d'una variable categòrica binaria, que pren el valor de 1 (SÍ) o NaN (NO). Canviem tots els NaN per un 0, que representarà el NO:"
   ]
  },
  {
   "cell_type": "code",
   "execution_count": 20,
   "id": "varying-namibia",
   "metadata": {},
   "outputs": [],
   "source": [
    "df_customers[\"FN\"] = df_customers[\"FN\"].cat.add_categories(0).fillna(0)"
   ]
  },
  {
   "cell_type": "code",
   "execution_count": 21,
   "id": "corporate-belief",
   "metadata": {},
   "outputs": [
    {
     "data": {
      "text/plain": [
       "False"
      ]
     },
     "execution_count": 21,
     "metadata": {},
     "output_type": "execute_result"
    }
   ],
   "source": [
    "df_customers[\"FN\"].isnull().values.any()"
   ]
  },
  {
   "cell_type": "markdown",
   "id": "figured-fisher",
   "metadata": {},
   "source": [
    "Observem que fent el canvi, ja no tenim valors nuls.\n",
    "\n",
    "Amb la transformació aplicada, podem quantificar quants clients reben la revista i quants no:"
   ]
  },
  {
   "cell_type": "code",
   "execution_count": 22,
   "id": "fewer-watson",
   "metadata": {},
   "outputs": [
    {
     "data": {
      "text/plain": [
       "0.0    895050\n",
       "1.0    476930\n",
       "Name: FN, dtype: int64"
      ]
     },
     "execution_count": 22,
     "metadata": {},
     "output_type": "execute_result"
    }
   ],
   "source": [
    "df_customers[\"FN\"].value_counts()"
   ]
  },
  {
   "cell_type": "code",
   "execution_count": 23,
   "id": "latter-detection",
   "metadata": {},
   "outputs": [
    {
     "data": {
      "text/plain": [
       "0.0    0.652378\n",
       "1.0    0.347622\n",
       "Name: FN, dtype: float64"
      ]
     },
     "execution_count": 23,
     "metadata": {},
     "output_type": "execute_result"
    }
   ],
   "source": [
    "df_customers[\"FN\"].value_counts(normalize = True)"
   ]
  },
  {
   "cell_type": "markdown",
   "id": "fifty-toilet",
   "metadata": {},
   "source": [
    "És a dir, hi ha 895050 (65,2%) clients que sí que reben la revista i 476930 (34,8%) que no.\n",
    "\n",
    "Veiem-ho, també, de manera gràfica:"
   ]
  },
  {
   "cell_type": "code",
   "execution_count": 24,
   "id": "geographic-purpose",
   "metadata": {},
   "outputs": [
    {
     "data": {
      "image/png": "[encoded data removed]",
      "text/plain": [
       "<Figure size 432x288 with 1 Axes>"
      ]
     },
     "metadata": {},
     "output_type": "display_data"
    }
   ],
   "source": [
    "df_customers[\"FN\"].value_counts().plot(kind='pie', legend=bool);"
   ]
  },
  {
   "cell_type": "markdown",
   "id": "third-understanding",
   "metadata": {},
   "source": [
    "**Active**"
   ]
  },
  {
   "cell_type": "code",
   "execution_count": 25,
   "id": "useful-paraguay",
   "metadata": {},
   "outputs": [
    {
     "data": {
      "text/plain": [
       "1.0    464404\n",
       "Name: Active, dtype: int64"
      ]
     },
     "execution_count": 25,
     "metadata": {},
     "output_type": "execute_result"
    }
   ],
   "source": [
    "df_customers[\"Active\"].value_counts()"
   ]
  },
  {
   "cell_type": "markdown",
   "id": "popular-violin",
   "metadata": {},
   "source": [
    "Observem que l'únic valor que pren la variable Active és 1. És a dir, es tracta d'una variable categòrica binaria, que pren el valor de 1 (SÍ) o NaN (NO). Canviem tots els NaN per un 0, que representarà el NO:"
   ]
  },
  {
   "cell_type": "code",
   "execution_count": 26,
   "id": "fifth-compression",
   "metadata": {},
   "outputs": [],
   "source": [
    "df_customers[\"Active\"] = df_customers[\"Active\"].cat.add_categories(0).fillna(0)"
   ]
  },
  {
   "cell_type": "code",
   "execution_count": 27,
   "id": "joint-distribution",
   "metadata": {},
   "outputs": [
    {
     "data": {
      "text/plain": [
       "False"
      ]
     },
     "execution_count": 27,
     "metadata": {},
     "output_type": "execute_result"
    }
   ],
   "source": [
    "df_customers[\"Active\"].isnull().values.any()"
   ]
  },
  {
   "cell_type": "markdown",
   "id": "stuffed-latter",
   "metadata": {},
   "source": [
    "Observem que fent el canvi, ja no tenim valors nuls.\n",
    "\n",
    "Amb la transformació aplicada, podem quantificar quants clients reben comunicació i quants no:"
   ]
  },
  {
   "cell_type": "code",
   "execution_count": 28,
   "id": "specified-missouri",
   "metadata": {},
   "outputs": [
    {
     "data": {
      "text/plain": [
       "0.0    907576\n",
       "1.0    464404\n",
       "Name: Active, dtype: int64"
      ]
     },
     "execution_count": 28,
     "metadata": {},
     "output_type": "execute_result"
    }
   ],
   "source": [
    "df_customers[\"Active\"].value_counts()"
   ]
  },
  {
   "cell_type": "code",
   "execution_count": 29,
   "id": "charged-round",
   "metadata": {},
   "outputs": [
    {
     "data": {
      "text/plain": [
       "0.0    0.661508\n",
       "1.0    0.338492\n",
       "Name: Active, dtype: float64"
      ]
     },
     "execution_count": 29,
     "metadata": {},
     "output_type": "execute_result"
    }
   ],
   "source": [
    "df_customers[\"Active\"].value_counts(normalize = True)"
   ]
  },
  {
   "cell_type": "code",
   "execution_count": 30,
   "id": "collective-viewer",
   "metadata": {},
   "outputs": [
    {
     "data": {
      "image/png": "[encoded data removed]",
      "text/plain": [
       "<Figure size 432x288 with 1 Axes>"
      ]
     },
     "metadata": {},
     "output_type": "display_data"
    }
   ],
   "source": [
    "df_customers[\"Active\"].value_counts().plot(kind='pie', legend=bool);"
   ]
  },
  {
   "cell_type": "markdown",
   "id": "mature-lucas",
   "metadata": {},
   "source": [
    "Hi ha un total de 464404 (33,8%) clients que reben communicació i 907576 (66,2%) que no.\n",
    "\n",
    "\n",
    "\n",
    "**club_member_status**"
   ]
  },
  {
   "cell_type": "code",
   "execution_count": 31,
   "id": "removable-design",
   "metadata": {},
   "outputs": [
    {
     "data": {
      "text/plain": [
       "ACTIVE        1272491\n",
       "PRE-CREATE      92960\n",
       "LEFT CLUB         467\n",
       "Name: club_member_status, dtype: int64"
      ]
     },
     "execution_count": 31,
     "metadata": {},
     "output_type": "execute_result"
    }
   ],
   "source": [
    "df_customers[\"club_member_status\"].value_counts()"
   ]
  },
  {
   "cell_type": "markdown",
   "id": "modified-merchant",
   "metadata": {},
   "source": [
    "Observem que la variable club_member_status pot prendre els valors ACTIVE, PRE-CREATE, LEFT CLUB. En aquest cas, els valors nuls es corresponen als clients que no són membres de la botiga. Canviem doncs, tots els NaN a NO-MEMBER. "
   ]
  },
  {
   "cell_type": "code",
   "execution_count": 32,
   "id": "royal-canon",
   "metadata": {},
   "outputs": [],
   "source": [
    "df_customers[\"club_member_status\"] = df_customers[\"club_member_status\"].cat.add_categories(\"NO-MEMBER\").fillna(\"NO-MEMBER\")"
   ]
  },
  {
   "cell_type": "code",
   "execution_count": 33,
   "id": "painful-adelaide",
   "metadata": {},
   "outputs": [
    {
     "data": {
      "text/plain": [
       "False"
      ]
     },
     "execution_count": 33,
     "metadata": {},
     "output_type": "execute_result"
    }
   ],
   "source": [
    "df_customers[\"club_member_status\"].isnull().values.any()"
   ]
  },
  {
   "cell_type": "markdown",
   "id": "diagnostic-notion",
   "metadata": {},
   "source": [
    "Observem que fent el canvi, ja no tenim valors nuls.\n",
    "\n",
    "Amb la transformació aplicada, estudiem quants clients hi ha de cada tipus:"
   ]
  },
  {
   "cell_type": "code",
   "execution_count": 34,
   "id": "foreign-vacuum",
   "metadata": {},
   "outputs": [
    {
     "data": {
      "text/plain": [
       "ACTIVE        1272491\n",
       "PRE-CREATE      92960\n",
       "NO-MEMBER        6062\n",
       "LEFT CLUB         467\n",
       "Name: club_member_status, dtype: int64"
      ]
     },
     "execution_count": 34,
     "metadata": {},
     "output_type": "execute_result"
    }
   ],
   "source": [
    "df_customers[\"club_member_status\"].value_counts()"
   ]
  },
  {
   "cell_type": "code",
   "execution_count": 35,
   "id": "divided-amendment",
   "metadata": {},
   "outputs": [
    {
     "data": {
      "text/plain": [
       "ACTIVE        0.927485\n",
       "PRE-CREATE    0.067756\n",
       "NO-MEMBER     0.004418\n",
       "LEFT CLUB     0.000340\n",
       "Name: club_member_status, dtype: float64"
      ]
     },
     "execution_count": 35,
     "metadata": {},
     "output_type": "execute_result"
    }
   ],
   "source": [
    "df_customers[\"club_member_status\"].value_counts(normalize = True)"
   ]
  },
  {
   "cell_type": "code",
   "execution_count": 36,
   "id": "improved-latin",
   "metadata": {},
   "outputs": [
    {
     "data": {
      "image/png": "[encoded data removed]",
      "text/plain": [
       "<Figure size 576x576 with 1 Axes>"
      ]
     },
     "metadata": {},
     "output_type": "display_data"
    }
   ],
   "source": [
    "df_customers[\"club_member_status\"].value_counts().plot(kind='pie', legend=bool, figsize=(8,8));"
   ]
  },
  {
   "cell_type": "markdown",
   "id": "integrated-helen",
   "metadata": {},
   "source": [
    "Com a observació interessant, es destaca que més d'un 92% dels clients és un membre actiu.\n",
    "\n",
    "\n",
    "**fashion_news_frequency**"
   ]
  },
  {
   "cell_type": "code",
   "execution_count": 37,
   "id": "established-brooklyn",
   "metadata": {},
   "outputs": [
    {
     "data": {
      "text/plain": [
       "NONE         877711\n",
       "Regularly    477416\n",
       "Monthly         842\n",
       "None              2\n",
       "Name: fashion_news_frequency, dtype: int64"
      ]
     },
     "execution_count": 37,
     "metadata": {},
     "output_type": "execute_result"
    }
   ],
   "source": [
    "df_customers[\"fashion_news_frequency\"].value_counts()"
   ]
  },
  {
   "cell_type": "markdown",
   "id": "direct-snapshot",
   "metadata": {},
   "source": [
    "La variable fashion_news_frequency és una variable categorica que pren els següents valors: NONE, Regularly, Monthly, None. Observem que cal unificar els valors NONE i None, ja que tenen el mateix significat."
   ]
  },
  {
   "cell_type": "code",
   "execution_count": 38,
   "id": "after-naples",
   "metadata": {},
   "outputs": [],
   "source": [
    "df_customers[\"fashion_news_frequency\"]= df_customers[\"fashion_news_frequency\"].str.lower().astype(\"category\")"
   ]
  },
  {
   "cell_type": "code",
   "execution_count": 39,
   "id": "proper-shepherd",
   "metadata": {},
   "outputs": [
    {
     "data": {
      "text/plain": [
       "none         877713\n",
       "regularly    477416\n",
       "monthly         842\n",
       "Name: fashion_news_frequency, dtype: int64"
      ]
     },
     "execution_count": 39,
     "metadata": {},
     "output_type": "execute_result"
    }
   ],
   "source": [
    "df_customers[\"fashion_news_frequency\"].value_counts()"
   ]
  },
  {
   "cell_type": "markdown",
   "id": "radio-induction",
   "metadata": {},
   "source": [
    "Pel que fa als valors nuls, els canviarem per N/A, ja que se suposa que no hi ha informació disponible."
   ]
  },
  {
   "cell_type": "code",
   "execution_count": 40,
   "id": "whole-mining",
   "metadata": {},
   "outputs": [
    {
     "name": "stdout",
     "output_type": "stream",
     "text": [
      "<class 'pandas.core.frame.DataFrame'>\n",
      "RangeIndex: 1371980 entries, 0 to 1371979\n",
      "Data columns (total 7 columns):\n",
      " #   Column                  Non-Null Count    Dtype   \n",
      "---  ------                  --------------    -----   \n",
      " 0   customer_id             1371980 non-null  category\n",
      " 1   FN                      1371980 non-null  category\n",
      " 2   Active                  1371980 non-null  category\n",
      " 3   club_member_status      1371980 non-null  category\n",
      " 4   fashion_news_frequency  1355971 non-null  category\n",
      " 5   age                     1356119 non-null  float64 \n",
      " 6   postal_code             1371980 non-null  category\n",
      "dtypes: category(6), float64(1)\n",
      "memory usage: 79.6 MB\n"
     ]
    }
   ],
   "source": [
    "df_customers.info()"
   ]
  },
  {
   "cell_type": "code",
   "execution_count": 41,
   "id": "informative-selling",
   "metadata": {},
   "outputs": [],
   "source": [
    "df_customers[\"fashion_news_frequency\"] = df_customers[\"fashion_news_frequency\"].cat.add_categories(\"N/A\").fillna(\"N/A\")"
   ]
  },
  {
   "cell_type": "code",
   "execution_count": 42,
   "id": "sunrise-factor",
   "metadata": {},
   "outputs": [
    {
     "data": {
      "text/plain": [
       "False"
      ]
     },
     "execution_count": 42,
     "metadata": {},
     "output_type": "execute_result"
    }
   ],
   "source": [
    "df_customers[\"fashion_news_frequency\"].isnull().values.any()"
   ]
  },
  {
   "cell_type": "markdown",
   "id": "exposed-fashion",
   "metadata": {},
   "source": [
    "Observem que ja no hi ha valors nuls. Veiem quina quantitat de clients correspon a cada classe:"
   ]
  },
  {
   "cell_type": "code",
   "execution_count": 43,
   "id": "major-penetration",
   "metadata": {},
   "outputs": [
    {
     "data": {
      "text/plain": [
       "none         877713\n",
       "regularly    477416\n",
       "N/A           16009\n",
       "monthly         842\n",
       "Name: fashion_news_frequency, dtype: int64"
      ]
     },
     "execution_count": 43,
     "metadata": {},
     "output_type": "execute_result"
    }
   ],
   "source": [
    "df_customers[\"fashion_news_frequency\"].value_counts()"
   ]
  },
  {
   "cell_type": "code",
   "execution_count": 44,
   "id": "pleased-forestry",
   "metadata": {},
   "outputs": [
    {
     "data": {
      "text/plain": [
       "none         0.639742\n",
       "regularly    0.347976\n",
       "N/A          0.011669\n",
       "monthly      0.000614\n",
       "Name: fashion_news_frequency, dtype: float64"
      ]
     },
     "execution_count": 44,
     "metadata": {},
     "output_type": "execute_result"
    }
   ],
   "source": [
    "df_customers[\"fashion_news_frequency\"].value_counts(normalize = True)"
   ]
  },
  {
   "cell_type": "code",
   "execution_count": 45,
   "id": "orange-diving",
   "metadata": {},
   "outputs": [
    {
     "data": {
      "image/png": "[encoded data removed]",
      "text/plain": [
       "<Figure size 432x288 with 1 Axes>"
      ]
     },
     "metadata": {},
     "output_type": "display_data"
    }
   ],
   "source": [
    "df_customers[\"fashion_news_frequency\"].value_counts().plot(kind='pie', legend=bool);"
   ]
  },
  {
   "cell_type": "markdown",
   "id": "damaged-condition",
   "metadata": {},
   "source": [
    "La majoria de clients (877713 - 64%) no consulta la Fashion News, 477416 (34,8%) ho fan regularment i una minoria molt petita (842 - 0,06%) ho fa mensualment. Per 16009 (1,16%) clients no tenim informació.\n",
    "\n",
    "**age**"
   ]
  },
  {
   "cell_type": "code",
   "execution_count": 46,
   "id": "christian-finding",
   "metadata": {},
   "outputs": [
    {
     "data": {
      "text/plain": [
       "21.0    67530\n",
       "24.0    56124\n",
       "20.0    55196\n",
       "25.0    54989\n",
       "23.0    54867\n",
       "        ...  \n",
       "98.0        7\n",
       "97.0        4\n",
       "93.0        4\n",
       "96.0        3\n",
       "94.0        3\n",
       "Name: age, Length: 84, dtype: int64"
      ]
     },
     "execution_count": 46,
     "metadata": {},
     "output_type": "execute_result"
    }
   ],
   "source": [
    "df_customers[\"age\"].value_counts()"
   ]
  },
  {
   "cell_type": "markdown",
   "id": "verbal-principal",
   "metadata": {},
   "source": [
    "Veiem gràficament com es comporta l'edat dels consumidors:"
   ]
  },
  {
   "cell_type": "code",
   "execution_count": 47,
   "id": "realistic-advantage",
   "metadata": {},
   "outputs": [
    {
     "data": {
      "image/png": "[encoded data removed]",
      "text/plain": [
       "<Figure size 1152x432 with 1 Axes>"
      ]
     },
     "metadata": {
      "needs_background": "light"
     },
     "output_type": "display_data"
    }
   ],
   "source": [
    "df = pd.DataFrame({'Age': df_customers.groupby([\"age\"])[\"customer_id\"].count().index,\n",
    "                   'Customers': df_customers.groupby([\"age\"])[\"customer_id\"].count().values\n",
    "                  })\n",
    "df = df.sort_values(['Age'], ascending=False)\n",
    "plt.figure(figsize = (16,6))\n",
    "plt.title(f'Number of Customers per each Age')\n",
    "sns.set_color_codes(\"pastel\")\n",
    "s = sns.barplot(x = 'Age', y=\"Customers\", data=df)\n",
    "s.set_xticklabels(s.get_xticklabels(),rotation=90)\n",
    "locs, labels = plt.xticks()\n",
    "plt.show()"
   ]
  },
  {
   "cell_type": "markdown",
   "id": "outstanding-crowd",
   "metadata": {},
   "source": [
    "Anteriorment hem vist que la mitjana de l'edat era de 36,38 anys. En el gràfic anterior es pot veure que hi ha dos rangs d'edat que predominen respecte els altres. El primer, i el que té més influència seria de 19 a 31 anys i el segon de 47 a 54 anys. Per contemplar aquests dos rangs a l'hora de substituir els valors nuls, canviarem els valors NaN per la mediana:"
   ]
  },
  {
   "cell_type": "code",
   "execution_count": 48,
   "id": "quick-appeal",
   "metadata": {},
   "outputs": [],
   "source": [
    "df_customers[\"age\"] = df_customers[\"age\"].fillna(df_customers[\"age\"].median())"
   ]
  },
  {
   "cell_type": "code",
   "execution_count": 49,
   "id": "honey-guinea",
   "metadata": {},
   "outputs": [
    {
     "data": {
      "text/plain": [
       "False"
      ]
     },
     "execution_count": 49,
     "metadata": {},
     "output_type": "execute_result"
    }
   ],
   "source": [
    "df_customers[\"age\"].isnull().values.any()"
   ]
  },
  {
   "cell_type": "markdown",
   "id": "sonic-links",
   "metadata": {},
   "source": [
    "Observem que ja no hi ha valors nuls. Si tornem a representar gràficament l'edat tenim:"
   ]
  },
  {
   "cell_type": "code",
   "execution_count": 50,
   "id": "declared-allocation",
   "metadata": {},
   "outputs": [
    {
     "data": {
      "image/png": "[encoded data removed]",
      "text/plain": [
       "<Figure size 1152x432 with 1 Axes>"
      ]
     },
     "metadata": {
      "needs_background": "light"
     },
     "output_type": "display_data"
    }
   ],
   "source": [
    "df = pd.DataFrame({'Age': df_customers.groupby([\"age\"])[\"customer_id\"].count().index,\n",
    "                   'Customers': df_customers.groupby([\"age\"])[\"customer_id\"].count().values\n",
    "                  })\n",
    "df = df.sort_values(['Age'], ascending=False)\n",
    "plt.figure(figsize = (16,6))\n",
    "plt.title(f'Number of Customers per each Age')\n",
    "sns.set_color_codes(\"pastel\")\n",
    "s = sns.barplot(x = 'Age', y=\"Customers\", data=df)\n",
    "s.set_xticklabels(s.get_xticklabels(),rotation=90)\n",
    "locs, labels = plt.xticks()\n",
    "plt.show()"
   ]
  },
  {
   "cell_type": "markdown",
   "id": "agreed-lafayette",
   "metadata": {},
   "source": [
    "Observem que els rangs d'edat que predominaven es mantenen, pel que es considera una bona alternativa.\n",
    "\n",
    "**postal_code**"
   ]
  },
  {
   "cell_type": "code",
   "execution_count": 51,
   "id": "thermal-reporter",
   "metadata": {},
   "outputs": [
    {
     "data": {
      "text/plain": [
       "2c29ae653a9282cce4151bd87643c907644e09541abc28ae87dea0d1f6603b1c    120303\n",
       "cc4ed85e30f4977dae47662ddc468cd2eec11472de6fac5ec985080fd92243c8       261\n",
       "714976379549eb90aae4a71bca6c7402cc646ae7c40f6c1cb91d4b5a18623fc1       159\n",
       "7c1fa3b0ec1d37ce2c3f34f63bd792f3b4494f324b6be5d1e4ba6a75456b96a7       157\n",
       "5b7eb31eabebd3277de632b82267286d847fd5d44287ee150bb4206b48439145       156\n",
       "                                                                     ...  \n",
       "5e14f1b9db2fc96d22ed0a48462e684061ee81ab82b36e57fd348ed945b63105         1\n",
       "c4873af1061bd5be842d810d9d8549941befa4f4aaf56aeb86b19c3971e7ae4d         1\n",
       "5e153c2cb31cce8575346a7b165527a58d49d5223cfd64dcefe2a8830e44333a         1\n",
       "c48723f620fb40095368752f0dc577b5575dea418bea6e1991bb77d25f132d65         1\n",
       "0000198d2c593b7d3df5a35282b74cf3a487b066286b2beab55d4f5ac2b16127         1\n",
       "Name: postal_code, Length: 352899, dtype: int64"
      ]
     },
     "execution_count": 51,
     "metadata": {},
     "output_type": "execute_result"
    }
   ],
   "source": [
    "df_customers[\"postal_code\"].value_counts()"
   ]
  },
  {
   "cell_type": "markdown",
   "id": "awful-encyclopedia",
   "metadata": {},
   "source": [
    "Observem que hi ha un codi postal des d'on es realitzen la gran majoria de les compres.\n",
    "\n",
    "Finalment, exportem el dataset modificat per a utilitzar-lo per el model:"
   ]
  },
  {
   "cell_type": "code",
   "execution_count": 52,
   "id": "cellular-might",
   "metadata": {},
   "outputs": [],
   "source": [
    "df_customers.to_csv('customers_model.csv',index=False)"
   ]
  }
 ],
 "metadata": {
  "kernelspec": {
   "display_name": "Python 3",
   "language": "python",
   "name": "python3"
  },
  "language_info": {
   "codemirror_mode": {
    "name": "ipython",
    "version": 3
   },
   "file_extension": ".py",
   "mimetype": "text/x-python",
   "name": "python",
   "nbconvert_exporter": "python",
   "pygments_lexer": "ipython3",
   "version": "3.7.10"
  }
 },
 "nbformat": 4,
 "nbformat_minor": 5
}
