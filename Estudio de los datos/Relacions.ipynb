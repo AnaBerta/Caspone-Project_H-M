{
 "cells": [
  {
   "cell_type": "markdown",
   "id": "bacterial-calibration",
   "metadata": {},
   "source": [
    "# Capstone Project - H&M Recommendation\n",
    "\n",
    "Ana Berta Vegas; Ester Iglesias; Raquel Dominguez"
   ]
  },
  {
   "cell_type": "markdown",
   "id": "dutch-timeline",
   "metadata": {},
   "source": [
    "## Relacions entre datasets"
   ]
  },
  {
   "cell_type": "markdown",
   "id": "weekly-balloon",
   "metadata": {},
   "source": [
    "En aquest notbook relacionarem la informació més important de cada un dels datasets treballats, per poder estudiar-los de manera conjunta.\n",
    "\n",
    "En primer lloc, importem les llibreries necessàries:"
   ]
  },
  {
   "cell_type": "code",
   "execution_count": 1,
   "id": "drawn-labor",
   "metadata": {},
   "outputs": [],
   "source": [
    "#!pip install pandasql"
   ]
  },
  {
   "cell_type": "code",
   "execution_count": 2,
   "id": "convinced-construction",
   "metadata": {},
   "outputs": [],
   "source": [
    "import numpy as np\n",
    "import pandas as pd\n",
    "\n",
    "import matplotlib as mpl\n",
    "import matplotlib.pyplot as plt\n",
    "\n",
    "import seaborn as sns\n",
    "\n",
    "from pandasql import sqldf"
   ]
  },
  {
   "cell_type": "markdown",
   "id": "muslim-place",
   "metadata": {},
   "source": [
    "Llegim els datasets:"
   ]
  },
  {
   "cell_type": "code",
   "execution_count": 3,
   "id": "productive-airfare",
   "metadata": {},
   "outputs": [],
   "source": [
    "df_customers = pd.read_csv('customers.csv')\n",
    "df_articles = pd.read_csv('articles.csv')\n",
    "df_transactions = pd.read_csv('transactions_train.csv')"
   ]
  },
  {
   "cell_type": "markdown",
   "id": "fossil-narrative",
   "metadata": {},
   "source": [
    "Borrem les dades repetides del dataset de transactions:"
   ]
  },
  {
   "cell_type": "code",
   "execution_count": 4,
   "id": "worthy-kitchen",
   "metadata": {},
   "outputs": [],
   "source": [
    "df_transactions.drop_duplicates(inplace=True, ignore_index=True)"
   ]
  },
  {
   "cell_type": "markdown",
   "id": "female-beverage",
   "metadata": {},
   "source": [
    "**Transactions & Articles**"
   ]
  },
  {
   "cell_type": "markdown",
   "id": "official-nigeria",
   "metadata": {},
   "source": [
    "En primer lloc, relacionarem el dataset d'articles amb el de transactions. Per fer-ho, primer creem un nou dataset a partir del de les transaccions, seleccionant l'indentificador de cada un dels articles que apareix, i la seva quantitat venguda:"
   ]
  },
  {
   "cell_type": "code",
   "execution_count": 5,
   "id": "commercial-relaxation",
   "metadata": {},
   "outputs": [
    {
     "data": {
      "text/plain": [
       "706016001    42672\n",
       "706016002    30862\n",
       "372860001    29337\n",
       "610776002    25234\n",
       "759871002    23799\n",
       "Name: article_id, dtype: int64"
      ]
     },
     "execution_count": 5,
     "metadata": {},
     "output_type": "execute_result"
    }
   ],
   "source": [
    "df_quatity_per_article = df_transactions[\"article_id\"].value_counts()\n",
    "df_quatity_per_article.head()"
   ]
  },
  {
   "cell_type": "code",
   "execution_count": 6,
   "id": "threaded-introduction",
   "metadata": {},
   "outputs": [
    {
     "data": {
      "text/html": [
       "<div>\n",
       "<style scoped>\n",
       "    .dataframe tbody tr th:only-of-type {\n",
       "        vertical-align: middle;\n",
       "    }\n",
       "\n",
       "    .dataframe tbody tr th {\n",
       "        vertical-align: top;\n",
       "    }\n",
       "\n",
       "    .dataframe thead th {\n",
       "        text-align: right;\n",
       "    }\n",
       "</style>\n",
       "<table border=\"1\" class=\"dataframe\">\n",
       "  <thead>\n",
       "    <tr style=\"text-align: right;\">\n",
       "      <th></th>\n",
       "      <th>article_id</th>\n",
       "      <th>quantity</th>\n",
       "    </tr>\n",
       "  </thead>\n",
       "  <tbody>\n",
       "    <tr>\n",
       "      <th>0</th>\n",
       "      <td>706016001</td>\n",
       "      <td>42672</td>\n",
       "    </tr>\n",
       "    <tr>\n",
       "      <th>1</th>\n",
       "      <td>706016002</td>\n",
       "      <td>30862</td>\n",
       "    </tr>\n",
       "    <tr>\n",
       "      <th>2</th>\n",
       "      <td>372860001</td>\n",
       "      <td>29337</td>\n",
       "    </tr>\n",
       "    <tr>\n",
       "      <th>3</th>\n",
       "      <td>610776002</td>\n",
       "      <td>25234</td>\n",
       "    </tr>\n",
       "    <tr>\n",
       "      <th>4</th>\n",
       "      <td>759871002</td>\n",
       "      <td>23799</td>\n",
       "    </tr>\n",
       "  </tbody>\n",
       "</table>\n",
       "</div>"
      ],
      "text/plain": [
       "   article_id  quantity\n",
       "0   706016001     42672\n",
       "1   706016002     30862\n",
       "2   372860001     29337\n",
       "3   610776002     25234\n",
       "4   759871002     23799"
      ]
     },
     "execution_count": 6,
     "metadata": {},
     "output_type": "execute_result"
    }
   ],
   "source": [
    "df_quatity_per_article=df_quatity_per_article.reset_index()\n",
    "df_quatity_per_article.rename(columns = {\"article_id\":\"quantity\",\"index\":\"article_id\"}, inplace=True)\n",
    "df_quatity_per_article.head()"
   ]
  },
  {
   "cell_type": "markdown",
   "id": "intellectual-newman",
   "metadata": {},
   "source": [
    "Relacionem el dataset anterior amb el dataset d'articles. Seleccionem primer, la informació que volem:"
   ]
  },
  {
   "cell_type": "code",
   "execution_count": 7,
   "id": "careful-ireland",
   "metadata": {},
   "outputs": [],
   "source": [
    "df_articles = df_articles[[\"article_id\", \"prod_name\", \"product_type_name\", \"product_group_name\", \"colour_group_name\", \"department_name\", \"index_name\"]]"
   ]
  },
  {
   "cell_type": "markdown",
   "id": "preceding-personal",
   "metadata": {},
   "source": [
    "Ajuntem els dos datasets mitjançant l'*article_id*, que és l'identificador que es repeteix: "
   ]
  },
  {
   "cell_type": "code",
   "execution_count": 8,
   "id": "federal-sterling",
   "metadata": {},
   "outputs": [
    {
     "data": {
      "text/html": [
       "<div>\n",
       "<style scoped>\n",
       "    .dataframe tbody tr th:only-of-type {\n",
       "        vertical-align: middle;\n",
       "    }\n",
       "\n",
       "    .dataframe tbody tr th {\n",
       "        vertical-align: top;\n",
       "    }\n",
       "\n",
       "    .dataframe thead th {\n",
       "        text-align: right;\n",
       "    }\n",
       "</style>\n",
       "<table border=\"1\" class=\"dataframe\">\n",
       "  <thead>\n",
       "    <tr style=\"text-align: right;\">\n",
       "      <th></th>\n",
       "      <th>article_id</th>\n",
       "      <th>quantity</th>\n",
       "      <th>article_id</th>\n",
       "      <th>prod_name</th>\n",
       "      <th>product_type_name</th>\n",
       "      <th>product_group_name</th>\n",
       "      <th>colour_group_name</th>\n",
       "      <th>department_name</th>\n",
       "      <th>index_name</th>\n",
       "    </tr>\n",
       "  </thead>\n",
       "  <tbody>\n",
       "    <tr>\n",
       "      <th>0</th>\n",
       "      <td>706016001</td>\n",
       "      <td>42672</td>\n",
       "      <td>706016001</td>\n",
       "      <td>Jade HW Skinny Denim TRS</td>\n",
       "      <td>Trousers</td>\n",
       "      <td>Garment Lower body</td>\n",
       "      <td>Black</td>\n",
       "      <td>Trousers</td>\n",
       "      <td>Divided</td>\n",
       "    </tr>\n",
       "    <tr>\n",
       "      <th>1</th>\n",
       "      <td>706016002</td>\n",
       "      <td>30862</td>\n",
       "      <td>706016002</td>\n",
       "      <td>Jade HW Skinny Denim TRS</td>\n",
       "      <td>Trousers</td>\n",
       "      <td>Garment Lower body</td>\n",
       "      <td>Light Blue</td>\n",
       "      <td>Trousers</td>\n",
       "      <td>Divided</td>\n",
       "    </tr>\n",
       "    <tr>\n",
       "      <th>2</th>\n",
       "      <td>372860001</td>\n",
       "      <td>29337</td>\n",
       "      <td>372860001</td>\n",
       "      <td>7p Basic Shaftless</td>\n",
       "      <td>Socks</td>\n",
       "      <td>Socks &amp; Tights</td>\n",
       "      <td>Black</td>\n",
       "      <td>Shopbasket Socks</td>\n",
       "      <td>Lingeries/Tights</td>\n",
       "    </tr>\n",
       "    <tr>\n",
       "      <th>3</th>\n",
       "      <td>610776002</td>\n",
       "      <td>25234</td>\n",
       "      <td>610776002</td>\n",
       "      <td>Tilly (1)</td>\n",
       "      <td>T-shirt</td>\n",
       "      <td>Garment Upper body</td>\n",
       "      <td>Black</td>\n",
       "      <td>Jersey Basic</td>\n",
       "      <td>Ladieswear</td>\n",
       "    </tr>\n",
       "    <tr>\n",
       "      <th>4</th>\n",
       "      <td>759871002</td>\n",
       "      <td>23799</td>\n",
       "      <td>759871002</td>\n",
       "      <td>Tilda tank</td>\n",
       "      <td>Vest top</td>\n",
       "      <td>Garment Upper body</td>\n",
       "      <td>Black</td>\n",
       "      <td>EQ Divided Basics</td>\n",
       "      <td>Divided</td>\n",
       "    </tr>\n",
       "    <tr>\n",
       "      <th>5</th>\n",
       "      <td>372860002</td>\n",
       "      <td>22472</td>\n",
       "      <td>372860002</td>\n",
       "      <td>7p Basic Shaftless</td>\n",
       "      <td>Socks</td>\n",
       "      <td>Socks &amp; Tights</td>\n",
       "      <td>White</td>\n",
       "      <td>Shopbasket Socks</td>\n",
       "      <td>Lingeries/Tights</td>\n",
       "    </tr>\n",
       "    <tr>\n",
       "      <th>6</th>\n",
       "      <td>464297007</td>\n",
       "      <td>21782</td>\n",
       "      <td>464297007</td>\n",
       "      <td>Greta Thong Mynta Low 3p</td>\n",
       "      <td>Underwear bottom</td>\n",
       "      <td>Underwear</td>\n",
       "      <td>Black</td>\n",
       "      <td>Casual Lingerie</td>\n",
       "      <td>Lingeries/Tights</td>\n",
       "    </tr>\n",
       "    <tr>\n",
       "      <th>7</th>\n",
       "      <td>399223001</td>\n",
       "      <td>19604</td>\n",
       "      <td>399223001</td>\n",
       "      <td>Curvy Jeggings HW Ankle</td>\n",
       "      <td>Trousers</td>\n",
       "      <td>Garment Lower body</td>\n",
       "      <td>Black</td>\n",
       "      <td>Denim Trousers</td>\n",
       "      <td>Divided</td>\n",
       "    </tr>\n",
       "    <tr>\n",
       "      <th>8</th>\n",
       "      <td>720125001</td>\n",
       "      <td>18975</td>\n",
       "      <td>720125001</td>\n",
       "      <td>SUPREME RW tights</td>\n",
       "      <td>Leggings/Tights</td>\n",
       "      <td>Garment Lower body</td>\n",
       "      <td>Black</td>\n",
       "      <td>Ladies Sport Bottoms</td>\n",
       "      <td>Sport</td>\n",
       "    </tr>\n",
       "    <tr>\n",
       "      <th>9</th>\n",
       "      <td>610776001</td>\n",
       "      <td>18777</td>\n",
       "      <td>610776001</td>\n",
       "      <td>Tilly (1)</td>\n",
       "      <td>T-shirt</td>\n",
       "      <td>Garment Upper body</td>\n",
       "      <td>White</td>\n",
       "      <td>Jersey Basic</td>\n",
       "      <td>Ladieswear</td>\n",
       "    </tr>\n",
       "  </tbody>\n",
       "</table>\n",
       "</div>"
      ],
      "text/plain": [
       "   article_id  quantity  article_id                 prod_name  \\\n",
       "0   706016001     42672   706016001  Jade HW Skinny Denim TRS   \n",
       "1   706016002     30862   706016002  Jade HW Skinny Denim TRS   \n",
       "2   372860001     29337   372860001        7p Basic Shaftless   \n",
       "3   610776002     25234   610776002                 Tilly (1)   \n",
       "4   759871002     23799   759871002                Tilda tank   \n",
       "5   372860002     22472   372860002        7p Basic Shaftless   \n",
       "6   464297007     21782   464297007  Greta Thong Mynta Low 3p   \n",
       "7   399223001     19604   399223001   Curvy Jeggings HW Ankle   \n",
       "8   720125001     18975   720125001         SUPREME RW tights   \n",
       "9   610776001     18777   610776001                 Tilly (1)   \n",
       "\n",
       "  product_type_name  product_group_name colour_group_name  \\\n",
       "0          Trousers  Garment Lower body             Black   \n",
       "1          Trousers  Garment Lower body        Light Blue   \n",
       "2             Socks      Socks & Tights             Black   \n",
       "3           T-shirt  Garment Upper body             Black   \n",
       "4          Vest top  Garment Upper body             Black   \n",
       "5             Socks      Socks & Tights             White   \n",
       "6  Underwear bottom           Underwear             Black   \n",
       "7          Trousers  Garment Lower body             Black   \n",
       "8   Leggings/Tights  Garment Lower body             Black   \n",
       "9           T-shirt  Garment Upper body             White   \n",
       "\n",
       "        department_name        index_name  \n",
       "0              Trousers           Divided  \n",
       "1              Trousers           Divided  \n",
       "2      Shopbasket Socks  Lingeries/Tights  \n",
       "3          Jersey Basic        Ladieswear  \n",
       "4     EQ Divided Basics           Divided  \n",
       "5      Shopbasket Socks  Lingeries/Tights  \n",
       "6       Casual Lingerie  Lingeries/Tights  \n",
       "7        Denim Trousers           Divided  \n",
       "8  Ladies Sport Bottoms             Sport  \n",
       "9          Jersey Basic        Ladieswear  "
      ]
     },
     "execution_count": 8,
     "metadata": {},
     "output_type": "execute_result"
    }
   ],
   "source": [
    "df_article_details = sqldf(\"\"\"SELECT *\n",
    "    FROM df_quatity_per_article t\n",
    "    INNER JOIN df_articles a\n",
    "    on t.article_id = a.article_id\n",
    "\"\"\")\n",
    "df_article_details.head(10)"
   ]
  },
  {
   "cell_type": "markdown",
   "id": "responsible-prophet",
   "metadata": {},
   "source": [
    "Analitzem el dataframe anterior:\n",
    "\n",
    "En primer lloc, observem que, tal i com hem vist en el notebook de Transactions, l'article que més vegades s'ha comprat és el que té com a id 706016001. Ara però, sabem que aquest article són uns pantalons de color negre, que tenen el nom de Jade HW Skinny Denim TRS. És a dir, tenim molta més informació.\n",
    "\n",
    "A més, observem que el segon article més vengut (706016002) es tracta d'exactament el mateix producte però d'un altre color, és informació que simplement amb la id de l'article no es podia deduir.\n",
    "\n",
    "Veiem quins són els productes més exitosos:"
   ]
  },
  {
   "cell_type": "code",
   "execution_count": 9,
   "id": "interesting-magnet",
   "metadata": {},
   "outputs": [
    {
     "data": {
      "text/html": [
       "<div>\n",
       "<style scoped>\n",
       "    .dataframe tbody tr th:only-of-type {\n",
       "        vertical-align: middle;\n",
       "    }\n",
       "\n",
       "    .dataframe tbody tr th {\n",
       "        vertical-align: top;\n",
       "    }\n",
       "\n",
       "    .dataframe thead th {\n",
       "        text-align: right;\n",
       "    }\n",
       "</style>\n",
       "<table border=\"1\" class=\"dataframe\">\n",
       "  <thead>\n",
       "    <tr style=\"text-align: right;\">\n",
       "      <th></th>\n",
       "      <th>Articles</th>\n",
       "      <th>Quantity</th>\n",
       "    </tr>\n",
       "  </thead>\n",
       "  <tbody>\n",
       "    <tr>\n",
       "      <th>20420</th>\n",
       "      <td>Jade HW Skinny Denim TRS</td>\n",
       "      <td>147246</td>\n",
       "    </tr>\n",
       "    <tr>\n",
       "      <th>25331</th>\n",
       "      <td>Luna skinny RW</td>\n",
       "      <td>125847</td>\n",
       "    </tr>\n",
       "    <tr>\n",
       "      <th>42311</th>\n",
       "      <td>Timeless Midrise Brief</td>\n",
       "      <td>101611</td>\n",
       "    </tr>\n",
       "    <tr>\n",
       "      <th>42269</th>\n",
       "      <td>Tilly (1)</td>\n",
       "      <td>94027</td>\n",
       "    </tr>\n",
       "    <tr>\n",
       "      <th>8264</th>\n",
       "      <td>Cat Tee.</td>\n",
       "      <td>74437</td>\n",
       "    </tr>\n",
       "    <tr>\n",
       "      <th>39073</th>\n",
       "      <td>Simple as That Triangle Top</td>\n",
       "      <td>64772</td>\n",
       "    </tr>\n",
       "    <tr>\n",
       "      <th>38560</th>\n",
       "      <td>Shake it in Balconette</td>\n",
       "      <td>64214</td>\n",
       "    </tr>\n",
       "    <tr>\n",
       "      <th>11838</th>\n",
       "      <td>Despacito</td>\n",
       "      <td>64023</td>\n",
       "    </tr>\n",
       "    <tr>\n",
       "      <th>42258</th>\n",
       "      <td>Tilda tank</td>\n",
       "      <td>63286</td>\n",
       "    </tr>\n",
       "    <tr>\n",
       "      <th>29785</th>\n",
       "      <td>Nora T-shirt</td>\n",
       "      <td>60138</td>\n",
       "    </tr>\n",
       "  </tbody>\n",
       "</table>\n",
       "</div>"
      ],
      "text/plain": [
       "                          Articles  Quantity\n",
       "20420     Jade HW Skinny Denim TRS    147246\n",
       "25331               Luna skinny RW    125847\n",
       "42311       Timeless Midrise Brief    101611\n",
       "42269                    Tilly (1)     94027\n",
       "8264                      Cat Tee.     74437\n",
       "39073  Simple as That Triangle Top     64772\n",
       "38560       Shake it in Balconette     64214\n",
       "11838                    Despacito     64023\n",
       "42258                   Tilda tank     63286\n",
       "29785                 Nora T-shirt     60138"
      ]
     },
     "execution_count": 9,
     "metadata": {},
     "output_type": "execute_result"
    }
   ],
   "source": [
    "df = pd.DataFrame({'Articles': df_article_details.groupby(\"prod_name\")[\"quantity\"].sum().index,\n",
    "                   'Quantity': df_article_details.groupby(\"prod_name\")[\"quantity\"].sum().values\n",
    "                  })\n",
    "df = df.sort_values(['Quantity'], ascending=False)\n",
    "df_head = df.head(10)\n",
    "df_head"
   ]
  },
  {
   "cell_type": "markdown",
   "id": "ranking-playback",
   "metadata": {},
   "source": [
    "I de manera gràfica:"
   ]
  },
  {
   "cell_type": "code",
   "execution_count": 10,
   "id": "compressed-study",
   "metadata": {},
   "outputs": [
    {
     "data": {
      "image/png": "[encoded data removed]",
      "text/plain": [
       "<Figure size 1440x720 with 1 Axes>"
      ]
     },
     "metadata": {
      "needs_background": "light"
     },
     "output_type": "display_data"
    }
   ],
   "source": [
    "plt.figure(figsize = (20,10))\n",
    "plt.title(f\"TOP 10 Articles més venguts\")\n",
    "sns.set_color_codes(\"pastel\")\n",
    "s = sns.barplot(x = 'Articles', y=\"Quantity\", data=df_head)\n",
    "s.set_xticklabels(s.get_xticklabels(),rotation=90)\n",
    "locs, labels = plt.xticks()\n",
    "plt.show()"
   ]
  },
  {
   "cell_type": "markdown",
   "id": "single-henry",
   "metadata": {},
   "source": [
    "Per altra banda, els productes que menys es venen són:"
   ]
  },
  {
   "cell_type": "code",
   "execution_count": 11,
   "id": "peaceful-channel",
   "metadata": {},
   "outputs": [
    {
     "data": {
      "text/html": [
       "<div>\n",
       "<style scoped>\n",
       "    .dataframe tbody tr th:only-of-type {\n",
       "        vertical-align: middle;\n",
       "    }\n",
       "\n",
       "    .dataframe tbody tr th {\n",
       "        vertical-align: top;\n",
       "    }\n",
       "\n",
       "    .dataframe thead th {\n",
       "        text-align: right;\n",
       "    }\n",
       "</style>\n",
       "<table border=\"1\" class=\"dataframe\">\n",
       "  <thead>\n",
       "    <tr style=\"text-align: right;\">\n",
       "      <th></th>\n",
       "      <th>Articles</th>\n",
       "      <th>Quantity</th>\n",
       "    </tr>\n",
       "  </thead>\n",
       "  <tbody>\n",
       "    <tr>\n",
       "      <th>17793</th>\n",
       "      <td>Greger LS Body</td>\n",
       "      <td>1</td>\n",
       "    </tr>\n",
       "    <tr>\n",
       "      <th>17873</th>\n",
       "      <td>Gunde fancy</td>\n",
       "      <td>1</td>\n",
       "    </tr>\n",
       "    <tr>\n",
       "      <th>2510</th>\n",
       "      <td>Anna waterproof boot BG</td>\n",
       "      <td>1</td>\n",
       "    </tr>\n",
       "    <tr>\n",
       "      <th>26687</th>\n",
       "      <td>Mamma Mia PRICE</td>\n",
       "      <td>1</td>\n",
       "    </tr>\n",
       "    <tr>\n",
       "      <th>38549</th>\n",
       "      <td>Shaftless lace sock 2-p</td>\n",
       "      <td>1</td>\n",
       "    </tr>\n",
       "    <tr>\n",
       "      <th>17853</th>\n",
       "      <td>Gudrun LS</td>\n",
       "      <td>1</td>\n",
       "    </tr>\n",
       "    <tr>\n",
       "      <th>17855</th>\n",
       "      <td>Guernsey Sweater</td>\n",
       "      <td>1</td>\n",
       "    </tr>\n",
       "    <tr>\n",
       "      <th>17858</th>\n",
       "      <td>Guido leggings</td>\n",
       "      <td>1</td>\n",
       "    </tr>\n",
       "    <tr>\n",
       "      <th>2474</th>\n",
       "      <td>Anja VALENTINE Tulle skirt</td>\n",
       "      <td>1</td>\n",
       "    </tr>\n",
       "    <tr>\n",
       "      <th>34822</th>\n",
       "      <td>Rigby rhine earring</td>\n",
       "      <td>1</td>\n",
       "    </tr>\n",
       "  </tbody>\n",
       "</table>\n",
       "</div>"
      ],
      "text/plain": [
       "                         Articles  Quantity\n",
       "17793              Greger LS Body         1\n",
       "17873                 Gunde fancy         1\n",
       "2510      Anna waterproof boot BG         1\n",
       "26687             Mamma Mia PRICE         1\n",
       "38549     Shaftless lace sock 2-p         1\n",
       "17853                   Gudrun LS         1\n",
       "17855            Guernsey Sweater         1\n",
       "17858              Guido leggings         1\n",
       "2474   Anja VALENTINE Tulle skirt         1\n",
       "34822         Rigby rhine earring         1"
      ]
     },
     "execution_count": 11,
     "metadata": {},
     "output_type": "execute_result"
    }
   ],
   "source": [
    "df_tail = df.tail(10)\n",
    "df_tail"
   ]
  },
  {
   "cell_type": "markdown",
   "id": "civilian-johnson",
   "metadata": {},
   "source": [
    "Veiem-ho gràficament:"
   ]
  },
  {
   "cell_type": "code",
   "execution_count": 12,
   "id": "excellent-exhaust",
   "metadata": {
    "scrolled": true
   },
   "outputs": [
    {
     "data": {
      "image/png": "[encoded data removed]",
      "text/plain": [
       "<Figure size 1440x720 with 1 Axes>"
      ]
     },
     "metadata": {
      "needs_background": "light"
     },
     "output_type": "display_data"
    }
   ],
   "source": [
    "plt.figure(figsize = (20,10))\n",
    "plt.title(f\"10 Articles menys venguts\")\n",
    "sns.set_color_codes(\"pastel\")\n",
    "s = sns.barplot(x = 'Articles', y=\"Quantity\", data=df_tail)\n",
    "s.set_xticklabels(s.get_xticklabels(),rotation=90)\n",
    "locs, labels = plt.xticks()\n",
    "plt.show()"
   ]
  },
  {
   "cell_type": "markdown",
   "id": "utility-indicator",
   "metadata": {},
   "source": [
    "Observem que tots els articles menys venguts s'han comprat només una vegada. Quantifiquem quants són i els identifiquem:"
   ]
  },
  {
   "cell_type": "code",
   "execution_count": 13,
   "id": "ruled-handbook",
   "metadata": {},
   "outputs": [
    {
     "data": {
      "text/html": [
       "<div>\n",
       "<style scoped>\n",
       "    .dataframe tbody tr th:only-of-type {\n",
       "        vertical-align: middle;\n",
       "    }\n",
       "\n",
       "    .dataframe tbody tr th {\n",
       "        vertical-align: top;\n",
       "    }\n",
       "\n",
       "    .dataframe thead th {\n",
       "        text-align: right;\n",
       "    }\n",
       "</style>\n",
       "<table border=\"1\" class=\"dataframe\">\n",
       "  <thead>\n",
       "    <tr style=\"text-align: right;\">\n",
       "      <th></th>\n",
       "      <th>Articles</th>\n",
       "      <th>Quantity</th>\n",
       "    </tr>\n",
       "  </thead>\n",
       "  <tbody>\n",
       "    <tr>\n",
       "      <th>151</th>\n",
       "      <td>10P SS Body pack</td>\n",
       "      <td>1</td>\n",
       "    </tr>\n",
       "    <tr>\n",
       "      <th>22489</th>\n",
       "      <td>Kim 2p padded E&amp;F</td>\n",
       "      <td>1</td>\n",
       "    </tr>\n",
       "    <tr>\n",
       "      <th>7656</th>\n",
       "      <td>CW Zeni Asymetric Skirt</td>\n",
       "      <td>1</td>\n",
       "    </tr>\n",
       "    <tr>\n",
       "      <th>7593</th>\n",
       "      <td>CSP W Carol</td>\n",
       "      <td>1</td>\n",
       "    </tr>\n",
       "    <tr>\n",
       "      <th>1038</th>\n",
       "      <td>AK Garland Dress</td>\n",
       "      <td>1</td>\n",
       "    </tr>\n",
       "    <tr>\n",
       "      <th>...</th>\n",
       "      <td>...</td>\n",
       "      <td>...</td>\n",
       "    </tr>\n",
       "    <tr>\n",
       "      <th>17853</th>\n",
       "      <td>Gudrun LS</td>\n",
       "      <td>1</td>\n",
       "    </tr>\n",
       "    <tr>\n",
       "      <th>17855</th>\n",
       "      <td>Guernsey Sweater</td>\n",
       "      <td>1</td>\n",
       "    </tr>\n",
       "    <tr>\n",
       "      <th>17858</th>\n",
       "      <td>Guido leggings</td>\n",
       "      <td>1</td>\n",
       "    </tr>\n",
       "    <tr>\n",
       "      <th>2474</th>\n",
       "      <td>Anja VALENTINE Tulle skirt</td>\n",
       "      <td>1</td>\n",
       "    </tr>\n",
       "    <tr>\n",
       "      <th>34822</th>\n",
       "      <td>Rigby rhine earring</td>\n",
       "      <td>1</td>\n",
       "    </tr>\n",
       "  </tbody>\n",
       "</table>\n",
       "<p>1677 rows × 2 columns</p>\n",
       "</div>"
      ],
      "text/plain": [
       "                         Articles  Quantity\n",
       "151              10P SS Body pack         1\n",
       "22489           Kim 2p padded E&F         1\n",
       "7656      CW Zeni Asymetric Skirt         1\n",
       "7593                  CSP W Carol         1\n",
       "1038             AK Garland Dress         1\n",
       "...                           ...       ...\n",
       "17853                   Gudrun LS         1\n",
       "17855            Guernsey Sweater         1\n",
       "17858              Guido leggings         1\n",
       "2474   Anja VALENTINE Tulle skirt         1\n",
       "34822         Rigby rhine earring         1\n",
       "\n",
       "[1677 rows x 2 columns]"
      ]
     },
     "execution_count": 13,
     "metadata": {},
     "output_type": "execute_result"
    }
   ],
   "source": [
    "df[df[\"Quantity\"]==1]"
   ]
  },
  {
   "cell_type": "markdown",
   "id": "therapeutic-jackson",
   "metadata": {},
   "source": [
    "Hi ha un total de 1624 articles que només s'han vengut una vegada. Calculem quin percentatge del total representa:"
   ]
  },
  {
   "cell_type": "code",
   "execution_count": 14,
   "id": "promising-berry",
   "metadata": {},
   "outputs": [
    {
     "data": {
      "text/plain": [
       "3.685066361958337"
      ]
     },
     "execution_count": 14,
     "metadata": {},
     "output_type": "execute_result"
    }
   ],
   "source": [
    "len(df[df[\"Quantity\"]==1])/len(df)*100"
   ]
  },
  {
   "cell_type": "markdown",
   "id": "excited-fault",
   "metadata": {},
   "source": [
    "Un 3.5% del total dels productes diferents."
   ]
  },
  {
   "cell_type": "markdown",
   "id": "suburban-range",
   "metadata": {},
   "source": [
    "Veiem ara, quin és el tipus de producte que s'ha vengut més vegades:"
   ]
  },
  {
   "cell_type": "code",
   "execution_count": 15,
   "id": "occupational-consideration",
   "metadata": {},
   "outputs": [
    {
     "data": {
      "text/html": [
       "<div>\n",
       "<style scoped>\n",
       "    .dataframe tbody tr th:only-of-type {\n",
       "        vertical-align: middle;\n",
       "    }\n",
       "\n",
       "    .dataframe tbody tr th {\n",
       "        vertical-align: top;\n",
       "    }\n",
       "\n",
       "    .dataframe thead th {\n",
       "        text-align: right;\n",
       "    }\n",
       "</style>\n",
       "<table border=\"1\" class=\"dataframe\">\n",
       "  <thead>\n",
       "    <tr style=\"text-align: right;\">\n",
       "      <th></th>\n",
       "      <th>Product Type</th>\n",
       "      <th>Quantity</th>\n",
       "    </tr>\n",
       "  </thead>\n",
       "  <tbody>\n",
       "    <tr>\n",
       "      <th>111</th>\n",
       "      <td>Trousers</td>\n",
       "      <td>3725520</td>\n",
       "    </tr>\n",
       "    <tr>\n",
       "      <th>32</th>\n",
       "      <td>Dress</td>\n",
       "      <td>2918786</td>\n",
       "    </tr>\n",
       "    <tr>\n",
       "      <th>99</th>\n",
       "      <td>Sweater</td>\n",
       "      <td>2614740</td>\n",
       "    </tr>\n",
       "    <tr>\n",
       "      <th>104</th>\n",
       "      <td>T-shirt</td>\n",
       "      <td>2003299</td>\n",
       "    </tr>\n",
       "    <tr>\n",
       "      <th>107</th>\n",
       "      <td>Top</td>\n",
       "      <td>1465853</td>\n",
       "    </tr>\n",
       "    <tr>\n",
       "      <th>11</th>\n",
       "      <td>Blouse</td>\n",
       "      <td>1389973</td>\n",
       "    </tr>\n",
       "    <tr>\n",
       "      <th>120</th>\n",
       "      <td>Vest top</td>\n",
       "      <td>1258605</td>\n",
       "    </tr>\n",
       "    <tr>\n",
       "      <th>15</th>\n",
       "      <td>Bra</td>\n",
       "      <td>1237163</td>\n",
       "    </tr>\n",
       "    <tr>\n",
       "      <th>86</th>\n",
       "      <td>Shorts</td>\n",
       "      <td>1041512</td>\n",
       "    </tr>\n",
       "    <tr>\n",
       "      <th>8</th>\n",
       "      <td>Bikini top</td>\n",
       "      <td>961314</td>\n",
       "    </tr>\n",
       "  </tbody>\n",
       "</table>\n",
       "</div>"
      ],
      "text/plain": [
       "    Product Type  Quantity\n",
       "111     Trousers   3725520\n",
       "32         Dress   2918786\n",
       "99       Sweater   2614740\n",
       "104      T-shirt   2003299\n",
       "107          Top   1465853\n",
       "11        Blouse   1389973\n",
       "120     Vest top   1258605\n",
       "15           Bra   1237163\n",
       "86        Shorts   1041512\n",
       "8     Bikini top    961314"
      ]
     },
     "execution_count": 15,
     "metadata": {},
     "output_type": "execute_result"
    }
   ],
   "source": [
    "df = pd.DataFrame({'Product Type': df_article_details.groupby(\"product_type_name\")[\"quantity\"].sum().index,\n",
    "                   'Quantity': df_article_details.groupby(\"product_type_name\")[\"quantity\"].sum().values\n",
    "                  })\n",
    "df = df.sort_values(['Quantity'], ascending=False)\n",
    "df_head = df.head(10)\n",
    "df_head"
   ]
  },
  {
   "cell_type": "markdown",
   "id": "exclusive-taylor",
   "metadata": {},
   "source": [
    "I de manera gràfica:"
   ]
  },
  {
   "cell_type": "code",
   "execution_count": 16,
   "id": "trained-tsunami",
   "metadata": {},
   "outputs": [
    {
     "data": {
      "image/png": "[encoded data removed]",
      "text/plain": [
       "<Figure size 1440x720 with 1 Axes>"
      ]
     },
     "metadata": {
      "needs_background": "light"
     },
     "output_type": "display_data"
    }
   ],
   "source": [
    "plt.figure(figsize = (20,10))\n",
    "plt.title(f\"TOP 10 Tipus de producte més venguts\")\n",
    "sns.set_color_codes(\"pastel\")\n",
    "s = sns.barplot(x = 'Product Type', y=\"Quantity\", data=df_head)\n",
    "s.set_xticklabels(s.get_xticklabels(),rotation=90)\n",
    "locs, labels = plt.xticks()\n",
    "plt.show()"
   ]
  },
  {
   "cell_type": "markdown",
   "id": "previous-bailey",
   "metadata": {},
   "source": [
    "Per altra banda, el tipus de producte que menys es ven és:"
   ]
  },
  {
   "cell_type": "code",
   "execution_count": 17,
   "id": "ecological-effectiveness",
   "metadata": {},
   "outputs": [
    {
     "data": {
      "text/html": [
       "<div>\n",
       "<style scoped>\n",
       "    .dataframe tbody tr th:only-of-type {\n",
       "        vertical-align: middle;\n",
       "    }\n",
       "\n",
       "    .dataframe tbody tr th {\n",
       "        vertical-align: top;\n",
       "    }\n",
       "\n",
       "    .dataframe thead th {\n",
       "        text-align: right;\n",
       "    }\n",
       "</style>\n",
       "<table border=\"1\" class=\"dataframe\">\n",
       "  <thead>\n",
       "    <tr style=\"text-align: right;\">\n",
       "      <th></th>\n",
       "      <th>Product Type</th>\n",
       "      <th>Quantity</th>\n",
       "    </tr>\n",
       "  </thead>\n",
       "  <tbody>\n",
       "    <tr>\n",
       "      <th>96</th>\n",
       "      <td>Stain remover spray</td>\n",
       "      <td>36</td>\n",
       "    </tr>\n",
       "    <tr>\n",
       "      <th>122</th>\n",
       "      <td>Washing bag</td>\n",
       "      <td>32</td>\n",
       "    </tr>\n",
       "    <tr>\n",
       "      <th>128</th>\n",
       "      <td>Wood balls</td>\n",
       "      <td>27</td>\n",
       "    </tr>\n",
       "    <tr>\n",
       "      <th>9</th>\n",
       "      <td>Blanket</td>\n",
       "      <td>26</td>\n",
       "    </tr>\n",
       "    <tr>\n",
       "      <th>29</th>\n",
       "      <td>Cushion</td>\n",
       "      <td>24</td>\n",
       "    </tr>\n",
       "    <tr>\n",
       "      <th>36</th>\n",
       "      <td>Eyeglasses</td>\n",
       "      <td>23</td>\n",
       "    </tr>\n",
       "    <tr>\n",
       "      <th>109</th>\n",
       "      <td>Towel</td>\n",
       "      <td>18</td>\n",
       "    </tr>\n",
       "    <tr>\n",
       "      <th>20</th>\n",
       "      <td>Bumbag</td>\n",
       "      <td>15</td>\n",
       "    </tr>\n",
       "    <tr>\n",
       "      <th>110</th>\n",
       "      <td>Toy</td>\n",
       "      <td>5</td>\n",
       "    </tr>\n",
       "    <tr>\n",
       "      <th>25</th>\n",
       "      <td>Clothing mist</td>\n",
       "      <td>4</td>\n",
       "    </tr>\n",
       "  </tbody>\n",
       "</table>\n",
       "</div>"
      ],
      "text/plain": [
       "            Product Type  Quantity\n",
       "96   Stain remover spray        36\n",
       "122          Washing bag        32\n",
       "128           Wood balls        27\n",
       "9                Blanket        26\n",
       "29               Cushion        24\n",
       "36            Eyeglasses        23\n",
       "109                Towel        18\n",
       "20                Bumbag        15\n",
       "110                  Toy         5\n",
       "25         Clothing mist         4"
      ]
     },
     "execution_count": 17,
     "metadata": {},
     "output_type": "execute_result"
    }
   ],
   "source": [
    "df_tail = df.tail(10)\n",
    "df_tail"
   ]
  },
  {
   "cell_type": "markdown",
   "id": "irish-league",
   "metadata": {},
   "source": [
    "Veiem-ho de manera gràfica:"
   ]
  },
  {
   "cell_type": "code",
   "execution_count": 18,
   "id": "according-sherman",
   "metadata": {},
   "outputs": [
    {
     "data": {
      "image/png": "[encoded data removed]",
      "text/plain": [
       "<Figure size 1440x720 with 1 Axes>"
      ]
     },
     "metadata": {
      "needs_background": "light"
     },
     "output_type": "display_data"
    }
   ],
   "source": [
    "plt.figure(figsize = (20,10))\n",
    "plt.title(f\"10 tipus de producte menys venguts\")\n",
    "sns.set_color_codes(\"pastel\")\n",
    "s = sns.barplot(x = 'Product Type', y=\"Quantity\", data=df_tail)\n",
    "s.set_xticklabels(s.get_xticklabels(),rotation=90)\n",
    "locs, labels = plt.xticks()\n",
    "plt.show()"
   ]
  },
  {
   "cell_type": "markdown",
   "id": "extensive-facial",
   "metadata": {},
   "source": [
    "Seguint amb l'anàlisi, veiem ara, quin és el color que predomina en els productes:"
   ]
  },
  {
   "cell_type": "code",
   "execution_count": 19,
   "id": "loaded-craps",
   "metadata": {},
   "outputs": [
    {
     "data": {
      "text/html": [
       "<div>\n",
       "<style scoped>\n",
       "    .dataframe tbody tr th:only-of-type {\n",
       "        vertical-align: middle;\n",
       "    }\n",
       "\n",
       "    .dataframe tbody tr th {\n",
       "        vertical-align: top;\n",
       "    }\n",
       "\n",
       "    .dataframe thead th {\n",
       "        text-align: right;\n",
       "    }\n",
       "</style>\n",
       "<table border=\"1\" class=\"dataframe\">\n",
       "  <thead>\n",
       "    <tr style=\"text-align: right;\">\n",
       "      <th></th>\n",
       "      <th>Color Group</th>\n",
       "      <th>Quantity</th>\n",
       "    </tr>\n",
       "  </thead>\n",
       "  <tbody>\n",
       "    <tr>\n",
       "      <th>1</th>\n",
       "      <td>Black</td>\n",
       "      <td>9875765</td>\n",
       "    </tr>\n",
       "    <tr>\n",
       "      <th>47</th>\n",
       "      <td>White</td>\n",
       "      <td>3036408</td>\n",
       "    </tr>\n",
       "    <tr>\n",
       "      <th>5</th>\n",
       "      <td>Dark Blue</td>\n",
       "      <td>1980381</td>\n",
       "    </tr>\n",
       "    <tr>\n",
       "      <th>19</th>\n",
       "      <td>Light Beige</td>\n",
       "      <td>1161305</td>\n",
       "    </tr>\n",
       "    <tr>\n",
       "      <th>2</th>\n",
       "      <td>Blue</td>\n",
       "      <td>966133</td>\n",
       "    </tr>\n",
       "    <tr>\n",
       "      <th>0</th>\n",
       "      <td>Beige</td>\n",
       "      <td>845580</td>\n",
       "    </tr>\n",
       "    <tr>\n",
       "      <th>20</th>\n",
       "      <td>Light Blue</td>\n",
       "      <td>819086</td>\n",
       "    </tr>\n",
       "    <tr>\n",
       "      <th>24</th>\n",
       "      <td>Light Pink</td>\n",
       "      <td>795116</td>\n",
       "    </tr>\n",
       "    <tr>\n",
       "      <th>17</th>\n",
       "      <td>Grey</td>\n",
       "      <td>778863</td>\n",
       "    </tr>\n",
       "    <tr>\n",
       "      <th>29</th>\n",
       "      <td>Off White</td>\n",
       "      <td>772537</td>\n",
       "    </tr>\n",
       "  </tbody>\n",
       "</table>\n",
       "</div>"
      ],
      "text/plain": [
       "    Color Group  Quantity\n",
       "1         Black   9875765\n",
       "47        White   3036408\n",
       "5     Dark Blue   1980381\n",
       "19  Light Beige   1161305\n",
       "2          Blue    966133\n",
       "0         Beige    845580\n",
       "20   Light Blue    819086\n",
       "24   Light Pink    795116\n",
       "17         Grey    778863\n",
       "29    Off White    772537"
      ]
     },
     "execution_count": 19,
     "metadata": {},
     "output_type": "execute_result"
    }
   ],
   "source": [
    "df = pd.DataFrame({'Color Group': df_article_details.groupby(\"colour_group_name\")[\"quantity\"].sum().index,\n",
    "                   'Quantity': df_article_details.groupby(\"colour_group_name\")[\"quantity\"].sum().values\n",
    "                  })\n",
    "df = df.sort_values(['Quantity'], ascending=False)\n",
    "df_head = df.head(10)\n",
    "df_head"
   ]
  },
  {
   "cell_type": "code",
   "execution_count": 20,
   "id": "extended-workplace",
   "metadata": {},
   "outputs": [
    {
     "data": {
      "image/png": "[encoded data removed]",
      "text/plain": [
       "<Figure size 1440x720 with 1 Axes>"
      ]
     },
     "metadata": {
      "needs_background": "light"
     },
     "output_type": "display_data"
    }
   ],
   "source": [
    "plt.figure(figsize = (20,10))\n",
    "plt.title(f\"TOP 10 Colors més venguts\")\n",
    "sns.set_color_codes(\"pastel\")\n",
    "s = sns.barplot(x = 'Color Group', y=\"Quantity\", data=df_head)\n",
    "s.set_xticklabels(s.get_xticklabels(),rotation=90)\n",
    "locs, labels = plt.xticks()\n",
    "plt.show()"
   ]
  },
  {
   "cell_type": "markdown",
   "id": "organized-adobe",
   "metadata": {},
   "source": [
    "Observem que destaca clarament el color negre. Veiem quin percentatge d'articles venguts són d'aquest color:"
   ]
  },
  {
   "cell_type": "code",
   "execution_count": 21,
   "id": "exotic-status",
   "metadata": {},
   "outputs": [
    {
     "data": {
      "text/plain": [
       "1    34.274881\n",
       "Name: Quantity, dtype: float64"
      ]
     },
     "execution_count": 21,
     "metadata": {},
     "output_type": "execute_result"
    }
   ],
   "source": [
    "df_head[df_head[\"Color Group\"] == \"Black\"][\"Quantity\"]/df[\"Quantity\"].sum() * 100"
   ]
  },
  {
   "cell_type": "markdown",
   "id": "conventional-conversion",
   "metadata": {},
   "source": [
    "Un 34,7% dels articles venguts són de color negre. Veiem ara, de quin color són els articles que menys es compren:"
   ]
  },
  {
   "cell_type": "code",
   "execution_count": 22,
   "id": "restricted-istanbul",
   "metadata": {},
   "outputs": [
    {
     "data": {
      "text/html": [
       "<div>\n",
       "<style scoped>\n",
       "    .dataframe tbody tr th:only-of-type {\n",
       "        vertical-align: middle;\n",
       "    }\n",
       "\n",
       "    .dataframe tbody tr th {\n",
       "        vertical-align: top;\n",
       "    }\n",
       "\n",
       "    .dataframe thead th {\n",
       "        text-align: right;\n",
       "    }\n",
       "</style>\n",
       "<table border=\"1\" class=\"dataframe\">\n",
       "  <thead>\n",
       "    <tr style=\"text-align: right;\">\n",
       "      <th></th>\n",
       "      <th>Color Group</th>\n",
       "      <th>Quantity</th>\n",
       "    </tr>\n",
       "  </thead>\n",
       "  <tbody>\n",
       "    <tr>\n",
       "      <th>34</th>\n",
       "      <td>Other Orange</td>\n",
       "      <td>25908</td>\n",
       "    </tr>\n",
       "    <tr>\n",
       "      <th>31</th>\n",
       "      <td>Other</td>\n",
       "      <td>19566</td>\n",
       "    </tr>\n",
       "    <tr>\n",
       "      <th>37</th>\n",
       "      <td>Other Red</td>\n",
       "      <td>14028</td>\n",
       "    </tr>\n",
       "    <tr>\n",
       "      <th>33</th>\n",
       "      <td>Other Green</td>\n",
       "      <td>13129</td>\n",
       "    </tr>\n",
       "    <tr>\n",
       "      <th>3</th>\n",
       "      <td>Bronze/Copper</td>\n",
       "      <td>9113</td>\n",
       "    </tr>\n",
       "    <tr>\n",
       "      <th>44</th>\n",
       "      <td>Transparent</td>\n",
       "      <td>8077</td>\n",
       "    </tr>\n",
       "    <tr>\n",
       "      <th>32</th>\n",
       "      <td>Other Blue</td>\n",
       "      <td>7448</td>\n",
       "    </tr>\n",
       "    <tr>\n",
       "      <th>36</th>\n",
       "      <td>Other Purple</td>\n",
       "      <td>6886</td>\n",
       "    </tr>\n",
       "    <tr>\n",
       "      <th>46</th>\n",
       "      <td>Unknown</td>\n",
       "      <td>4972</td>\n",
       "    </tr>\n",
       "    <tr>\n",
       "      <th>38</th>\n",
       "      <td>Other Turquoise</td>\n",
       "      <td>539</td>\n",
       "    </tr>\n",
       "  </tbody>\n",
       "</table>\n",
       "</div>"
      ],
      "text/plain": [
       "        Color Group  Quantity\n",
       "34     Other Orange     25908\n",
       "31            Other     19566\n",
       "37        Other Red     14028\n",
       "33      Other Green     13129\n",
       "3     Bronze/Copper      9113\n",
       "44      Transparent      8077\n",
       "32       Other Blue      7448\n",
       "36     Other Purple      6886\n",
       "46          Unknown      4972\n",
       "38  Other Turquoise       539"
      ]
     },
     "execution_count": 22,
     "metadata": {},
     "output_type": "execute_result"
    }
   ],
   "source": [
    "df_tail = df.tail(10)\n",
    "df_tail"
   ]
  },
  {
   "cell_type": "code",
   "execution_count": 23,
   "id": "handled-wedding",
   "metadata": {},
   "outputs": [
    {
     "data": {
      "image/png": "[encoded data removed]",
      "text/plain": [
       "<Figure size 1440x720 with 1 Axes>"
      ]
     },
     "metadata": {
      "needs_background": "light"
     },
     "output_type": "display_data"
    }
   ],
   "source": [
    "plt.figure(figsize = (20,10))\n",
    "plt.title(f\"10 colors menys venguts\")\n",
    "sns.set_color_codes(\"pastel\")\n",
    "s = sns.barplot(x = 'Color Group', y=\"Quantity\", data=df_tail)\n",
    "s.set_xticklabels(s.get_xticklabels(),rotation=90)\n",
    "locs, labels = plt.xticks()\n",
    "plt.show()"
   ]
  },
  {
   "cell_type": "markdown",
   "id": "opened-history",
   "metadata": {},
   "source": [
    "**Transactions & Customers**\n",
    "\n",
    "Relacionem ara, el dataset de transactions amb el de customers. Ens quedem primer, amb la informació que volem:"
   ]
  },
  {
   "cell_type": "code",
   "execution_count": 24,
   "id": "conservative-profit",
   "metadata": {},
   "outputs": [
    {
     "data": {
      "text/html": [
       "<div>\n",
       "<style scoped>\n",
       "    .dataframe tbody tr th:only-of-type {\n",
       "        vertical-align: middle;\n",
       "    }\n",
       "\n",
       "    .dataframe tbody tr th {\n",
       "        vertical-align: top;\n",
       "    }\n",
       "\n",
       "    .dataframe thead th {\n",
       "        text-align: right;\n",
       "    }\n",
       "</style>\n",
       "<table border=\"1\" class=\"dataframe\">\n",
       "  <thead>\n",
       "    <tr style=\"text-align: right;\">\n",
       "      <th></th>\n",
       "      <th>customer_id</th>\n",
       "      <th>sales_channel_id</th>\n",
       "    </tr>\n",
       "  </thead>\n",
       "  <tbody>\n",
       "    <tr>\n",
       "      <th>0</th>\n",
       "      <td>000058a12d5b43e67d225668fa1f8d618c13dc232df0ca...</td>\n",
       "      <td>2</td>\n",
       "    </tr>\n",
       "    <tr>\n",
       "      <th>1</th>\n",
       "      <td>000058a12d5b43e67d225668fa1f8d618c13dc232df0ca...</td>\n",
       "      <td>2</td>\n",
       "    </tr>\n",
       "    <tr>\n",
       "      <th>2</th>\n",
       "      <td>00007d2de826758b65a93dd24ce629ed66842531df6699...</td>\n",
       "      <td>2</td>\n",
       "    </tr>\n",
       "    <tr>\n",
       "      <th>3</th>\n",
       "      <td>00007d2de826758b65a93dd24ce629ed66842531df6699...</td>\n",
       "      <td>2</td>\n",
       "    </tr>\n",
       "    <tr>\n",
       "      <th>4</th>\n",
       "      <td>00007d2de826758b65a93dd24ce629ed66842531df6699...</td>\n",
       "      <td>2</td>\n",
       "    </tr>\n",
       "    <tr>\n",
       "      <th>...</th>\n",
       "      <td>...</td>\n",
       "      <td>...</td>\n",
       "    </tr>\n",
       "    <tr>\n",
       "      <th>28813414</th>\n",
       "      <td>fff2282977442e327b45d8c89afde25617d00124d0f999...</td>\n",
       "      <td>2</td>\n",
       "    </tr>\n",
       "    <tr>\n",
       "      <th>28813415</th>\n",
       "      <td>fff2282977442e327b45d8c89afde25617d00124d0f999...</td>\n",
       "      <td>2</td>\n",
       "    </tr>\n",
       "    <tr>\n",
       "      <th>28813416</th>\n",
       "      <td>fff380805474b287b05cb2a7507b9a013482f7dd0bce0e...</td>\n",
       "      <td>1</td>\n",
       "    </tr>\n",
       "    <tr>\n",
       "      <th>28813417</th>\n",
       "      <td>fff4d3a8b1f3b60af93e78c30a7cb4cf75edaf2590d3e5...</td>\n",
       "      <td>1</td>\n",
       "    </tr>\n",
       "    <tr>\n",
       "      <th>28813418</th>\n",
       "      <td>fffef3b6b73545df065b521e19f64bf6fe93bfd450ab20...</td>\n",
       "      <td>2</td>\n",
       "    </tr>\n",
       "  </tbody>\n",
       "</table>\n",
       "<p>28813419 rows × 2 columns</p>\n",
       "</div>"
      ],
      "text/plain": [
       "                                                customer_id  sales_channel_id\n",
       "0         000058a12d5b43e67d225668fa1f8d618c13dc232df0ca...                 2\n",
       "1         000058a12d5b43e67d225668fa1f8d618c13dc232df0ca...                 2\n",
       "2         00007d2de826758b65a93dd24ce629ed66842531df6699...                 2\n",
       "3         00007d2de826758b65a93dd24ce629ed66842531df6699...                 2\n",
       "4         00007d2de826758b65a93dd24ce629ed66842531df6699...                 2\n",
       "...                                                     ...               ...\n",
       "28813414  fff2282977442e327b45d8c89afde25617d00124d0f999...                 2\n",
       "28813415  fff2282977442e327b45d8c89afde25617d00124d0f999...                 2\n",
       "28813416  fff380805474b287b05cb2a7507b9a013482f7dd0bce0e...                 1\n",
       "28813417  fff4d3a8b1f3b60af93e78c30a7cb4cf75edaf2590d3e5...                 1\n",
       "28813418  fffef3b6b73545df065b521e19f64bf6fe93bfd450ab20...                 2\n",
       "\n",
       "[28813419 rows x 2 columns]"
      ]
     },
     "execution_count": 24,
     "metadata": {},
     "output_type": "execute_result"
    }
   ],
   "source": [
    "df_transactions_curt = df_transactions[[\"customer_id\", \"sales_channel_id\"]]\n",
    "df_transactions_curt"
   ]
  },
  {
   "cell_type": "code",
   "execution_count": 25,
   "id": "popular-aircraft",
   "metadata": {},
   "outputs": [
    {
     "data": {
      "text/html": [
       "<div>\n",
       "<style scoped>\n",
       "    .dataframe tbody tr th:only-of-type {\n",
       "        vertical-align: middle;\n",
       "    }\n",
       "\n",
       "    .dataframe tbody tr th {\n",
       "        vertical-align: top;\n",
       "    }\n",
       "\n",
       "    .dataframe thead th {\n",
       "        text-align: right;\n",
       "    }\n",
       "</style>\n",
       "<table border=\"1\" class=\"dataframe\">\n",
       "  <thead>\n",
       "    <tr style=\"text-align: right;\">\n",
       "      <th></th>\n",
       "      <th>customer_id</th>\n",
       "      <th>age</th>\n",
       "      <th>club_member_status</th>\n",
       "      <th>Active</th>\n",
       "    </tr>\n",
       "  </thead>\n",
       "  <tbody>\n",
       "    <tr>\n",
       "      <th>0</th>\n",
       "      <td>00000dbacae5abe5e23885899a1fa44253a17956c6d1c3...</td>\n",
       "      <td>49.0</td>\n",
       "      <td>ACTIVE</td>\n",
       "      <td>NaN</td>\n",
       "    </tr>\n",
       "    <tr>\n",
       "      <th>1</th>\n",
       "      <td>0000423b00ade91418cceaf3b26c6af3dd342b51fd051e...</td>\n",
       "      <td>25.0</td>\n",
       "      <td>ACTIVE</td>\n",
       "      <td>NaN</td>\n",
       "    </tr>\n",
       "    <tr>\n",
       "      <th>2</th>\n",
       "      <td>000058a12d5b43e67d225668fa1f8d618c13dc232df0ca...</td>\n",
       "      <td>24.0</td>\n",
       "      <td>ACTIVE</td>\n",
       "      <td>NaN</td>\n",
       "    </tr>\n",
       "    <tr>\n",
       "      <th>3</th>\n",
       "      <td>00005ca1c9ed5f5146b52ac8639a40ca9d57aeff4d1bd2...</td>\n",
       "      <td>54.0</td>\n",
       "      <td>ACTIVE</td>\n",
       "      <td>NaN</td>\n",
       "    </tr>\n",
       "    <tr>\n",
       "      <th>4</th>\n",
       "      <td>00006413d8573cd20ed7128e53b7b13819fe5cfc2d801f...</td>\n",
       "      <td>52.0</td>\n",
       "      <td>ACTIVE</td>\n",
       "      <td>1.0</td>\n",
       "    </tr>\n",
       "    <tr>\n",
       "      <th>...</th>\n",
       "      <td>...</td>\n",
       "      <td>...</td>\n",
       "      <td>...</td>\n",
       "      <td>...</td>\n",
       "    </tr>\n",
       "    <tr>\n",
       "      <th>1371975</th>\n",
       "      <td>ffffbbf78b6eaac697a8a5dfbfd2bfa8113ee5b403e474...</td>\n",
       "      <td>24.0</td>\n",
       "      <td>ACTIVE</td>\n",
       "      <td>NaN</td>\n",
       "    </tr>\n",
       "    <tr>\n",
       "      <th>1371976</th>\n",
       "      <td>ffffcd5046a6143d29a04fb8c424ce494a76e5cdf4fab5...</td>\n",
       "      <td>21.0</td>\n",
       "      <td>ACTIVE</td>\n",
       "      <td>NaN</td>\n",
       "    </tr>\n",
       "    <tr>\n",
       "      <th>1371977</th>\n",
       "      <td>ffffcf35913a0bee60e8741cb2b4e78b8a98ee5ff2e6a1...</td>\n",
       "      <td>21.0</td>\n",
       "      <td>ACTIVE</td>\n",
       "      <td>1.0</td>\n",
       "    </tr>\n",
       "    <tr>\n",
       "      <th>1371978</th>\n",
       "      <td>ffffd7744cebcf3aca44ae7049d2a94b87074c3d4ffe38...</td>\n",
       "      <td>18.0</td>\n",
       "      <td>ACTIVE</td>\n",
       "      <td>1.0</td>\n",
       "    </tr>\n",
       "    <tr>\n",
       "      <th>1371979</th>\n",
       "      <td>ffffd9ac14e89946416d80e791d064701994755c3ab686...</td>\n",
       "      <td>65.0</td>\n",
       "      <td>PRE-CREATE</td>\n",
       "      <td>NaN</td>\n",
       "    </tr>\n",
       "  </tbody>\n",
       "</table>\n",
       "<p>1371980 rows × 4 columns</p>\n",
       "</div>"
      ],
      "text/plain": [
       "                                               customer_id   age  \\\n",
       "0        00000dbacae5abe5e23885899a1fa44253a17956c6d1c3...  49.0   \n",
       "1        0000423b00ade91418cceaf3b26c6af3dd342b51fd051e...  25.0   \n",
       "2        000058a12d5b43e67d225668fa1f8d618c13dc232df0ca...  24.0   \n",
       "3        00005ca1c9ed5f5146b52ac8639a40ca9d57aeff4d1bd2...  54.0   \n",
       "4        00006413d8573cd20ed7128e53b7b13819fe5cfc2d801f...  52.0   \n",
       "...                                                    ...   ...   \n",
       "1371975  ffffbbf78b6eaac697a8a5dfbfd2bfa8113ee5b403e474...  24.0   \n",
       "1371976  ffffcd5046a6143d29a04fb8c424ce494a76e5cdf4fab5...  21.0   \n",
       "1371977  ffffcf35913a0bee60e8741cb2b4e78b8a98ee5ff2e6a1...  21.0   \n",
       "1371978  ffffd7744cebcf3aca44ae7049d2a94b87074c3d4ffe38...  18.0   \n",
       "1371979  ffffd9ac14e89946416d80e791d064701994755c3ab686...  65.0   \n",
       "\n",
       "        club_member_status  Active  \n",
       "0                   ACTIVE     NaN  \n",
       "1                   ACTIVE     NaN  \n",
       "2                   ACTIVE     NaN  \n",
       "3                   ACTIVE     NaN  \n",
       "4                   ACTIVE     1.0  \n",
       "...                    ...     ...  \n",
       "1371975             ACTIVE     NaN  \n",
       "1371976             ACTIVE     NaN  \n",
       "1371977             ACTIVE     1.0  \n",
       "1371978             ACTIVE     1.0  \n",
       "1371979         PRE-CREATE     NaN  \n",
       "\n",
       "[1371980 rows x 4 columns]"
      ]
     },
     "execution_count": 25,
     "metadata": {},
     "output_type": "execute_result"
    }
   ],
   "source": [
    "df_customers_curt = df_customers[[\"customer_id\", \"age\", \"club_member_status\", \"Active\"]]\n",
    "df_customers_curt"
   ]
  },
  {
   "cell_type": "markdown",
   "id": "billion-feeding",
   "metadata": {},
   "source": [
    "Ajuntem els dos datasets mitjançant l'*customer_id*, que és l'identificador que es repeteix: "
   ]
  },
  {
   "cell_type": "code",
   "execution_count": 26,
   "id": "breeding-gathering",
   "metadata": {},
   "outputs": [
    {
     "data": {
      "text/html": [
       "<div>\n",
       "<style scoped>\n",
       "    .dataframe tbody tr th:only-of-type {\n",
       "        vertical-align: middle;\n",
       "    }\n",
       "\n",
       "    .dataframe tbody tr th {\n",
       "        vertical-align: top;\n",
       "    }\n",
       "\n",
       "    .dataframe thead th {\n",
       "        text-align: right;\n",
       "    }\n",
       "</style>\n",
       "<table border=\"1\" class=\"dataframe\">\n",
       "  <thead>\n",
       "    <tr style=\"text-align: right;\">\n",
       "      <th></th>\n",
       "      <th>sales_channel_id</th>\n",
       "      <th>age</th>\n",
       "      <th>club_member_status</th>\n",
       "      <th>Active</th>\n",
       "    </tr>\n",
       "    <tr>\n",
       "      <th>customer_id</th>\n",
       "      <th></th>\n",
       "      <th></th>\n",
       "      <th></th>\n",
       "      <th></th>\n",
       "    </tr>\n",
       "  </thead>\n",
       "  <tbody>\n",
       "    <tr>\n",
       "      <th>00000dbacae5abe5e23885899a1fa44253a17956c6d1c3d25f88aa139fdfc657</th>\n",
       "      <td>1</td>\n",
       "      <td>49.0</td>\n",
       "      <td>ACTIVE</td>\n",
       "      <td>NaN</td>\n",
       "    </tr>\n",
       "    <tr>\n",
       "      <th>00000dbacae5abe5e23885899a1fa44253a17956c6d1c3d25f88aa139fdfc657</th>\n",
       "      <td>1</td>\n",
       "      <td>49.0</td>\n",
       "      <td>ACTIVE</td>\n",
       "      <td>NaN</td>\n",
       "    </tr>\n",
       "    <tr>\n",
       "      <th>00000dbacae5abe5e23885899a1fa44253a17956c6d1c3d25f88aa139fdfc657</th>\n",
       "      <td>1</td>\n",
       "      <td>49.0</td>\n",
       "      <td>ACTIVE</td>\n",
       "      <td>NaN</td>\n",
       "    </tr>\n",
       "    <tr>\n",
       "      <th>00000dbacae5abe5e23885899a1fa44253a17956c6d1c3d25f88aa139fdfc657</th>\n",
       "      <td>2</td>\n",
       "      <td>49.0</td>\n",
       "      <td>ACTIVE</td>\n",
       "      <td>NaN</td>\n",
       "    </tr>\n",
       "    <tr>\n",
       "      <th>00000dbacae5abe5e23885899a1fa44253a17956c6d1c3d25f88aa139fdfc657</th>\n",
       "      <td>2</td>\n",
       "      <td>49.0</td>\n",
       "      <td>ACTIVE</td>\n",
       "      <td>NaN</td>\n",
       "    </tr>\n",
       "    <tr>\n",
       "      <th>00000dbacae5abe5e23885899a1fa44253a17956c6d1c3d25f88aa139fdfc657</th>\n",
       "      <td>1</td>\n",
       "      <td>49.0</td>\n",
       "      <td>ACTIVE</td>\n",
       "      <td>NaN</td>\n",
       "    </tr>\n",
       "    <tr>\n",
       "      <th>00000dbacae5abe5e23885899a1fa44253a17956c6d1c3d25f88aa139fdfc657</th>\n",
       "      <td>1</td>\n",
       "      <td>49.0</td>\n",
       "      <td>ACTIVE</td>\n",
       "      <td>NaN</td>\n",
       "    </tr>\n",
       "    <tr>\n",
       "      <th>00000dbacae5abe5e23885899a1fa44253a17956c6d1c3d25f88aa139fdfc657</th>\n",
       "      <td>2</td>\n",
       "      <td>49.0</td>\n",
       "      <td>ACTIVE</td>\n",
       "      <td>NaN</td>\n",
       "    </tr>\n",
       "    <tr>\n",
       "      <th>00000dbacae5abe5e23885899a1fa44253a17956c6d1c3d25f88aa139fdfc657</th>\n",
       "      <td>2</td>\n",
       "      <td>49.0</td>\n",
       "      <td>ACTIVE</td>\n",
       "      <td>NaN</td>\n",
       "    </tr>\n",
       "    <tr>\n",
       "      <th>00000dbacae5abe5e23885899a1fa44253a17956c6d1c3d25f88aa139fdfc657</th>\n",
       "      <td>2</td>\n",
       "      <td>49.0</td>\n",
       "      <td>ACTIVE</td>\n",
       "      <td>NaN</td>\n",
       "    </tr>\n",
       "  </tbody>\n",
       "</table>\n",
       "</div>"
      ],
      "text/plain": [
       "                                                    sales_channel_id   age  \\\n",
       "customer_id                                                                  \n",
       "00000dbacae5abe5e23885899a1fa44253a17956c6d1c3d...                 1  49.0   \n",
       "00000dbacae5abe5e23885899a1fa44253a17956c6d1c3d...                 1  49.0   \n",
       "00000dbacae5abe5e23885899a1fa44253a17956c6d1c3d...                 1  49.0   \n",
       "00000dbacae5abe5e23885899a1fa44253a17956c6d1c3d...                 2  49.0   \n",
       "00000dbacae5abe5e23885899a1fa44253a17956c6d1c3d...                 2  49.0   \n",
       "00000dbacae5abe5e23885899a1fa44253a17956c6d1c3d...                 1  49.0   \n",
       "00000dbacae5abe5e23885899a1fa44253a17956c6d1c3d...                 1  49.0   \n",
       "00000dbacae5abe5e23885899a1fa44253a17956c6d1c3d...                 2  49.0   \n",
       "00000dbacae5abe5e23885899a1fa44253a17956c6d1c3d...                 2  49.0   \n",
       "00000dbacae5abe5e23885899a1fa44253a17956c6d1c3d...                 2  49.0   \n",
       "\n",
       "                                                   club_member_status  Active  \n",
       "customer_id                                                                    \n",
       "00000dbacae5abe5e23885899a1fa44253a17956c6d1c3d...             ACTIVE     NaN  \n",
       "00000dbacae5abe5e23885899a1fa44253a17956c6d1c3d...             ACTIVE     NaN  \n",
       "00000dbacae5abe5e23885899a1fa44253a17956c6d1c3d...             ACTIVE     NaN  \n",
       "00000dbacae5abe5e23885899a1fa44253a17956c6d1c3d...             ACTIVE     NaN  \n",
       "00000dbacae5abe5e23885899a1fa44253a17956c6d1c3d...             ACTIVE     NaN  \n",
       "00000dbacae5abe5e23885899a1fa44253a17956c6d1c3d...             ACTIVE     NaN  \n",
       "00000dbacae5abe5e23885899a1fa44253a17956c6d1c3d...             ACTIVE     NaN  \n",
       "00000dbacae5abe5e23885899a1fa44253a17956c6d1c3d...             ACTIVE     NaN  \n",
       "00000dbacae5abe5e23885899a1fa44253a17956c6d1c3d...             ACTIVE     NaN  \n",
       "00000dbacae5abe5e23885899a1fa44253a17956c6d1c3d...             ACTIVE     NaN  "
      ]
     },
     "execution_count": 26,
     "metadata": {},
     "output_type": "execute_result"
    }
   ],
   "source": [
    "df_customer_details = df_transactions_curt.set_index(\"customer_id\").join(df_customers_curt.set_index(\"customer_id\"))\n",
    "df_customer_details.head(10)"
   ]
  },
  {
   "cell_type": "markdown",
   "id": "consistent-chicken",
   "metadata": {},
   "source": [
    "Modifiquem les variables segons el seu tipus:"
   ]
  },
  {
   "cell_type": "code",
   "execution_count": 27,
   "id": "reserved-ecuador",
   "metadata": {},
   "outputs": [],
   "source": [
    "df_customer_details[\"Active\"] = df_customer_details[\"Active\"].astype(\"category\")\n",
    "df_customer_details[\"club_member_status\"] = df_customer_details[\"club_member_status\"].astype(\"category\")"
   ]
  },
  {
   "cell_type": "markdown",
   "id": "exotic-timber",
   "metadata": {},
   "source": [
    "Estudiem com es comporta l'edat dels clients que compren de manera online:"
   ]
  },
  {
   "cell_type": "code",
   "execution_count": 28,
   "id": "million-search",
   "metadata": {},
   "outputs": [
    {
     "data": {
      "text/html": [
       "<div>\n",
       "<style scoped>\n",
       "    .dataframe tbody tr th:only-of-type {\n",
       "        vertical-align: middle;\n",
       "    }\n",
       "\n",
       "    .dataframe tbody tr th {\n",
       "        vertical-align: top;\n",
       "    }\n",
       "\n",
       "    .dataframe thead th {\n",
       "        text-align: right;\n",
       "    }\n",
       "</style>\n",
       "<table border=\"1\" class=\"dataframe\">\n",
       "  <thead>\n",
       "    <tr style=\"text-align: right;\">\n",
       "      <th></th>\n",
       "      <th>sales_channel_id</th>\n",
       "      <th>age</th>\n",
       "      <th>club_member_status</th>\n",
       "      <th>Active</th>\n",
       "    </tr>\n",
       "    <tr>\n",
       "      <th>customer_id</th>\n",
       "      <th></th>\n",
       "      <th></th>\n",
       "      <th></th>\n",
       "      <th></th>\n",
       "    </tr>\n",
       "  </thead>\n",
       "  <tbody>\n",
       "    <tr>\n",
       "      <th>00000dbacae5abe5e23885899a1fa44253a17956c6d1c3d25f88aa139fdfc657</th>\n",
       "      <td>2</td>\n",
       "      <td>49.0</td>\n",
       "      <td>ACTIVE</td>\n",
       "      <td>NaN</td>\n",
       "    </tr>\n",
       "    <tr>\n",
       "      <th>00000dbacae5abe5e23885899a1fa44253a17956c6d1c3d25f88aa139fdfc657</th>\n",
       "      <td>2</td>\n",
       "      <td>49.0</td>\n",
       "      <td>ACTIVE</td>\n",
       "      <td>NaN</td>\n",
       "    </tr>\n",
       "    <tr>\n",
       "      <th>00000dbacae5abe5e23885899a1fa44253a17956c6d1c3d25f88aa139fdfc657</th>\n",
       "      <td>2</td>\n",
       "      <td>49.0</td>\n",
       "      <td>ACTIVE</td>\n",
       "      <td>NaN</td>\n",
       "    </tr>\n",
       "    <tr>\n",
       "      <th>00000dbacae5abe5e23885899a1fa44253a17956c6d1c3d25f88aa139fdfc657</th>\n",
       "      <td>2</td>\n",
       "      <td>49.0</td>\n",
       "      <td>ACTIVE</td>\n",
       "      <td>NaN</td>\n",
       "    </tr>\n",
       "    <tr>\n",
       "      <th>00000dbacae5abe5e23885899a1fa44253a17956c6d1c3d25f88aa139fdfc657</th>\n",
       "      <td>2</td>\n",
       "      <td>49.0</td>\n",
       "      <td>ACTIVE</td>\n",
       "      <td>NaN</td>\n",
       "    </tr>\n",
       "    <tr>\n",
       "      <th>...</th>\n",
       "      <td>...</td>\n",
       "      <td>...</td>\n",
       "      <td>...</td>\n",
       "      <td>...</td>\n",
       "    </tr>\n",
       "    <tr>\n",
       "      <th>ffffd7744cebcf3aca44ae7049d2a94b87074c3d4ffe38b2236865d949d4df6a</th>\n",
       "      <td>2</td>\n",
       "      <td>18.0</td>\n",
       "      <td>ACTIVE</td>\n",
       "      <td>1.0</td>\n",
       "    </tr>\n",
       "    <tr>\n",
       "      <th>ffffd7744cebcf3aca44ae7049d2a94b87074c3d4ffe38b2236865d949d4df6a</th>\n",
       "      <td>2</td>\n",
       "      <td>18.0</td>\n",
       "      <td>ACTIVE</td>\n",
       "      <td>1.0</td>\n",
       "    </tr>\n",
       "    <tr>\n",
       "      <th>ffffd7744cebcf3aca44ae7049d2a94b87074c3d4ffe38b2236865d949d4df6a</th>\n",
       "      <td>2</td>\n",
       "      <td>18.0</td>\n",
       "      <td>ACTIVE</td>\n",
       "      <td>1.0</td>\n",
       "    </tr>\n",
       "    <tr>\n",
       "      <th>ffffd7744cebcf3aca44ae7049d2a94b87074c3d4ffe38b2236865d949d4df6a</th>\n",
       "      <td>2</td>\n",
       "      <td>18.0</td>\n",
       "      <td>ACTIVE</td>\n",
       "      <td>1.0</td>\n",
       "    </tr>\n",
       "    <tr>\n",
       "      <th>ffffd9ac14e89946416d80e791d064701994755c3ab686a1eaf3458c36f52241</th>\n",
       "      <td>2</td>\n",
       "      <td>65.0</td>\n",
       "      <td>PRE-CREATE</td>\n",
       "      <td>NaN</td>\n",
       "    </tr>\n",
       "  </tbody>\n",
       "</table>\n",
       "<p>19686806 rows × 4 columns</p>\n",
       "</div>"
      ],
      "text/plain": [
       "                                                    sales_channel_id   age  \\\n",
       "customer_id                                                                  \n",
       "00000dbacae5abe5e23885899a1fa44253a17956c6d1c3d...                 2  49.0   \n",
       "00000dbacae5abe5e23885899a1fa44253a17956c6d1c3d...                 2  49.0   \n",
       "00000dbacae5abe5e23885899a1fa44253a17956c6d1c3d...                 2  49.0   \n",
       "00000dbacae5abe5e23885899a1fa44253a17956c6d1c3d...                 2  49.0   \n",
       "00000dbacae5abe5e23885899a1fa44253a17956c6d1c3d...                 2  49.0   \n",
       "...                                                              ...   ...   \n",
       "ffffd7744cebcf3aca44ae7049d2a94b87074c3d4ffe38b...                 2  18.0   \n",
       "ffffd7744cebcf3aca44ae7049d2a94b87074c3d4ffe38b...                 2  18.0   \n",
       "ffffd7744cebcf3aca44ae7049d2a94b87074c3d4ffe38b...                 2  18.0   \n",
       "ffffd7744cebcf3aca44ae7049d2a94b87074c3d4ffe38b...                 2  18.0   \n",
       "ffffd9ac14e89946416d80e791d064701994755c3ab686a...                 2  65.0   \n",
       "\n",
       "                                                   club_member_status Active  \n",
       "customer_id                                                                   \n",
       "00000dbacae5abe5e23885899a1fa44253a17956c6d1c3d...             ACTIVE    NaN  \n",
       "00000dbacae5abe5e23885899a1fa44253a17956c6d1c3d...             ACTIVE    NaN  \n",
       "00000dbacae5abe5e23885899a1fa44253a17956c6d1c3d...             ACTIVE    NaN  \n",
       "00000dbacae5abe5e23885899a1fa44253a17956c6d1c3d...             ACTIVE    NaN  \n",
       "00000dbacae5abe5e23885899a1fa44253a17956c6d1c3d...             ACTIVE    NaN  \n",
       "...                                                               ...    ...  \n",
       "ffffd7744cebcf3aca44ae7049d2a94b87074c3d4ffe38b...             ACTIVE    1.0  \n",
       "ffffd7744cebcf3aca44ae7049d2a94b87074c3d4ffe38b...             ACTIVE    1.0  \n",
       "ffffd7744cebcf3aca44ae7049d2a94b87074c3d4ffe38b...             ACTIVE    1.0  \n",
       "ffffd7744cebcf3aca44ae7049d2a94b87074c3d4ffe38b...             ACTIVE    1.0  \n",
       "ffffd9ac14e89946416d80e791d064701994755c3ab686a...         PRE-CREATE    NaN  \n",
       "\n",
       "[19686806 rows x 4 columns]"
      ]
     },
     "execution_count": 28,
     "metadata": {},
     "output_type": "execute_result"
    }
   ],
   "source": [
    "df_online = df_customer_details[df_customer_details[\"sales_channel_id\"]==2]\n",
    "df_online"
   ]
  },
  {
   "cell_type": "code",
   "execution_count": 29,
   "id": "precise-jamaica",
   "metadata": {},
   "outputs": [
    {
     "data": {
      "text/html": [
       "<div>\n",
       "<style scoped>\n",
       "    .dataframe tbody tr th:only-of-type {\n",
       "        vertical-align: middle;\n",
       "    }\n",
       "\n",
       "    .dataframe tbody tr th {\n",
       "        vertical-align: top;\n",
       "    }\n",
       "\n",
       "    .dataframe thead th {\n",
       "        text-align: right;\n",
       "    }\n",
       "</style>\n",
       "<table border=\"1\" class=\"dataframe\">\n",
       "  <thead>\n",
       "    <tr style=\"text-align: right;\">\n",
       "      <th></th>\n",
       "      <th>sales_channel_id</th>\n",
       "      <th>age</th>\n",
       "    </tr>\n",
       "  </thead>\n",
       "  <tbody>\n",
       "    <tr>\n",
       "      <th>count</th>\n",
       "      <td>19686806.0</td>\n",
       "      <td>1.961012e+07</td>\n",
       "    </tr>\n",
       "    <tr>\n",
       "      <th>mean</th>\n",
       "      <td>2.0</td>\n",
       "      <td>3.572865e+01</td>\n",
       "    </tr>\n",
       "    <tr>\n",
       "      <th>std</th>\n",
       "      <td>0.0</td>\n",
       "      <td>1.270646e+01</td>\n",
       "    </tr>\n",
       "    <tr>\n",
       "      <th>min</th>\n",
       "      <td>2.0</td>\n",
       "      <td>1.600000e+01</td>\n",
       "    </tr>\n",
       "    <tr>\n",
       "      <th>25%</th>\n",
       "      <td>2.0</td>\n",
       "      <td>2.600000e+01</td>\n",
       "    </tr>\n",
       "    <tr>\n",
       "      <th>50%</th>\n",
       "      <td>2.0</td>\n",
       "      <td>3.100000e+01</td>\n",
       "    </tr>\n",
       "    <tr>\n",
       "      <th>75%</th>\n",
       "      <td>2.0</td>\n",
       "      <td>4.700000e+01</td>\n",
       "    </tr>\n",
       "    <tr>\n",
       "      <th>max</th>\n",
       "      <td>2.0</td>\n",
       "      <td>9.900000e+01</td>\n",
       "    </tr>\n",
       "  </tbody>\n",
       "</table>\n",
       "</div>"
      ],
      "text/plain": [
       "       sales_channel_id           age\n",
       "count        19686806.0  1.961012e+07\n",
       "mean                2.0  3.572865e+01\n",
       "std                 0.0  1.270646e+01\n",
       "min                 2.0  1.600000e+01\n",
       "25%                 2.0  2.600000e+01\n",
       "50%                 2.0  3.100000e+01\n",
       "75%                 2.0  4.700000e+01\n",
       "max                 2.0  9.900000e+01"
      ]
     },
     "execution_count": 29,
     "metadata": {},
     "output_type": "execute_result"
    }
   ],
   "source": [
    "df_online.describe()"
   ]
  },
  {
   "cell_type": "markdown",
   "id": "yellow-desperate",
   "metadata": {},
   "source": [
    "Observem que la mitjana d'edat dels clients que compren Online es de 35,7 anys. Veiem si hi ha diferències significatives amb els que ho fan de manera física:"
   ]
  },
  {
   "cell_type": "code",
   "execution_count": 30,
   "id": "honest-capitol",
   "metadata": {},
   "outputs": [
    {
     "data": {
      "text/html": [
       "<div>\n",
       "<style scoped>\n",
       "    .dataframe tbody tr th:only-of-type {\n",
       "        vertical-align: middle;\n",
       "    }\n",
       "\n",
       "    .dataframe tbody tr th {\n",
       "        vertical-align: top;\n",
       "    }\n",
       "\n",
       "    .dataframe thead th {\n",
       "        text-align: right;\n",
       "    }\n",
       "</style>\n",
       "<table border=\"1\" class=\"dataframe\">\n",
       "  <thead>\n",
       "    <tr style=\"text-align: right;\">\n",
       "      <th></th>\n",
       "      <th>sales_channel_id</th>\n",
       "      <th>age</th>\n",
       "      <th>club_member_status</th>\n",
       "      <th>Active</th>\n",
       "    </tr>\n",
       "    <tr>\n",
       "      <th>customer_id</th>\n",
       "      <th></th>\n",
       "      <th></th>\n",
       "      <th></th>\n",
       "      <th></th>\n",
       "    </tr>\n",
       "  </thead>\n",
       "  <tbody>\n",
       "    <tr>\n",
       "      <th>00000dbacae5abe5e23885899a1fa44253a17956c6d1c3d25f88aa139fdfc657</th>\n",
       "      <td>1</td>\n",
       "      <td>49.0</td>\n",
       "      <td>ACTIVE</td>\n",
       "      <td>NaN</td>\n",
       "    </tr>\n",
       "    <tr>\n",
       "      <th>00000dbacae5abe5e23885899a1fa44253a17956c6d1c3d25f88aa139fdfc657</th>\n",
       "      <td>1</td>\n",
       "      <td>49.0</td>\n",
       "      <td>ACTIVE</td>\n",
       "      <td>NaN</td>\n",
       "    </tr>\n",
       "    <tr>\n",
       "      <th>00000dbacae5abe5e23885899a1fa44253a17956c6d1c3d25f88aa139fdfc657</th>\n",
       "      <td>1</td>\n",
       "      <td>49.0</td>\n",
       "      <td>ACTIVE</td>\n",
       "      <td>NaN</td>\n",
       "    </tr>\n",
       "    <tr>\n",
       "      <th>00000dbacae5abe5e23885899a1fa44253a17956c6d1c3d25f88aa139fdfc657</th>\n",
       "      <td>1</td>\n",
       "      <td>49.0</td>\n",
       "      <td>ACTIVE</td>\n",
       "      <td>NaN</td>\n",
       "    </tr>\n",
       "    <tr>\n",
       "      <th>00000dbacae5abe5e23885899a1fa44253a17956c6d1c3d25f88aa139fdfc657</th>\n",
       "      <td>1</td>\n",
       "      <td>49.0</td>\n",
       "      <td>ACTIVE</td>\n",
       "      <td>NaN</td>\n",
       "    </tr>\n",
       "  </tbody>\n",
       "</table>\n",
       "</div>"
      ],
      "text/plain": [
       "                                                    sales_channel_id   age  \\\n",
       "customer_id                                                                  \n",
       "00000dbacae5abe5e23885899a1fa44253a17956c6d1c3d...                 1  49.0   \n",
       "00000dbacae5abe5e23885899a1fa44253a17956c6d1c3d...                 1  49.0   \n",
       "00000dbacae5abe5e23885899a1fa44253a17956c6d1c3d...                 1  49.0   \n",
       "00000dbacae5abe5e23885899a1fa44253a17956c6d1c3d...                 1  49.0   \n",
       "00000dbacae5abe5e23885899a1fa44253a17956c6d1c3d...                 1  49.0   \n",
       "\n",
       "                                                   club_member_status Active  \n",
       "customer_id                                                                   \n",
       "00000dbacae5abe5e23885899a1fa44253a17956c6d1c3d...             ACTIVE    NaN  \n",
       "00000dbacae5abe5e23885899a1fa44253a17956c6d1c3d...             ACTIVE    NaN  \n",
       "00000dbacae5abe5e23885899a1fa44253a17956c6d1c3d...             ACTIVE    NaN  \n",
       "00000dbacae5abe5e23885899a1fa44253a17956c6d1c3d...             ACTIVE    NaN  \n",
       "00000dbacae5abe5e23885899a1fa44253a17956c6d1c3d...             ACTIVE    NaN  "
      ]
     },
     "execution_count": 30,
     "metadata": {},
     "output_type": "execute_result"
    }
   ],
   "source": [
    "df_fisic = df_customer_details[df_customer_details[\"sales_channel_id\"]==1]\n",
    "df_fisic.head()"
   ]
  },
  {
   "cell_type": "code",
   "execution_count": 31,
   "id": "given-monitoring",
   "metadata": {},
   "outputs": [
    {
     "data": {
      "text/html": [
       "<div>\n",
       "<style scoped>\n",
       "    .dataframe tbody tr th:only-of-type {\n",
       "        vertical-align: middle;\n",
       "    }\n",
       "\n",
       "    .dataframe tbody tr th {\n",
       "        vertical-align: top;\n",
       "    }\n",
       "\n",
       "    .dataframe thead th {\n",
       "        text-align: right;\n",
       "    }\n",
       "</style>\n",
       "<table border=\"1\" class=\"dataframe\">\n",
       "  <thead>\n",
       "    <tr style=\"text-align: right;\">\n",
       "      <th></th>\n",
       "      <th>sales_channel_id</th>\n",
       "      <th>age</th>\n",
       "    </tr>\n",
       "  </thead>\n",
       "  <tbody>\n",
       "    <tr>\n",
       "      <th>count</th>\n",
       "      <td>9126613.0</td>\n",
       "      <td>9.076027e+06</td>\n",
       "    </tr>\n",
       "    <tr>\n",
       "      <th>mean</th>\n",
       "      <td>1.0</td>\n",
       "      <td>3.667014e+01</td>\n",
       "    </tr>\n",
       "    <tr>\n",
       "      <th>std</th>\n",
       "      <td>0.0</td>\n",
       "      <td>1.362760e+01</td>\n",
       "    </tr>\n",
       "    <tr>\n",
       "      <th>min</th>\n",
       "      <td>1.0</td>\n",
       "      <td>1.600000e+01</td>\n",
       "    </tr>\n",
       "    <tr>\n",
       "      <th>25%</th>\n",
       "      <td>1.0</td>\n",
       "      <td>2.500000e+01</td>\n",
       "    </tr>\n",
       "    <tr>\n",
       "      <th>50%</th>\n",
       "      <td>1.0</td>\n",
       "      <td>3.200000e+01</td>\n",
       "    </tr>\n",
       "    <tr>\n",
       "      <th>75%</th>\n",
       "      <td>1.0</td>\n",
       "      <td>4.900000e+01</td>\n",
       "    </tr>\n",
       "    <tr>\n",
       "      <th>max</th>\n",
       "      <td>1.0</td>\n",
       "      <td>9.900000e+01</td>\n",
       "    </tr>\n",
       "  </tbody>\n",
       "</table>\n",
       "</div>"
      ],
      "text/plain": [
       "       sales_channel_id           age\n",
       "count         9126613.0  9.076027e+06\n",
       "mean                1.0  3.667014e+01\n",
       "std                 0.0  1.362760e+01\n",
       "min                 1.0  1.600000e+01\n",
       "25%                 1.0  2.500000e+01\n",
       "50%                 1.0  3.200000e+01\n",
       "75%                 1.0  4.900000e+01\n",
       "max                 1.0  9.900000e+01"
      ]
     },
     "execution_count": 31,
     "metadata": {},
     "output_type": "execute_result"
    }
   ],
   "source": [
    "df_fisic.describe()"
   ]
  },
  {
   "cell_type": "markdown",
   "id": "extensive-algeria",
   "metadata": {},
   "source": [
    "La mitjana d'edat dels consumidors físics és de 36,6 anys, pel que la diferència entre els dos canals no és significativa."
   ]
  },
  {
   "cell_type": "markdown",
   "id": "attached-examination",
   "metadata": {},
   "source": [
    "Estudiem ara, quin percentatge de transaccions realitzen els clients amb l'estat ACTIVE de la variable *club_member_status*:"
   ]
  },
  {
   "cell_type": "code",
   "execution_count": 32,
   "id": "mature-quantity",
   "metadata": {},
   "outputs": [
    {
     "data": {
      "text/plain": [
       "97.7951210857691"
      ]
     },
     "execution_count": 32,
     "metadata": {},
     "output_type": "execute_result"
    }
   ],
   "source": [
    "len(df_customer_details[df_customer_details[\"club_member_status\"] == \"ACTIVE\"])/len(df_customer_details)*100"
   ]
  },
  {
   "cell_type": "markdown",
   "id": "false-illness",
   "metadata": {},
   "source": [
    "Més del 97% de les transaccions estan realitzades per clients que són socis del club H&M. Té sentit, ja que anteriorment, a l'anàlisi del dataset dels consumidors hem vist que més del 92% eren socis."
   ]
  },
  {
   "cell_type": "markdown",
   "id": "efficient-things",
   "metadata": {},
   "source": [
    "Veiem ara, si el fet de rebre comunicació de la revista de moda afecta a les compres:"
   ]
  },
  {
   "cell_type": "code",
   "execution_count": 33,
   "id": "emerging-ceiling",
   "metadata": {},
   "outputs": [
    {
     "data": {
      "text/plain": [
       "42.25123370468461"
      ]
     },
     "execution_count": 33,
     "metadata": {},
     "output_type": "execute_result"
    }
   ],
   "source": [
    "len(df_customer_details[df_customer_details[\"Active\"] == 1])/len(df_customer_details)*100"
   ]
  },
  {
   "cell_type": "markdown",
   "id": "stable-electric",
   "metadata": {},
   "source": [
    "Aproximadament un 42% de les compres estan realitzades per clients que reben comunicació. Tenint en compte que només un 33,8% de consumidors la reben, considerem que és prou important."
   ]
  }
 ],
 "metadata": {
  "kernelspec": {
   "display_name": "Python 3",
   "language": "python",
   "name": "python3"
  },
  "language_info": {
   "codemirror_mode": {
    "name": "ipython",
    "version": 3
   },
   "file_extension": ".py",
   "mimetype": "text/x-python",
   "name": "python",
   "nbconvert_exporter": "python",
   "pygments_lexer": "ipython3",
   "version": "3.7.10"
  }
 },
 "nbformat": 4,
 "nbformat_minor": 5
}
