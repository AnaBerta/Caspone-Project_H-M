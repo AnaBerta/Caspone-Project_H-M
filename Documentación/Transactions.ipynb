{
 "cells": [
  {
   "cell_type": "markdown",
   "metadata": {},
   "source": [
    "# Capstone Project - H&M Recommendation\n",
    "\n",
    "Ana Berta Vegas; Ester Iglesias; Raquel Dominguez"
   ]
  },
  {
   "cell_type": "markdown",
   "metadata": {
    "id": "77b97afa"
   },
   "source": [
    "## Transactions"
   ]
  },
  {
   "cell_type": "markdown",
   "metadata": {},
   "source": [
    "En aquest notebook estudiarem el dataset \"transactions\"."
   ]
  },
  {
   "cell_type": "markdown",
   "metadata": {
    "id": "d97b7adc"
   },
   "source": [
    "En primer lloc, importem les llibreries necessàries:"
   ]
  },
  {
   "cell_type": "code",
   "execution_count": 1,
   "metadata": {
    "id": "7e632a55"
   },
   "outputs": [],
   "source": [
    "import numpy as np\n",
    "import pandas as pd\n",
    "\n",
    "import matplotlib as mpl\n",
    "import matplotlib.pyplot as plt\n",
    "\n",
    "import seaborn as sns"
   ]
  },
  {
   "cell_type": "markdown",
   "metadata": {
    "id": "378f81ba"
   },
   "source": [
    "Llegim les dades a tractar i observem quina informació contenen:"
   ]
  },
  {
   "cell_type": "code",
   "execution_count": 2,
   "metadata": {
    "id": "35928756"
   },
   "outputs": [],
   "source": [
    "df_transactions = pd.read_csv('transactions_train.csv')"
   ]
  },
  {
   "cell_type": "code",
   "execution_count": 3,
   "metadata": {
    "id": "bbc006e4",
    "outputId": "0e8df09b-3baf-49ee-aeb2-4ab4192bb6f4"
   },
   "outputs": [
    {
     "data": {
      "text/html": [
       "<div>\n",
       "<style scoped>\n",
       "    .dataframe tbody tr th:only-of-type {\n",
       "        vertical-align: middle;\n",
       "    }\n",
       "\n",
       "    .dataframe tbody tr th {\n",
       "        vertical-align: top;\n",
       "    }\n",
       "\n",
       "    .dataframe thead th {\n",
       "        text-align: right;\n",
       "    }\n",
       "</style>\n",
       "<table border=\"1\" class=\"dataframe\">\n",
       "  <thead>\n",
       "    <tr style=\"text-align: right;\">\n",
       "      <th></th>\n",
       "      <th>t_dat</th>\n",
       "      <th>customer_id</th>\n",
       "      <th>article_id</th>\n",
       "      <th>price</th>\n",
       "      <th>sales_channel_id</th>\n",
       "    </tr>\n",
       "  </thead>\n",
       "  <tbody>\n",
       "    <tr>\n",
       "      <th>0</th>\n",
       "      <td>2018-09-20</td>\n",
       "      <td>000058a12d5b43e67d225668fa1f8d618c13dc232df0ca...</td>\n",
       "      <td>663713001</td>\n",
       "      <td>0.050831</td>\n",
       "      <td>2</td>\n",
       "    </tr>\n",
       "    <tr>\n",
       "      <th>1</th>\n",
       "      <td>2018-09-20</td>\n",
       "      <td>000058a12d5b43e67d225668fa1f8d618c13dc232df0ca...</td>\n",
       "      <td>541518023</td>\n",
       "      <td>0.030492</td>\n",
       "      <td>2</td>\n",
       "    </tr>\n",
       "    <tr>\n",
       "      <th>2</th>\n",
       "      <td>2018-09-20</td>\n",
       "      <td>00007d2de826758b65a93dd24ce629ed66842531df6699...</td>\n",
       "      <td>505221004</td>\n",
       "      <td>0.015237</td>\n",
       "      <td>2</td>\n",
       "    </tr>\n",
       "    <tr>\n",
       "      <th>3</th>\n",
       "      <td>2018-09-20</td>\n",
       "      <td>00007d2de826758b65a93dd24ce629ed66842531df6699...</td>\n",
       "      <td>685687003</td>\n",
       "      <td>0.016932</td>\n",
       "      <td>2</td>\n",
       "    </tr>\n",
       "    <tr>\n",
       "      <th>4</th>\n",
       "      <td>2018-09-20</td>\n",
       "      <td>00007d2de826758b65a93dd24ce629ed66842531df6699...</td>\n",
       "      <td>685687004</td>\n",
       "      <td>0.016932</td>\n",
       "      <td>2</td>\n",
       "    </tr>\n",
       "  </tbody>\n",
       "</table>\n",
       "</div>"
      ],
      "text/plain": [
       "        t_dat                                        customer_id  article_id  \\\n",
       "0  2018-09-20  000058a12d5b43e67d225668fa1f8d618c13dc232df0ca...   663713001   \n",
       "1  2018-09-20  000058a12d5b43e67d225668fa1f8d618c13dc232df0ca...   541518023   \n",
       "2  2018-09-20  00007d2de826758b65a93dd24ce629ed66842531df6699...   505221004   \n",
       "3  2018-09-20  00007d2de826758b65a93dd24ce629ed66842531df6699...   685687003   \n",
       "4  2018-09-20  00007d2de826758b65a93dd24ce629ed66842531df6699...   685687004   \n",
       "\n",
       "      price  sales_channel_id  \n",
       "0  0.050831                 2  \n",
       "1  0.030492                 2  \n",
       "2  0.015237                 2  \n",
       "3  0.016932                 2  \n",
       "4  0.016932                 2  "
      ]
     },
     "execution_count": 3,
     "metadata": {},
     "output_type": "execute_result"
    }
   ],
   "source": [
    "df_transactions.head()"
   ]
  },
  {
   "cell_type": "code",
   "execution_count": 4,
   "metadata": {
    "id": "2281f075",
    "outputId": "54a8888b-44ff-477f-be2b-14333e0ee255"
   },
   "outputs": [
    {
     "name": "stdout",
     "output_type": "stream",
     "text": [
      "<class 'pandas.core.frame.DataFrame'>\n",
      "RangeIndex: 31788324 entries, 0 to 31788323\n",
      "Data columns (total 5 columns):\n",
      " #   Column            Dtype  \n",
      "---  ------            -----  \n",
      " 0   t_dat             object \n",
      " 1   customer_id       object \n",
      " 2   article_id        int64  \n",
      " 3   price             float64\n",
      " 4   sales_channel_id  int64  \n",
      "dtypes: float64(1), int64(2), object(2)\n",
      "memory usage: 1.2+ GB\n"
     ]
    }
   ],
   "source": [
    "df_transactions.info()"
   ]
  },
  {
   "cell_type": "markdown",
   "metadata": {
    "id": "bd3ab588"
   },
   "source": [
    "Observem que el dataset Transactions té un total de 31788324 observacions, i el número total de variables és 5. És a dir, cada una de les transaccions està caracteritzada per:\n",
    "- **customer_id**: Identificador del consumidor\n",
    "- **article_id**: Identificador de l'article de H&M (Samarreta X, Pantalons X, ...)\n",
    "- **t_dat**: Data de la compra\n",
    "- **price**: Preu del producte\n",
    "- **sales_channel_id**: Canal mitjançant el qual s'ha comprat l'article (Físicament 1 o Online 2)"
   ]
  },
  {
   "cell_type": "markdown",
   "metadata": {
    "id": "91a51822"
   },
   "source": [
    "Les variables anteriors, les classifiquem segons siguin numèriques o categòriques:\n",
    "- **Numèriques**: price\n",
    "- **Categòriques**: t_dat, customer_id, article_id, sales_channel_id\n",
    "\n",
    "Observem que hi ha certs tipos de variables que cal ajustar per tal que la classificació anterior sigui coherent. En primer lloc, la columna de timestamp ha de ser de tipus datatime:"
   ]
  },
  {
   "cell_type": "code",
   "execution_count": 5,
   "metadata": {
    "id": "5407fc77"
   },
   "outputs": [],
   "source": [
    "df_transactions['t_dat'] = pd.to_datetime(df_transactions['t_dat'])"
   ]
  },
  {
   "cell_type": "markdown",
   "metadata": {
    "id": "949cff58"
   },
   "source": [
    "Les altres variables que cal reajustar són la resta de variables categòriques, ja que s'han interpretat com a numèriques. Fem-ho:"
   ]
  },
  {
   "cell_type": "code",
   "execution_count": 6,
   "metadata": {
    "id": "82531fd3"
   },
   "outputs": [],
   "source": [
    "df_transactions[\"customer_id\"] = df_transactions[\"customer_id\"].astype(\"category\")"
   ]
  },
  {
   "cell_type": "code",
   "execution_count": 7,
   "metadata": {
    "id": "32bb4652"
   },
   "outputs": [],
   "source": [
    "df_transactions[\"article_id\"] = df_transactions[\"article_id\"].astype(\"category\")"
   ]
  },
  {
   "cell_type": "code",
   "execution_count": 8,
   "metadata": {
    "id": "003ea83a"
   },
   "outputs": [],
   "source": [
    "df_transactions[\"sales_channel_id\"] = df_transactions[\"sales_channel_id\"].astype(\"category\")"
   ]
  },
  {
   "cell_type": "markdown",
   "metadata": {
    "id": "f6114bf6"
   },
   "source": [
    "Netejem el dataset i borrem les files repetides, ja que no aporten cap valor afegit a l'anàlisi:"
   ]
  },
  {
   "cell_type": "code",
   "execution_count": 9,
   "metadata": {
    "id": "2bc96fbb"
   },
   "outputs": [],
   "source": [
    "df_transactions.drop_duplicates(inplace=True, ignore_index=True)"
   ]
  },
  {
   "cell_type": "code",
   "execution_count": 10,
   "metadata": {
    "id": "f95ab770",
    "outputId": "a6445bb1-5478-4793-e7e4-a19eb02dc98d"
   },
   "outputs": [
    {
     "data": {
      "text/plain": [
       "(28813419, 5)"
      ]
     },
     "execution_count": 10,
     "metadata": {},
     "output_type": "execute_result"
    }
   ],
   "source": [
    "df_transactions.shape"
   ]
  },
  {
   "cell_type": "markdown",
   "metadata": {
    "id": "785504fe"
   },
   "source": [
    "Observem que s'han borrat un total de X files. En resum, doncs, la situació actual és la següent:"
   ]
  },
  {
   "cell_type": "code",
   "execution_count": 11,
   "metadata": {
    "id": "bda88c3b",
    "outputId": "27803bc7-10c4-4650-d95f-837be87e8b6e"
   },
   "outputs": [
    {
     "name": "stdout",
     "output_type": "stream",
     "text": [
      "<class 'pandas.core.frame.DataFrame'>\n",
      "RangeIndex: 28813419 entries, 0 to 28813418\n",
      "Data columns (total 5 columns):\n",
      " #   Column            Dtype         \n",
      "---  ------            -----         \n",
      " 0   t_dat             datetime64[ns]\n",
      " 1   customer_id       category      \n",
      " 2   article_id        category      \n",
      " 3   price             float64       \n",
      " 4   sales_channel_id  category      \n",
      "dtypes: category(3), datetime64[ns](1), float64(1)\n",
      "memory usage: 734.4 MB\n"
     ]
    }
   ],
   "source": [
    "df_transactions.info()"
   ]
  },
  {
   "cell_type": "markdown",
   "metadata": {
    "id": "1c9ea7a4"
   },
   "source": [
    "Veiem ara una primera descripció de les variables. \n",
    "\n",
    "Pel que fa a les variables numèriques, en aquest cas el preu:"
   ]
  },
  {
   "cell_type": "code",
   "execution_count": 12,
   "metadata": {
    "id": "7bef42ae",
    "outputId": "00ed2c4a-64d4-4811-b603-17f36c0a38ce"
   },
   "outputs": [
    {
     "data": {
      "text/html": [
       "<div>\n",
       "<style scoped>\n",
       "    .dataframe tbody tr th:only-of-type {\n",
       "        vertical-align: middle;\n",
       "    }\n",
       "\n",
       "    .dataframe tbody tr th {\n",
       "        vertical-align: top;\n",
       "    }\n",
       "\n",
       "    .dataframe thead th {\n",
       "        text-align: right;\n",
       "    }\n",
       "</style>\n",
       "<table border=\"1\" class=\"dataframe\">\n",
       "  <thead>\n",
       "    <tr style=\"text-align: right;\">\n",
       "      <th></th>\n",
       "      <th>price</th>\n",
       "    </tr>\n",
       "  </thead>\n",
       "  <tbody>\n",
       "    <tr>\n",
       "      <th>count</th>\n",
       "      <td>2.881342e+07</td>\n",
       "    </tr>\n",
       "    <tr>\n",
       "      <th>mean</th>\n",
       "      <td>2.772868e-02</td>\n",
       "    </tr>\n",
       "    <tr>\n",
       "      <th>std</th>\n",
       "      <td>1.910103e-02</td>\n",
       "    </tr>\n",
       "    <tr>\n",
       "      <th>min</th>\n",
       "      <td>1.694915e-05</td>\n",
       "    </tr>\n",
       "    <tr>\n",
       "      <th>25%</th>\n",
       "      <td>1.567797e-02</td>\n",
       "    </tr>\n",
       "    <tr>\n",
       "      <th>50%</th>\n",
       "      <td>2.540678e-02</td>\n",
       "    </tr>\n",
       "    <tr>\n",
       "      <th>75%</th>\n",
       "      <td>3.388136e-02</td>\n",
       "    </tr>\n",
       "    <tr>\n",
       "      <th>max</th>\n",
       "      <td>5.915254e-01</td>\n",
       "    </tr>\n",
       "  </tbody>\n",
       "</table>\n",
       "</div>"
      ],
      "text/plain": [
       "              price\n",
       "count  2.881342e+07\n",
       "mean   2.772868e-02\n",
       "std    1.910103e-02\n",
       "min    1.694915e-05\n",
       "25%    1.567797e-02\n",
       "50%    2.540678e-02\n",
       "75%    3.388136e-02\n",
       "max    5.915254e-01"
      ]
     },
     "execution_count": 12,
     "metadata": {},
     "output_type": "execute_result"
    }
   ],
   "source": [
    "df_transactions.describe(include=[np.number])"
   ]
  },
  {
   "cell_type": "code",
   "execution_count": 13,
   "metadata": {
    "id": "5815ee10",
    "outputId": "42facafb-8f33-4a08-b8cc-b27aa3622259"
   },
   "outputs": [
    {
     "data": {
      "text/plain": [
       "<AxesSubplot:>"
      ]
     },
     "execution_count": 13,
     "metadata": {},
     "output_type": "execute_result"
    },
    {
     "data": {
      "image/png": "[encoded data removed]",
      "text/plain": [
       "<Figure size 432x288 with 1 Axes>"
      ]
     },
     "metadata": {
      "needs_background": "light"
     },
     "output_type": "display_data"
    }
   ],
   "source": [
    "df_transactions.boxplot()"
   ]
  },
  {
   "cell_type": "markdown",
   "metadata": {
    "id": "98c75cf2"
   },
   "source": [
    "Podem veure que la variable preu, no és un preu estandard que es troba quan compres una samareta al H&M per exemple. Sino que és un valor que es mou majoritariament entre 0.00001 i 0.03. També podem trobar alguns outliers entre 0.05 i 0.6. Per tant, aquests valors de preus no son els originals, sino que s'ha aplicat alguna regla per transforma-los i codificar-los per motius de privacitat. "
   ]
  },
  {
   "cell_type": "markdown",
   "metadata": {
    "id": "ccc4fa5b"
   },
   "source": [
    "Per altra banda, en quant a les variables categòriques:"
   ]
  },
  {
   "cell_type": "code",
   "execution_count": 14,
   "metadata": {
    "id": "13f22132",
    "outputId": "21bd9d82-96fb-43a5-b56c-8addaa133ff1"
   },
   "outputs": [
    {
     "data": {
      "text/html": [
       "<div>\n",
       "<style scoped>\n",
       "    .dataframe tbody tr th:only-of-type {\n",
       "        vertical-align: middle;\n",
       "    }\n",
       "\n",
       "    .dataframe tbody tr th {\n",
       "        vertical-align: top;\n",
       "    }\n",
       "\n",
       "    .dataframe thead th {\n",
       "        text-align: right;\n",
       "    }\n",
       "</style>\n",
       "<table border=\"1\" class=\"dataframe\">\n",
       "  <thead>\n",
       "    <tr style=\"text-align: right;\">\n",
       "      <th></th>\n",
       "      <th>customer_id</th>\n",
       "      <th>article_id</th>\n",
       "      <th>sales_channel_id</th>\n",
       "    </tr>\n",
       "  </thead>\n",
       "  <tbody>\n",
       "    <tr>\n",
       "      <th>count</th>\n",
       "      <td>28813419</td>\n",
       "      <td>28813419</td>\n",
       "      <td>28813419</td>\n",
       "    </tr>\n",
       "    <tr>\n",
       "      <th>unique</th>\n",
       "      <td>1362281</td>\n",
       "      <td>104547</td>\n",
       "      <td>2</td>\n",
       "    </tr>\n",
       "    <tr>\n",
       "      <th>top</th>\n",
       "      <td>be1981ab818cf4ef6765b2ecaea7a2cbf14ccd6e8a7ee9...</td>\n",
       "      <td>706016001</td>\n",
       "      <td>2</td>\n",
       "    </tr>\n",
       "    <tr>\n",
       "      <th>freq</th>\n",
       "      <td>1641</td>\n",
       "      <td>42672</td>\n",
       "      <td>19686806</td>\n",
       "    </tr>\n",
       "  </tbody>\n",
       "</table>\n",
       "</div>"
      ],
      "text/plain": [
       "                                              customer_id  article_id  \\\n",
       "count                                            28813419    28813419   \n",
       "unique                                            1362281      104547   \n",
       "top     be1981ab818cf4ef6765b2ecaea7a2cbf14ccd6e8a7ee9...   706016001   \n",
       "freq                                                 1641       42672   \n",
       "\n",
       "        sales_channel_id  \n",
       "count           28813419  \n",
       "unique                 2  \n",
       "top                    2  \n",
       "freq            19686806  "
      ]
     },
     "execution_count": 14,
     "metadata": {},
     "output_type": "execute_result"
    }
   ],
   "source": [
    "df_transactions.describe(include='category')"
   ]
  },
  {
   "cell_type": "markdown",
   "metadata": {
    "id": "34652ac0"
   },
   "source": [
    "Per últim, analitzem les dates:"
   ]
  },
  {
   "cell_type": "code",
   "execution_count": 15,
   "metadata": {
    "id": "792d3643",
    "outputId": "5689699d-3289-47b0-c9de-449c3cc03caa"
   },
   "outputs": [
    {
     "name": "stderr",
     "output_type": "stream",
     "text": [
      "/shared/apps/dtpjpt/anaconda3/envs/jupyterhubenv_base/lib/python3.7/site-packages/ipykernel_launcher.py:1: FutureWarning: Treating datetime data as categorical rather than numeric in `.describe` is deprecated and will be removed in a future version of pandas. Specify `datetime_is_numeric=True` to silence this warning and adopt the future behavior now.\n",
      "  \"\"\"Entry point for launching an IPython kernel.\n"
     ]
    },
    {
     "data": {
      "text/plain": [
       "count                28813419\n",
       "unique                    734\n",
       "top       2019-09-28 00:00:00\n",
       "freq                   176904\n",
       "first     2018-09-20 00:00:00\n",
       "last      2020-09-22 00:00:00\n",
       "Name: t_dat, dtype: object"
      ]
     },
     "execution_count": 15,
     "metadata": {},
     "output_type": "execute_result"
    }
   ],
   "source": [
    "df_transactions[\"t_dat\"].describe()"
   ]
  },
  {
   "cell_type": "markdown",
   "metadata": {
    "id": "a6da3ed5"
   },
   "source": [
    "En resum, tenim que:"
   ]
  },
  {
   "cell_type": "code",
   "execution_count": 16,
   "metadata": {
    "id": "39133ab5",
    "outputId": "afb3f989-1632-48ab-972b-d95e6fda1c31"
   },
   "outputs": [
    {
     "data": {
      "text/plain": [
       "t_dat                   734\n",
       "customer_id         1362281\n",
       "article_id           104547\n",
       "price                  9857\n",
       "sales_channel_id          2\n",
       "dtype: int64"
      ]
     },
     "execution_count": 16,
     "metadata": {},
     "output_type": "execute_result"
    }
   ],
   "source": [
    "df_transactions.nunique()"
   ]
  },
  {
   "cell_type": "markdown",
   "metadata": {
    "id": "4fde29a6"
   },
   "source": [
    "És a dir, d'un total de 28813419 compres, les han realitzat un total de 1362281, comprant 104547 articles diferents, ja sigui de manera online o física. Pel que fa a les dates, només hi ha hagut adquisicions en 734 dies diferents."
   ]
  },
  {
   "cell_type": "markdown",
   "metadata": {
    "id": "018d672c"
   },
   "source": [
    "A continuació fem un estudi per cada una de les variables. En primer lloc, mirem si hi ha alguna fila amb algun valor buit:"
   ]
  },
  {
   "cell_type": "code",
   "execution_count": 17,
   "metadata": {
    "id": "38a5a3f5",
    "outputId": "0e37eb4a-45fc-4a37-8f6e-a85b39881057"
   },
   "outputs": [
    {
     "data": {
      "text/plain": [
       "False"
      ]
     },
     "execution_count": 17,
     "metadata": {},
     "output_type": "execute_result"
    }
   ],
   "source": [
    "df_transactions.isnull().values.any()"
   ]
  },
  {
   "cell_type": "markdown",
   "metadata": {
    "id": "29cd9dd8"
   },
   "source": [
    "No hi ha cap dada nula, tenim el dataset complet.\n",
    "\n",
    "Estudiem, doncs, cada variable:\n",
    "\n",
    "**t_dat**\n",
    "\n",
    "En primer lloc, mirem quina quantitat de transaccions s'han realitzat cada dia:"
   ]
  },
  {
   "cell_type": "code",
   "execution_count": 18,
   "metadata": {
    "id": "720e276b",
    "outputId": "534cc0d1-c4c6-45c3-ffa5-6f4c73f9fd2a"
   },
   "outputs": [
    {
     "data": {
      "text/html": [
       "<div>\n",
       "<style scoped>\n",
       "    .dataframe tbody tr th:only-of-type {\n",
       "        vertical-align: middle;\n",
       "    }\n",
       "\n",
       "    .dataframe tbody tr th {\n",
       "        vertical-align: top;\n",
       "    }\n",
       "\n",
       "    .dataframe thead th {\n",
       "        text-align: right;\n",
       "    }\n",
       "</style>\n",
       "<table border=\"1\" class=\"dataframe\">\n",
       "  <thead>\n",
       "    <tr style=\"text-align: right;\">\n",
       "      <th></th>\n",
       "      <th>t_dat</th>\n",
       "      <th>transactions</th>\n",
       "    </tr>\n",
       "  </thead>\n",
       "  <tbody>\n",
       "    <tr>\n",
       "      <th>0</th>\n",
       "      <td>2018-09-20</td>\n",
       "      <td>43719</td>\n",
       "    </tr>\n",
       "    <tr>\n",
       "      <th>1</th>\n",
       "      <td>2018-09-21</td>\n",
       "      <td>43010</td>\n",
       "    </tr>\n",
       "    <tr>\n",
       "      <th>2</th>\n",
       "      <td>2018-09-22</td>\n",
       "      <td>16276</td>\n",
       "    </tr>\n",
       "    <tr>\n",
       "      <th>3</th>\n",
       "      <td>2018-09-23</td>\n",
       "      <td>46633</td>\n",
       "    </tr>\n",
       "    <tr>\n",
       "      <th>4</th>\n",
       "      <td>2018-09-24</td>\n",
       "      <td>41373</td>\n",
       "    </tr>\n",
       "    <tr>\n",
       "      <th>...</th>\n",
       "      <td>...</td>\n",
       "      <td>...</td>\n",
       "    </tr>\n",
       "    <tr>\n",
       "      <th>729</th>\n",
       "      <td>2020-09-18</td>\n",
       "      <td>35790</td>\n",
       "    </tr>\n",
       "    <tr>\n",
       "      <th>730</th>\n",
       "      <td>2020-09-19</td>\n",
       "      <td>33856</td>\n",
       "    </tr>\n",
       "    <tr>\n",
       "      <th>731</th>\n",
       "      <td>2020-09-20</td>\n",
       "      <td>28144</td>\n",
       "    </tr>\n",
       "    <tr>\n",
       "      <th>732</th>\n",
       "      <td>2020-09-21</td>\n",
       "      <td>28928</td>\n",
       "    </tr>\n",
       "    <tr>\n",
       "      <th>733</th>\n",
       "      <td>2020-09-22</td>\n",
       "      <td>29664</td>\n",
       "    </tr>\n",
       "  </tbody>\n",
       "</table>\n",
       "<p>734 rows × 2 columns</p>\n",
       "</div>"
      ],
      "text/plain": [
       "         t_dat  transactions\n",
       "0   2018-09-20         43719\n",
       "1   2018-09-21         43010\n",
       "2   2018-09-22         16276\n",
       "3   2018-09-23         46633\n",
       "4   2018-09-24         41373\n",
       "..         ...           ...\n",
       "729 2020-09-18         35790\n",
       "730 2020-09-19         33856\n",
       "731 2020-09-20         28144\n",
       "732 2020-09-21         28928\n",
       "733 2020-09-22         29664\n",
       "\n",
       "[734 rows x 2 columns]"
      ]
     },
     "execution_count": 18,
     "metadata": {},
     "output_type": "execute_result"
    }
   ],
   "source": [
    "df_t_dat = pd.DataFrame()\n",
    "df_t_dat['transactions'] = df_transactions[\"t_dat\"].value_counts()\n",
    "df_t_dat.reset_index(level=0, inplace=True)\n",
    "df_t_dat.rename(columns={\"index\": \"t_dat\"}, inplace=True)\n",
    "df_t_dat = df_t_dat.sort_values(\"t_dat\", ascending = True, ignore_index = True)\n",
    "df_t_dat"
   ]
  },
  {
   "cell_type": "markdown",
   "metadata": {
    "id": "5203474e"
   },
   "source": [
    "Observem que el rang de dates es mou des del 20/09/2018 fins al 22/09/2020, és a dir tenim dades d'aproximadament 2 anys."
   ]
  },
  {
   "cell_type": "code",
   "execution_count": 19,
   "metadata": {
    "id": "e572cf73",
    "outputId": "8366a0a2-f1af-4bf0-8ed8-02c93655498d",
    "scrolled": true
   },
   "outputs": [
    {
     "data": {
      "image/png": "[encoded data removed]",
      "text/plain": [
       "<Figure size 1152x432 with 1 Axes>"
      ]
     },
     "metadata": {
      "needs_background": "light"
     },
     "output_type": "display_data"
    }
   ],
   "source": [
    "fig, ax = plt.subplots(1, 1, figsize=(16,6))\n",
    "plt.plot(df_t_dat[\"t_dat\"], df_t_dat[\"transactions\"])\n",
    "plt.xticks(rotation='vertical')\n",
    "plt.xlabel(\"Date\")\n",
    "plt.ylabel(\"Transactions\")\n",
    "plt.title(f\"Transactions per day\")\n",
    "plt.show()"
   ]
  },
  {
   "cell_type": "markdown",
   "metadata": {
    "id": "254b5635"
   },
   "source": [
    "Mirem quins són els dies que s'han fet menys transaccions:"
   ]
  },
  {
   "cell_type": "code",
   "execution_count": 20,
   "metadata": {
    "id": "d8e08a48",
    "outputId": "ba16b30f-36ee-4c07-ca50-54938807aac6"
   },
   "outputs": [
    {
     "data": {
      "text/html": [
       "<div>\n",
       "<style scoped>\n",
       "    .dataframe tbody tr th:only-of-type {\n",
       "        vertical-align: middle;\n",
       "    }\n",
       "\n",
       "    .dataframe tbody tr th {\n",
       "        vertical-align: top;\n",
       "    }\n",
       "\n",
       "    .dataframe thead th {\n",
       "        text-align: right;\n",
       "    }\n",
       "</style>\n",
       "<table border=\"1\" class=\"dataframe\">\n",
       "  <thead>\n",
       "    <tr style=\"text-align: right;\">\n",
       "      <th></th>\n",
       "      <th>t_dat</th>\n",
       "      <th>transactions</th>\n",
       "    </tr>\n",
       "  </thead>\n",
       "  <tbody>\n",
       "    <tr>\n",
       "      <th>0</th>\n",
       "      <td>2020-01-01</td>\n",
       "      <td>11194</td>\n",
       "    </tr>\n",
       "    <tr>\n",
       "      <th>1</th>\n",
       "      <td>2019-12-25</td>\n",
       "      <td>12055</td>\n",
       "    </tr>\n",
       "    <tr>\n",
       "      <th>2</th>\n",
       "      <td>2018-12-25</td>\n",
       "      <td>13061</td>\n",
       "    </tr>\n",
       "    <tr>\n",
       "      <th>3</th>\n",
       "      <td>2019-01-01</td>\n",
       "      <td>15792</td>\n",
       "    </tr>\n",
       "    <tr>\n",
       "      <th>4</th>\n",
       "      <td>2018-09-22</td>\n",
       "      <td>16276</td>\n",
       "    </tr>\n",
       "    <tr>\n",
       "      <th>5</th>\n",
       "      <td>2020-03-16</td>\n",
       "      <td>17242</td>\n",
       "    </tr>\n",
       "    <tr>\n",
       "      <th>6</th>\n",
       "      <td>2019-12-26</td>\n",
       "      <td>18364</td>\n",
       "    </tr>\n",
       "    <tr>\n",
       "      <th>7</th>\n",
       "      <td>2019-09-21</td>\n",
       "      <td>19186</td>\n",
       "    </tr>\n",
       "    <tr>\n",
       "      <th>8</th>\n",
       "      <td>2020-08-16</td>\n",
       "      <td>20314</td>\n",
       "    </tr>\n",
       "    <tr>\n",
       "      <th>9</th>\n",
       "      <td>2019-12-05</td>\n",
       "      <td>20443</td>\n",
       "    </tr>\n",
       "  </tbody>\n",
       "</table>\n",
       "</div>"
      ],
      "text/plain": [
       "       t_dat  transactions\n",
       "0 2020-01-01         11194\n",
       "1 2019-12-25         12055\n",
       "2 2018-12-25         13061\n",
       "3 2019-01-01         15792\n",
       "4 2018-09-22         16276\n",
       "5 2020-03-16         17242\n",
       "6 2019-12-26         18364\n",
       "7 2019-09-21         19186\n",
       "8 2020-08-16         20314\n",
       "9 2019-12-05         20443"
      ]
     },
     "execution_count": 20,
     "metadata": {},
     "output_type": "execute_result"
    }
   ],
   "source": [
    "df_t_dat = df_t_dat.sort_values(\"transactions\", ignore_index = True)\n",
    "df_t_dat.head(10)"
   ]
  },
  {
   "cell_type": "markdown",
   "metadata": {
    "id": "a6c27f9a"
   },
   "source": [
    "Per altra banda, els dies que s'han fet més compres:"
   ]
  },
  {
   "cell_type": "code",
   "execution_count": 21,
   "metadata": {
    "id": "d49a725d",
    "outputId": "f56e079a-a6c2-4f83-c0d0-b50547597107"
   },
   "outputs": [
    {
     "data": {
      "text/html": [
       "<div>\n",
       "<style scoped>\n",
       "    .dataframe tbody tr th:only-of-type {\n",
       "        vertical-align: middle;\n",
       "    }\n",
       "\n",
       "    .dataframe tbody tr th {\n",
       "        vertical-align: top;\n",
       "    }\n",
       "\n",
       "    .dataframe thead th {\n",
       "        text-align: right;\n",
       "    }\n",
       "</style>\n",
       "<table border=\"1\" class=\"dataframe\">\n",
       "  <thead>\n",
       "    <tr style=\"text-align: right;\">\n",
       "      <th></th>\n",
       "      <th>t_dat</th>\n",
       "      <th>transactions</th>\n",
       "    </tr>\n",
       "  </thead>\n",
       "  <tbody>\n",
       "    <tr>\n",
       "      <th>724</th>\n",
       "      <td>2019-06-19</td>\n",
       "      <td>93617</td>\n",
       "    </tr>\n",
       "    <tr>\n",
       "      <th>725</th>\n",
       "      <td>2019-11-28</td>\n",
       "      <td>94870</td>\n",
       "    </tr>\n",
       "    <tr>\n",
       "      <th>726</th>\n",
       "      <td>2020-06-17</td>\n",
       "      <td>101168</td>\n",
       "    </tr>\n",
       "    <tr>\n",
       "      <th>727</th>\n",
       "      <td>2019-04-06</td>\n",
       "      <td>107108</td>\n",
       "    </tr>\n",
       "    <tr>\n",
       "      <th>728</th>\n",
       "      <td>2019-07-24</td>\n",
       "      <td>112171</td>\n",
       "    </tr>\n",
       "    <tr>\n",
       "      <th>729</th>\n",
       "      <td>2018-11-23</td>\n",
       "      <td>130931</td>\n",
       "    </tr>\n",
       "    <tr>\n",
       "      <th>730</th>\n",
       "      <td>2018-09-29</td>\n",
       "      <td>131218</td>\n",
       "    </tr>\n",
       "    <tr>\n",
       "      <th>731</th>\n",
       "      <td>2020-04-11</td>\n",
       "      <td>143534</td>\n",
       "    </tr>\n",
       "    <tr>\n",
       "      <th>732</th>\n",
       "      <td>2019-11-29</td>\n",
       "      <td>144908</td>\n",
       "    </tr>\n",
       "    <tr>\n",
       "      <th>733</th>\n",
       "      <td>2019-09-28</td>\n",
       "      <td>176904</td>\n",
       "    </tr>\n",
       "  </tbody>\n",
       "</table>\n",
       "</div>"
      ],
      "text/plain": [
       "         t_dat  transactions\n",
       "724 2019-06-19         93617\n",
       "725 2019-11-28         94870\n",
       "726 2020-06-17        101168\n",
       "727 2019-04-06        107108\n",
       "728 2019-07-24        112171\n",
       "729 2018-11-23        130931\n",
       "730 2018-09-29        131218\n",
       "731 2020-04-11        143534\n",
       "732 2019-11-29        144908\n",
       "733 2019-09-28        176904"
      ]
     },
     "execution_count": 21,
     "metadata": {},
     "output_type": "execute_result"
    }
   ],
   "source": [
    "df_t_dat.tail(10)"
   ]
  },
  {
   "cell_type": "markdown",
   "metadata": {
    "id": "203c2da1"
   },
   "source": [
    "Fem un análisi més exhaustiu de les dates:"
   ]
  },
  {
   "cell_type": "code",
   "execution_count": 22,
   "metadata": {
    "id": "04fe2910"
   },
   "outputs": [],
   "source": [
    "df_TIME = df_transactions.copy()\n",
    "df_TIME = df_TIME.drop(columns=['customer_id', 'article_id', 'price', 'sales_channel_id'])"
   ]
  },
  {
   "cell_type": "code",
   "execution_count": 23,
   "metadata": {
    "id": "eccf17ad",
    "outputId": "ae08b592-0710-48ce-9761-717f62a65d51"
   },
   "outputs": [
    {
     "data": {
      "text/plain": [
       "2019    14818319\n",
       "2020     9975038\n",
       "2018     4020062\n",
       "Name: YEAR, dtype: int64"
      ]
     },
     "execution_count": 23,
     "metadata": {},
     "output_type": "execute_result"
    }
   ],
   "source": [
    "df_TIME['YEAR'] = df_TIME['t_dat'].dt.year\n",
    "df_TIME['YEAR'].value_counts()"
   ]
  },
  {
   "cell_type": "markdown",
   "metadata": {
    "id": "34094d3c"
   },
   "source": [
    "Observem que l'any que més compres es van fer va ser l'any 2019, cosa que és totalment coherent ja que és l'únic any senser que apareix al dataset."
   ]
  },
  {
   "cell_type": "code",
   "execution_count": 24,
   "metadata": {
    "id": "84192994",
    "outputId": "da0175a9-bd48-4156-87c7-1a725e520dcd"
   },
   "outputs": [
    {
     "data": {
      "text/plain": [
       "6     3343041\n",
       "7     2885384\n",
       "5     2654190\n",
       "4     2520109\n",
       "9     2377116\n",
       "10    2316718\n",
       "8     2269062\n",
       "11    2243386\n",
       "1     2097408\n",
       "3     2095207\n",
       "12    2067230\n",
       "2     1944568\n",
       "Name: MES, dtype: int64"
      ]
     },
     "execution_count": 24,
     "metadata": {},
     "output_type": "execute_result"
    }
   ],
   "source": [
    "df_TIME['MES'] = df_TIME['t_dat'].dt.month\n",
    "df_TIME['MES'].value_counts()"
   ]
  },
  {
   "cell_type": "code",
   "execution_count": 25,
   "metadata": {
    "id": "69096798",
    "outputId": "cbe904d6-2a3b-49f9-df52-c60d667a09d2"
   },
   "outputs": [
    {
     "data": {
      "image/png": "[encoded data removed]",
      "text/plain": [
       "<Figure size 1440x360 with 1 Axes>"
      ]
     },
     "metadata": {
      "needs_background": "light"
     },
     "output_type": "display_data"
    }
   ],
   "source": [
    "df_TIME['MES'].value_counts().plot(kind='bar', legend=bool, figsize=(20,5));"
   ]
  },
  {
   "cell_type": "markdown",
   "metadata": {
    "id": "25dfbc36"
   },
   "source": [
    "Observem que el mes que més compres es fan es el juny (6), i el que menys el febrer (2). Tot i això la diferència no és exessiva."
   ]
  },
  {
   "cell_type": "code",
   "execution_count": 26,
   "metadata": {
    "id": "7980b6fa",
    "outputId": "50647415-8f15-479c-e7d3-7d9ffdbdb4d5"
   },
   "outputs": [
    {
     "data": {
      "text/plain": [
       "28    1173045\n",
       "23    1139438\n",
       "24    1131296\n",
       "29    1129530\n",
       "22    1049063\n",
       "26    1031018\n",
       "25    1016422\n",
       "20     999822\n",
       "11     973957\n",
       "3      973492\n",
       "27     968987\n",
       "2      951263\n",
       "6      948494\n",
       "21     943895\n",
       "1      937918\n",
       "4      916817\n",
       "18     911745\n",
       "19     910508\n",
       "17     898535\n",
       "30     887240\n",
       "16     881666\n",
       "8      857088\n",
       "13     856984\n",
       "5      856835\n",
       "10     856551\n",
       "7      848052\n",
       "9      840897\n",
       "12     828334\n",
       "15     811151\n",
       "14     794317\n",
       "31     489059\n",
       "Name: DIA, dtype: int64"
      ]
     },
     "execution_count": 26,
     "metadata": {},
     "output_type": "execute_result"
    }
   ],
   "source": [
    "df_TIME['DIA'] = df_TIME['t_dat'].dt.day\n",
    "df_TIME['DIA'].value_counts()"
   ]
  },
  {
   "cell_type": "code",
   "execution_count": 27,
   "metadata": {
    "id": "f5a6c668",
    "outputId": "1c1ca66c-da96-472d-8731-b148c85c0176"
   },
   "outputs": [
    {
     "data": {
      "image/png": "[encoded data removed]",
      "text/plain": [
       "<Figure size 1440x360 with 1 Axes>"
      ]
     },
     "metadata": {
      "needs_background": "light"
     },
     "output_type": "display_data"
    }
   ],
   "source": [
    "df_TIME['DIA'].value_counts().plot(kind='bar', legend=bool, figsize=(20,5));"
   ]
  },
  {
   "cell_type": "markdown",
   "metadata": {},
   "source": [
    "Observem que el dia del mes on les compres són superiors es el número 28, i el que menys el 31, cosa que és totalment comprensible ja que no tots els mesos tenen 31 dies."
   ]
  },
  {
   "cell_type": "code",
   "execution_count": 28,
   "metadata": {
    "id": "64a1d101",
    "outputId": "7d6751e1-df96-4aec-b0ec-e90e789d6ee6"
   },
   "outputs": [
    {
     "data": {
      "text/plain": [
       "Saturday     4623424\n",
       "Thursday     4411619\n",
       "Wednesday    4379833\n",
       "Friday       4340963\n",
       "Tuesday      3790428\n",
       "Monday       3647226\n",
       "Sunday       3619926\n",
       "Name: DIA_SEMANA, dtype: int64"
      ]
     },
     "execution_count": 28,
     "metadata": {},
     "output_type": "execute_result"
    }
   ],
   "source": [
    "df_TIME['DIA_SEMANA'] = df_TIME['t_dat'].dt.day_name()\n",
    "df_TIME['DIA_SEMANA'].value_counts()"
   ]
  },
  {
   "cell_type": "code",
   "execution_count": 29,
   "metadata": {
    "id": "9d8b0268",
    "outputId": "02a963be-a330-49d7-f64c-2a6407bbab26"
   },
   "outputs": [
    {
     "data": {
      "image/png": "[encoded data removed]",
      "text/plain": [
       "<Figure size 1440x360 with 1 Axes>"
      ]
     },
     "metadata": {
      "needs_background": "light"
     },
     "output_type": "display_data"
    }
   ],
   "source": [
    "df_TIME['DIA_SEMANA'].value_counts().plot(kind='bar', legend=bool, figsize=(20,5));"
   ]
  },
  {
   "cell_type": "markdown",
   "metadata": {
    "id": "0d586be0"
   },
   "source": [
    "Pel que fa al dia de la setmana, quan hi ha més compres és el dissabte, i quan menys el diumenge.\n",
    "\n",
    "\n",
    "**customer_id**\n"
   ]
  },
  {
   "cell_type": "code",
   "execution_count": 30,
   "metadata": {},
   "outputs": [
    {
     "data": {
      "text/plain": [
       "be1981ab818cf4ef6765b2ecaea7a2cbf14ccd6e8a7ee985513d9e8e53c6d91b    1641\n",
       "b4db5e5259234574edfff958e170fe3a5e13b6f146752ca066abca3c156acc71    1321\n",
       "a65f77281a528bf5c1e9f270141d601d116e1df33bf9df512f495ee06647a9cc    1304\n",
       "49beaacac0c7801c2ce2d189efe525fe80b5d37e46ed05b50a4cd88e34d0748f    1233\n",
       "cd04ec2726dd58a8c753e0d6423e57716fd9ebcf2f14ed6012e7e5bea016b4d6    1217\n",
       "                                                                    ... \n",
       "21a7820f6a4915df79683147f8917b62ea81cfe63196f4925591d70e7f4976f7       1\n",
       "b52720db1d147393d7b7994bcfc761205df55d59c4ac40ad67254b966771b3af       1\n",
       "b5272c3bf473e77b3fa547ac73743c99f625ae7c9f619adc29b75e59a7f976e0       1\n",
       "b5273f13b79bfec9cb7d40937dc577c5bf1c47fd4b18b57d2c959d2d3b14450e       1\n",
       "ffffd9ac14e89946416d80e791d064701994755c3ab686a1eaf3458c36f52241       1\n",
       "Name: customer_id, Length: 1362281, dtype: int64"
      ]
     },
     "execution_count": 30,
     "metadata": {},
     "output_type": "execute_result"
    }
   ],
   "source": [
    "df_transactions[\"customer_id\"].value_counts()"
   ]
  },
  {
   "cell_type": "code",
   "execution_count": 31,
   "metadata": {},
   "outputs": [
    {
     "data": {
      "text/plain": [
       "1362281"
      ]
     },
     "execution_count": 31,
     "metadata": {},
     "output_type": "execute_result"
    }
   ],
   "source": [
    "df_transactions[\"customer_id\"].nunique()"
   ]
  },
  {
   "cell_type": "markdown",
   "metadata": {},
   "source": [
    "Observem que hi ha 1362281 clients diferents i que el client que més compres ha realitzat n'ha fet 1641. Per altra banda, hi ha clients que només han comprat una única vegada.\n",
    "\n",
    "\n",
    "**article_id**\n"
   ]
  },
  {
   "cell_type": "code",
   "execution_count": 32,
   "metadata": {},
   "outputs": [
    {
     "data": {
      "text/plain": [
       "706016001    42672\n",
       "706016002    30862\n",
       "372860001    29337\n",
       "610776002    25234\n",
       "759871002    23799\n",
       "             ...  \n",
       "495979002        1\n",
       "596329007        1\n",
       "646388002        1\n",
       "646388001        1\n",
       "508638013        1\n",
       "Name: article_id, Length: 104547, dtype: int64"
      ]
     },
     "execution_count": 32,
     "metadata": {},
     "output_type": "execute_result"
    }
   ],
   "source": [
    "df_transactions[\"article_id\"].value_counts()"
   ]
  },
  {
   "cell_type": "markdown",
   "metadata": {},
   "source": [
    "Observem que l'article amb id 706016001 és el que més vegades s'ha comprat (42672 cops). A més, observem que hi ha varis articles que només s'han comprat una sola vegada. Veiem quants:"
   ]
  },
  {
   "cell_type": "code",
   "execution_count": 33,
   "metadata": {},
   "outputs": [
    {
     "data": {
      "text/plain": [
       "572322001    1.0\n",
       "908465005    1.0\n",
       "942506001    1.0\n",
       "443078012    1.0\n",
       "933263001    1.0\n",
       "            ... \n",
       "495979002    1.0\n",
       "596329007    1.0\n",
       "646388002    1.0\n",
       "646388001    1.0\n",
       "508638013    1.0\n",
       "Name: article_id, Length: 4650, dtype: float64"
      ]
     },
     "execution_count": 33,
     "metadata": {},
     "output_type": "execute_result"
    }
   ],
   "source": [
    "df_quantity = df_transactions[\"article_id\"].value_counts()\n",
    "df_quantity.where(lambda x: x==1).dropna()"
   ]
  },
  {
   "cell_type": "markdown",
   "metadata": {},
   "source": [
    "En particular hi ha 4650 articles que s'han comprat una única vegada.\n",
    "\n",
    "Veiem més informació:"
   ]
  },
  {
   "cell_type": "code",
   "execution_count": 34,
   "metadata": {},
   "outputs": [
    {
     "data": {
      "text/plain": [
       "count    104547.000000\n",
       "mean        275.602542\n",
       "std         696.877456\n",
       "min           1.000000\n",
       "25%          13.000000\n",
       "50%          60.000000\n",
       "75%         262.000000\n",
       "max       42672.000000\n",
       "Name: article_id, dtype: float64"
      ]
     },
     "execution_count": 34,
     "metadata": {},
     "output_type": "execute_result"
    }
   ],
   "source": [
    "df_transactions[\"article_id\"].value_counts().describe()"
   ]
  },
  {
   "cell_type": "markdown",
   "metadata": {},
   "source": [
    "S'han comprat un total de 104547 articles diferents. D'aquests, un 25% s'ha comprat com a màxim 13 vegades, un 50% s'ha comprat com a màxim 60 vegades i un 75%, com a màxim 262.\n",
    "\n",
    "**price**"
   ]
  },
  {
   "cell_type": "markdown",
   "metadata": {},
   "source": [
    "Com hem vist anteriorment, el preu varia molt. Això és degut a la gran varietat de productes que hi ha disponibles. Es considera interessant veure quins són els articles que generen més ingressos:"
   ]
  },
  {
   "cell_type": "code",
   "execution_count": 35,
   "metadata": {},
   "outputs": [
    {
     "data": {
      "text/html": [
       "<div>\n",
       "<style scoped>\n",
       "    .dataframe tbody tr th:only-of-type {\n",
       "        vertical-align: middle;\n",
       "    }\n",
       "\n",
       "    .dataframe tbody tr th {\n",
       "        vertical-align: top;\n",
       "    }\n",
       "\n",
       "    .dataframe thead th {\n",
       "        text-align: right;\n",
       "    }\n",
       "</style>\n",
       "<table border=\"1\" class=\"dataframe\">\n",
       "  <thead>\n",
       "    <tr style=\"text-align: right;\">\n",
       "      <th></th>\n",
       "      <th>article_id</th>\n",
       "      <th>benefici</th>\n",
       "    </tr>\n",
       "  </thead>\n",
       "  <tbody>\n",
       "    <tr>\n",
       "      <th>0</th>\n",
       "      <td>706016001</td>\n",
       "      <td>1382.011831</td>\n",
       "    </tr>\n",
       "    <tr>\n",
       "      <th>1</th>\n",
       "      <td>706016002</td>\n",
       "      <td>999.628169</td>\n",
       "    </tr>\n",
       "    <tr>\n",
       "      <th>2</th>\n",
       "      <td>568601006</td>\n",
       "      <td>814.209271</td>\n",
       "    </tr>\n",
       "    <tr>\n",
       "      <th>3</th>\n",
       "      <td>448509014</td>\n",
       "      <td>651.939864</td>\n",
       "    </tr>\n",
       "    <tr>\n",
       "      <th>4</th>\n",
       "      <td>720125001</td>\n",
       "      <td>615.029305</td>\n",
       "    </tr>\n",
       "    <tr>\n",
       "      <th>...</th>\n",
       "      <td>...</td>\n",
       "      <td>...</td>\n",
       "    </tr>\n",
       "    <tr>\n",
       "      <th>104542</th>\n",
       "      <td>520431003</td>\n",
       "      <td>0.000678</td>\n",
       "    </tr>\n",
       "    <tr>\n",
       "      <th>104543</th>\n",
       "      <td>407663007</td>\n",
       "      <td>0.000678</td>\n",
       "    </tr>\n",
       "    <tr>\n",
       "      <th>104544</th>\n",
       "      <td>405310006</td>\n",
       "      <td>0.000475</td>\n",
       "    </tr>\n",
       "    <tr>\n",
       "      <th>104545</th>\n",
       "      <td>569052001</td>\n",
       "      <td>0.000441</td>\n",
       "    </tr>\n",
       "    <tr>\n",
       "      <th>104546</th>\n",
       "      <td>344625009</td>\n",
       "      <td>0.000424</td>\n",
       "    </tr>\n",
       "  </tbody>\n",
       "</table>\n",
       "<p>104547 rows × 2 columns</p>\n",
       "</div>"
      ],
      "text/plain": [
       "       article_id     benefici\n",
       "0       706016001  1382.011831\n",
       "1       706016002   999.628169\n",
       "2       568601006   814.209271\n",
       "3       448509014   651.939864\n",
       "4       720125001   615.029305\n",
       "...           ...          ...\n",
       "104542  520431003     0.000678\n",
       "104543  407663007     0.000678\n",
       "104544  405310006     0.000475\n",
       "104545  569052001     0.000441\n",
       "104546  344625009     0.000424\n",
       "\n",
       "[104547 rows x 2 columns]"
      ]
     },
     "execution_count": 35,
     "metadata": {},
     "output_type": "execute_result"
    }
   ],
   "source": [
    "df_article_preu = df_transactions[[\"price\",\"article_id\"]].groupby(\"article_id\").sum().sort_values(by=\"price\", ascending=False)\n",
    "df_article_preu.rename(columns={\"price\":\"benefici\"}, inplace=True)\n",
    "df_article_preu = df_article_preu.reset_index()\n",
    "df_article_preu"
   ]
  },
  {
   "cell_type": "markdown",
   "metadata": {},
   "source": [
    "L'article que més benefici genera es correspon amb el que més vegades es ven: 706016001\n",
    "\n",
    "**sales_channel_id**"
   ]
  },
  {
   "cell_type": "code",
   "execution_count": 36,
   "metadata": {
    "id": "80b86668",
    "outputId": "089786b8-af9f-42c1-e0c3-94242ba77b04"
   },
   "outputs": [
    {
     "data": {
      "text/plain": [
       "2    19686806\n",
       "1     9126613\n",
       "Name: sales_channel_id, dtype: int64"
      ]
     },
     "execution_count": 36,
     "metadata": {},
     "output_type": "execute_result"
    }
   ],
   "source": [
    "df_transactions[\"sales_channel_id\"].value_counts()"
   ]
  },
  {
   "cell_type": "code",
   "execution_count": 37,
   "metadata": {
    "id": "00daf7a8",
    "outputId": "58859505-778b-4173-8813-904f68dbbe94"
   },
   "outputs": [
    {
     "data": {
      "image/png": "[encoded data removed]",
      "text/plain": [
       "<Figure size 360x360 with 1 Axes>"
      ]
     },
     "metadata": {},
     "output_type": "display_data"
    }
   ],
   "source": [
    "df_transactions['sales_channel_id'].value_counts().plot(kind='pie', legend=bool, figsize=(5,5));"
   ]
  },
  {
   "cell_type": "markdown",
   "metadata": {
    "id": "7f3e47a3"
   },
   "source": [
    "Observem que la majoria de les transaccions es fan de manera online (2), veiem si es comporta sempre així al llarg del temps de manera gràfica:"
   ]
  },
  {
   "cell_type": "code",
   "execution_count": 38,
   "metadata": {
    "id": "b6f7cf84",
    "outputId": "8c594c61-9fce-47bb-adbe-830615500789"
   },
   "outputs": [
    {
     "data": {
      "text/html": [
       "<div>\n",
       "<style scoped>\n",
       "    .dataframe tbody tr th:only-of-type {\n",
       "        vertical-align: middle;\n",
       "    }\n",
       "\n",
       "    .dataframe tbody tr th {\n",
       "        vertical-align: top;\n",
       "    }\n",
       "\n",
       "    .dataframe thead th {\n",
       "        text-align: right;\n",
       "    }\n",
       "</style>\n",
       "<table border=\"1\" class=\"dataframe\">\n",
       "  <thead>\n",
       "    <tr style=\"text-align: right;\">\n",
       "      <th></th>\n",
       "      <th>t_dat</th>\n",
       "      <th>customer_id</th>\n",
       "      <th>article_id</th>\n",
       "      <th>price</th>\n",
       "      <th>sales_channel_id</th>\n",
       "    </tr>\n",
       "  </thead>\n",
       "  <tbody>\n",
       "    <tr>\n",
       "      <th>7</th>\n",
       "      <td>2018-09-20</td>\n",
       "      <td>00083cda041544b2fbb0e0d2905ad17da7cf1007526fb4...</td>\n",
       "      <td>688873012</td>\n",
       "      <td>0.030492</td>\n",
       "      <td>1</td>\n",
       "    </tr>\n",
       "    <tr>\n",
       "      <th>8</th>\n",
       "      <td>2018-09-20</td>\n",
       "      <td>00083cda041544b2fbb0e0d2905ad17da7cf1007526fb4...</td>\n",
       "      <td>501323011</td>\n",
       "      <td>0.053373</td>\n",
       "      <td>1</td>\n",
       "    </tr>\n",
       "    <tr>\n",
       "      <th>10</th>\n",
       "      <td>2018-09-20</td>\n",
       "      <td>00083cda041544b2fbb0e0d2905ad17da7cf1007526fb4...</td>\n",
       "      <td>688873020</td>\n",
       "      <td>0.030492</td>\n",
       "      <td>1</td>\n",
       "    </tr>\n",
       "    <tr>\n",
       "      <th>11</th>\n",
       "      <td>2018-09-20</td>\n",
       "      <td>00083cda041544b2fbb0e0d2905ad17da7cf1007526fb4...</td>\n",
       "      <td>688873011</td>\n",
       "      <td>0.030492</td>\n",
       "      <td>1</td>\n",
       "    </tr>\n",
       "    <tr>\n",
       "      <th>29</th>\n",
       "      <td>2018-09-20</td>\n",
       "      <td>001127bffdda108579e6cb16080440e89bf1250a776c6e...</td>\n",
       "      <td>397068015</td>\n",
       "      <td>0.033881</td>\n",
       "      <td>1</td>\n",
       "    </tr>\n",
       "    <tr>\n",
       "      <th>...</th>\n",
       "      <td>...</td>\n",
       "      <td>...</td>\n",
       "      <td>...</td>\n",
       "      <td>...</td>\n",
       "      <td>...</td>\n",
       "    </tr>\n",
       "    <tr>\n",
       "      <th>28813387</th>\n",
       "      <td>2020-09-22</td>\n",
       "      <td>ff813df6887c2a6d7065aed247bf1db3d6f629eee23798...</td>\n",
       "      <td>806388002</td>\n",
       "      <td>0.013542</td>\n",
       "      <td>1</td>\n",
       "    </tr>\n",
       "    <tr>\n",
       "      <th>28813390</th>\n",
       "      <td>2020-09-22</td>\n",
       "      <td>ff9e122067c18aac7bd96897bb9550405bb11abcc7e2e0...</td>\n",
       "      <td>860833022</td>\n",
       "      <td>0.025407</td>\n",
       "      <td>1</td>\n",
       "    </tr>\n",
       "    <tr>\n",
       "      <th>28813396</th>\n",
       "      <td>2020-09-22</td>\n",
       "      <td>ffc2e7c210e3ea602e6d229116773cc0588c929f8cc70b...</td>\n",
       "      <td>858856002</td>\n",
       "      <td>0.042356</td>\n",
       "      <td>1</td>\n",
       "    </tr>\n",
       "    <tr>\n",
       "      <th>28813416</th>\n",
       "      <td>2020-09-22</td>\n",
       "      <td>fff380805474b287b05cb2a7507b9a013482f7dd0bce0e...</td>\n",
       "      <td>918325001</td>\n",
       "      <td>0.043203</td>\n",
       "      <td>1</td>\n",
       "    </tr>\n",
       "    <tr>\n",
       "      <th>28813417</th>\n",
       "      <td>2020-09-22</td>\n",
       "      <td>fff4d3a8b1f3b60af93e78c30a7cb4cf75edaf2590d3e5...</td>\n",
       "      <td>833459002</td>\n",
       "      <td>0.006763</td>\n",
       "      <td>1</td>\n",
       "    </tr>\n",
       "  </tbody>\n",
       "</table>\n",
       "<p>9126613 rows × 5 columns</p>\n",
       "</div>"
      ],
      "text/plain": [
       "              t_dat                                        customer_id  \\\n",
       "7        2018-09-20  00083cda041544b2fbb0e0d2905ad17da7cf1007526fb4...   \n",
       "8        2018-09-20  00083cda041544b2fbb0e0d2905ad17da7cf1007526fb4...   \n",
       "10       2018-09-20  00083cda041544b2fbb0e0d2905ad17da7cf1007526fb4...   \n",
       "11       2018-09-20  00083cda041544b2fbb0e0d2905ad17da7cf1007526fb4...   \n",
       "29       2018-09-20  001127bffdda108579e6cb16080440e89bf1250a776c6e...   \n",
       "...             ...                                                ...   \n",
       "28813387 2020-09-22  ff813df6887c2a6d7065aed247bf1db3d6f629eee23798...   \n",
       "28813390 2020-09-22  ff9e122067c18aac7bd96897bb9550405bb11abcc7e2e0...   \n",
       "28813396 2020-09-22  ffc2e7c210e3ea602e6d229116773cc0588c929f8cc70b...   \n",
       "28813416 2020-09-22  fff380805474b287b05cb2a7507b9a013482f7dd0bce0e...   \n",
       "28813417 2020-09-22  fff4d3a8b1f3b60af93e78c30a7cb4cf75edaf2590d3e5...   \n",
       "\n",
       "         article_id     price sales_channel_id  \n",
       "7         688873012  0.030492                1  \n",
       "8         501323011  0.053373                1  \n",
       "10        688873020  0.030492                1  \n",
       "11        688873011  0.030492                1  \n",
       "29        397068015  0.033881                1  \n",
       "...             ...       ...              ...  \n",
       "28813387  806388002  0.013542                1  \n",
       "28813390  860833022  0.025407                1  \n",
       "28813396  858856002  0.042356                1  \n",
       "28813416  918325001  0.043203                1  \n",
       "28813417  833459002  0.006763                1  \n",
       "\n",
       "[9126613 rows x 5 columns]"
      ]
     },
     "execution_count": 38,
     "metadata": {},
     "output_type": "execute_result"
    }
   ],
   "source": [
    "df_channel_1 = df_transactions[df_transactions[\"sales_channel_id\"] == 1]\n",
    "df_channel_1"
   ]
  },
  {
   "cell_type": "code",
   "execution_count": 39,
   "metadata": {
    "id": "432cf5da",
    "outputId": "d105a0c3-d1f0-407c-fb5b-6347c91640d4"
   },
   "outputs": [
    {
     "data": {
      "text/html": [
       "<div>\n",
       "<style scoped>\n",
       "    .dataframe tbody tr th:only-of-type {\n",
       "        vertical-align: middle;\n",
       "    }\n",
       "\n",
       "    .dataframe tbody tr th {\n",
       "        vertical-align: top;\n",
       "    }\n",
       "\n",
       "    .dataframe thead th {\n",
       "        text-align: right;\n",
       "    }\n",
       "</style>\n",
       "<table border=\"1\" class=\"dataframe\">\n",
       "  <thead>\n",
       "    <tr style=\"text-align: right;\">\n",
       "      <th></th>\n",
       "      <th>t_dat</th>\n",
       "      <th>customer_id</th>\n",
       "      <th>article_id</th>\n",
       "      <th>price</th>\n",
       "      <th>sales_channel_id</th>\n",
       "    </tr>\n",
       "  </thead>\n",
       "  <tbody>\n",
       "    <tr>\n",
       "      <th>0</th>\n",
       "      <td>2018-09-20</td>\n",
       "      <td>000058a12d5b43e67d225668fa1f8d618c13dc232df0ca...</td>\n",
       "      <td>663713001</td>\n",
       "      <td>0.050831</td>\n",
       "      <td>2</td>\n",
       "    </tr>\n",
       "    <tr>\n",
       "      <th>1</th>\n",
       "      <td>2018-09-20</td>\n",
       "      <td>000058a12d5b43e67d225668fa1f8d618c13dc232df0ca...</td>\n",
       "      <td>541518023</td>\n",
       "      <td>0.030492</td>\n",
       "      <td>2</td>\n",
       "    </tr>\n",
       "    <tr>\n",
       "      <th>2</th>\n",
       "      <td>2018-09-20</td>\n",
       "      <td>00007d2de826758b65a93dd24ce629ed66842531df6699...</td>\n",
       "      <td>505221004</td>\n",
       "      <td>0.015237</td>\n",
       "      <td>2</td>\n",
       "    </tr>\n",
       "    <tr>\n",
       "      <th>3</th>\n",
       "      <td>2018-09-20</td>\n",
       "      <td>00007d2de826758b65a93dd24ce629ed66842531df6699...</td>\n",
       "      <td>685687003</td>\n",
       "      <td>0.016932</td>\n",
       "      <td>2</td>\n",
       "    </tr>\n",
       "    <tr>\n",
       "      <th>4</th>\n",
       "      <td>2018-09-20</td>\n",
       "      <td>00007d2de826758b65a93dd24ce629ed66842531df6699...</td>\n",
       "      <td>685687004</td>\n",
       "      <td>0.016932</td>\n",
       "      <td>2</td>\n",
       "    </tr>\n",
       "    <tr>\n",
       "      <th>...</th>\n",
       "      <td>...</td>\n",
       "      <td>...</td>\n",
       "      <td>...</td>\n",
       "      <td>...</td>\n",
       "      <td>...</td>\n",
       "    </tr>\n",
       "    <tr>\n",
       "      <th>28813412</th>\n",
       "      <td>2020-09-22</td>\n",
       "      <td>ffd4cf2217de4a0a3f9f610cdec334c803692a18af08ac...</td>\n",
       "      <td>902288001</td>\n",
       "      <td>0.022017</td>\n",
       "      <td>2</td>\n",
       "    </tr>\n",
       "    <tr>\n",
       "      <th>28813413</th>\n",
       "      <td>2020-09-22</td>\n",
       "      <td>ffd4cf2217de4a0a3f9f610cdec334c803692a18af08ac...</td>\n",
       "      <td>856440002</td>\n",
       "      <td>0.042356</td>\n",
       "      <td>2</td>\n",
       "    </tr>\n",
       "    <tr>\n",
       "      <th>28813414</th>\n",
       "      <td>2020-09-22</td>\n",
       "      <td>fff2282977442e327b45d8c89afde25617d00124d0f999...</td>\n",
       "      <td>929511001</td>\n",
       "      <td>0.059305</td>\n",
       "      <td>2</td>\n",
       "    </tr>\n",
       "    <tr>\n",
       "      <th>28813415</th>\n",
       "      <td>2020-09-22</td>\n",
       "      <td>fff2282977442e327b45d8c89afde25617d00124d0f999...</td>\n",
       "      <td>891322004</td>\n",
       "      <td>0.042356</td>\n",
       "      <td>2</td>\n",
       "    </tr>\n",
       "    <tr>\n",
       "      <th>28813418</th>\n",
       "      <td>2020-09-22</td>\n",
       "      <td>fffef3b6b73545df065b521e19f64bf6fe93bfd450ab20...</td>\n",
       "      <td>898573003</td>\n",
       "      <td>0.033881</td>\n",
       "      <td>2</td>\n",
       "    </tr>\n",
       "  </tbody>\n",
       "</table>\n",
       "<p>19686806 rows × 5 columns</p>\n",
       "</div>"
      ],
      "text/plain": [
       "              t_dat                                        customer_id  \\\n",
       "0        2018-09-20  000058a12d5b43e67d225668fa1f8d618c13dc232df0ca...   \n",
       "1        2018-09-20  000058a12d5b43e67d225668fa1f8d618c13dc232df0ca...   \n",
       "2        2018-09-20  00007d2de826758b65a93dd24ce629ed66842531df6699...   \n",
       "3        2018-09-20  00007d2de826758b65a93dd24ce629ed66842531df6699...   \n",
       "4        2018-09-20  00007d2de826758b65a93dd24ce629ed66842531df6699...   \n",
       "...             ...                                                ...   \n",
       "28813412 2020-09-22  ffd4cf2217de4a0a3f9f610cdec334c803692a18af08ac...   \n",
       "28813413 2020-09-22  ffd4cf2217de4a0a3f9f610cdec334c803692a18af08ac...   \n",
       "28813414 2020-09-22  fff2282977442e327b45d8c89afde25617d00124d0f999...   \n",
       "28813415 2020-09-22  fff2282977442e327b45d8c89afde25617d00124d0f999...   \n",
       "28813418 2020-09-22  fffef3b6b73545df065b521e19f64bf6fe93bfd450ab20...   \n",
       "\n",
       "         article_id     price sales_channel_id  \n",
       "0         663713001  0.050831                2  \n",
       "1         541518023  0.030492                2  \n",
       "2         505221004  0.015237                2  \n",
       "3         685687003  0.016932                2  \n",
       "4         685687004  0.016932                2  \n",
       "...             ...       ...              ...  \n",
       "28813412  902288001  0.022017                2  \n",
       "28813413  856440002  0.042356                2  \n",
       "28813414  929511001  0.059305                2  \n",
       "28813415  891322004  0.042356                2  \n",
       "28813418  898573003  0.033881                2  \n",
       "\n",
       "[19686806 rows x 5 columns]"
      ]
     },
     "execution_count": 39,
     "metadata": {},
     "output_type": "execute_result"
    }
   ],
   "source": [
    "df_channel_2 = df_transactions[df_transactions[\"sales_channel_id\"] == 2]\n",
    "df_channel_2"
   ]
  },
  {
   "cell_type": "code",
   "execution_count": 40,
   "metadata": {
    "id": "9951f8b7",
    "outputId": "04bbf53b-7e8e-426a-c21e-f3e8538c4b2a"
   },
   "outputs": [
    {
     "data": {
      "text/html": [
       "<div>\n",
       "<style scoped>\n",
       "    .dataframe tbody tr th:only-of-type {\n",
       "        vertical-align: middle;\n",
       "    }\n",
       "\n",
       "    .dataframe tbody tr th {\n",
       "        vertical-align: top;\n",
       "    }\n",
       "\n",
       "    .dataframe thead th {\n",
       "        text-align: right;\n",
       "    }\n",
       "</style>\n",
       "<table border=\"1\" class=\"dataframe\">\n",
       "  <thead>\n",
       "    <tr style=\"text-align: right;\">\n",
       "      <th></th>\n",
       "      <th>t_dat</th>\n",
       "      <th>transactions</th>\n",
       "    </tr>\n",
       "  </thead>\n",
       "  <tbody>\n",
       "    <tr>\n",
       "      <th>0</th>\n",
       "      <td>2018-09-20</td>\n",
       "      <td>12222</td>\n",
       "    </tr>\n",
       "    <tr>\n",
       "      <th>1</th>\n",
       "      <td>2018-09-21</td>\n",
       "      <td>13395</td>\n",
       "    </tr>\n",
       "    <tr>\n",
       "      <th>2</th>\n",
       "      <td>2018-09-22</td>\n",
       "      <td>7513</td>\n",
       "    </tr>\n",
       "    <tr>\n",
       "      <th>3</th>\n",
       "      <td>2018-09-23</td>\n",
       "      <td>6633</td>\n",
       "    </tr>\n",
       "    <tr>\n",
       "      <th>4</th>\n",
       "      <td>2018-09-24</td>\n",
       "      <td>8167</td>\n",
       "    </tr>\n",
       "    <tr>\n",
       "      <th>...</th>\n",
       "      <td>...</td>\n",
       "      <td>...</td>\n",
       "    </tr>\n",
       "    <tr>\n",
       "      <th>684</th>\n",
       "      <td>2020-09-18</td>\n",
       "      <td>13253</td>\n",
       "    </tr>\n",
       "    <tr>\n",
       "      <th>685</th>\n",
       "      <td>2020-09-19</td>\n",
       "      <td>15245</td>\n",
       "    </tr>\n",
       "    <tr>\n",
       "      <th>686</th>\n",
       "      <td>2020-09-20</td>\n",
       "      <td>6859</td>\n",
       "    </tr>\n",
       "    <tr>\n",
       "      <th>687</th>\n",
       "      <td>2020-09-21</td>\n",
       "      <td>7235</td>\n",
       "    </tr>\n",
       "    <tr>\n",
       "      <th>688</th>\n",
       "      <td>2020-09-22</td>\n",
       "      <td>9198</td>\n",
       "    </tr>\n",
       "  </tbody>\n",
       "</table>\n",
       "<p>689 rows × 2 columns</p>\n",
       "</div>"
      ],
      "text/plain": [
       "         t_dat  transactions\n",
       "0   2018-09-20         12222\n",
       "1   2018-09-21         13395\n",
       "2   2018-09-22          7513\n",
       "3   2018-09-23          6633\n",
       "4   2018-09-24          8167\n",
       "..         ...           ...\n",
       "684 2020-09-18         13253\n",
       "685 2020-09-19         15245\n",
       "686 2020-09-20          6859\n",
       "687 2020-09-21          7235\n",
       "688 2020-09-22          9198\n",
       "\n",
       "[689 rows x 2 columns]"
      ]
     },
     "execution_count": 40,
     "metadata": {},
     "output_type": "execute_result"
    }
   ],
   "source": [
    "df_sales_channel_1 = pd.DataFrame()\n",
    "df_sales_channel_1[\"transactions\"] = df_channel_1[\"t_dat\"].value_counts()\n",
    "df_sales_channel_1.reset_index(level=0, inplace=True)\n",
    "df_sales_channel_1.rename(columns={\"index\": \"t_dat\"}, inplace=True)\n",
    "df_sales_channel_1 = df_sales_channel_1.sort_values(\"t_dat\", ascending = True, ignore_index = True)\n",
    "df_sales_channel_1"
   ]
  },
  {
   "cell_type": "code",
   "execution_count": 41,
   "metadata": {
    "id": "7e012315",
    "outputId": "ce2a24a5-754d-4bea-a14a-c98058593d6c"
   },
   "outputs": [
    {
     "data": {
      "text/html": [
       "<div>\n",
       "<style scoped>\n",
       "    .dataframe tbody tr th:only-of-type {\n",
       "        vertical-align: middle;\n",
       "    }\n",
       "\n",
       "    .dataframe tbody tr th {\n",
       "        vertical-align: top;\n",
       "    }\n",
       "\n",
       "    .dataframe thead th {\n",
       "        text-align: right;\n",
       "    }\n",
       "</style>\n",
       "<table border=\"1\" class=\"dataframe\">\n",
       "  <thead>\n",
       "    <tr style=\"text-align: right;\">\n",
       "      <th></th>\n",
       "      <th>t_dat</th>\n",
       "      <th>transactions</th>\n",
       "    </tr>\n",
       "  </thead>\n",
       "  <tbody>\n",
       "    <tr>\n",
       "      <th>0</th>\n",
       "      <td>2018-09-20</td>\n",
       "      <td>31497</td>\n",
       "    </tr>\n",
       "    <tr>\n",
       "      <th>1</th>\n",
       "      <td>2018-09-21</td>\n",
       "      <td>29615</td>\n",
       "    </tr>\n",
       "    <tr>\n",
       "      <th>2</th>\n",
       "      <td>2018-09-22</td>\n",
       "      <td>8763</td>\n",
       "    </tr>\n",
       "    <tr>\n",
       "      <th>3</th>\n",
       "      <td>2018-09-23</td>\n",
       "      <td>40000</td>\n",
       "    </tr>\n",
       "    <tr>\n",
       "      <th>4</th>\n",
       "      <td>2018-09-24</td>\n",
       "      <td>33206</td>\n",
       "    </tr>\n",
       "    <tr>\n",
       "      <th>...</th>\n",
       "      <td>...</td>\n",
       "      <td>...</td>\n",
       "    </tr>\n",
       "    <tr>\n",
       "      <th>729</th>\n",
       "      <td>2020-09-18</td>\n",
       "      <td>22537</td>\n",
       "    </tr>\n",
       "    <tr>\n",
       "      <th>730</th>\n",
       "      <td>2020-09-19</td>\n",
       "      <td>18611</td>\n",
       "    </tr>\n",
       "    <tr>\n",
       "      <th>731</th>\n",
       "      <td>2020-09-20</td>\n",
       "      <td>21285</td>\n",
       "    </tr>\n",
       "    <tr>\n",
       "      <th>732</th>\n",
       "      <td>2020-09-21</td>\n",
       "      <td>21693</td>\n",
       "    </tr>\n",
       "    <tr>\n",
       "      <th>733</th>\n",
       "      <td>2020-09-22</td>\n",
       "      <td>20466</td>\n",
       "    </tr>\n",
       "  </tbody>\n",
       "</table>\n",
       "<p>734 rows × 2 columns</p>\n",
       "</div>"
      ],
      "text/plain": [
       "         t_dat  transactions\n",
       "0   2018-09-20         31497\n",
       "1   2018-09-21         29615\n",
       "2   2018-09-22          8763\n",
       "3   2018-09-23         40000\n",
       "4   2018-09-24         33206\n",
       "..         ...           ...\n",
       "729 2020-09-18         22537\n",
       "730 2020-09-19         18611\n",
       "731 2020-09-20         21285\n",
       "732 2020-09-21         21693\n",
       "733 2020-09-22         20466\n",
       "\n",
       "[734 rows x 2 columns]"
      ]
     },
     "execution_count": 41,
     "metadata": {},
     "output_type": "execute_result"
    }
   ],
   "source": [
    "df_sales_channel_2 = pd.DataFrame()\n",
    "df_sales_channel_2[\"transactions\"] = df_channel_2[\"t_dat\"].value_counts()\n",
    "df_sales_channel_2.reset_index(level=0, inplace=True)\n",
    "df_sales_channel_2.rename(columns={\"index\": \"t_dat\"}, inplace=True)\n",
    "df_sales_channel_2 = df_sales_channel_2.sort_values(\"t_dat\", ascending = True, ignore_index = True)\n",
    "df_sales_channel_2"
   ]
  },
  {
   "cell_type": "code",
   "execution_count": 42,
   "metadata": {
    "id": "2b4e3d67",
    "outputId": "cbc9172f-191e-421c-b389-e94fd3fccd29"
   },
   "outputs": [
    {
     "data": {
      "image/png": "[encoded data removed]",
      "text/plain": [
       "<Figure size 1152x432 with 1 Axes>"
      ]
     },
     "metadata": {
      "needs_background": "light"
     },
     "output_type": "display_data"
    }
   ],
   "source": [
    "fig, ax = plt.subplots(1, 1, figsize=(16,6))\n",
    "plt.plot(df_sales_channel_1[\"t_dat\"], df_sales_channel_1[\"transactions\"], color=\"Orange\")\n",
    "plt.plot(df_sales_channel_2[\"t_dat\"], df_sales_channel_2[\"transactions\"], color=\"Blue\")\n",
    "plt.xlabel(\"Date\")\n",
    "plt.ylabel(\"Transactions\")\n",
    "plt.title(f\"Transactions per day, grouped by Sales Channel\")\n",
    "plt.show()"
   ]
  },
  {
   "cell_type": "markdown",
   "metadata": {
    "id": "cbdc7d4a"
   },
   "source": [
    "Observem que al llarg de tot el període, sempre predomina la venta online, excepte alguns pics ocasionals. En particular, destaquem el periode on la venta física es nula, que es correspon amb el periode de covid."
   ]
  },
  {
   "cell_type": "markdown",
   "metadata": {},
   "source": [
    "Finalment, exportem el dataset modificat per a utilitzar-lo per el model:"
   ]
  },
  {
   "cell_type": "code",
   "execution_count": 43,
   "metadata": {},
   "outputs": [],
   "source": [
    "df_transactions.to_csv('transactions_train_model.csv',index=False)"
   ]
  }
 ],
 "metadata": {
  "colab": {
   "name": "transactions.ipynb",
   "provenance": []
  },
  "kernelspec": {
   "display_name": "Python 3",
   "language": "python",
   "name": "python3"
  },
  "language_info": {
   "codemirror_mode": {
    "name": "ipython",
    "version": 3
   },
   "file_extension": ".py",
   "mimetype": "text/x-python",
   "name": "python",
   "nbconvert_exporter": "python",
   "pygments_lexer": "ipython3",
   "version": "3.7.10"
  }
 },
 "nbformat": 4,
 "nbformat_minor": 1
}
